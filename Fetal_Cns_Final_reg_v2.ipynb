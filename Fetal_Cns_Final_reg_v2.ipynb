{
  "nbformat": 4,
  "nbformat_minor": 0,
  "metadata": {
    "colab": {
      "provenance": [],
      "authorship_tag": "ABX9TyNWvdMEmc3SD5RV6cKUaGTu",
      "include_colab_link": true
    },
    "kernelspec": {
      "name": "python3",
      "display_name": "Python 3"
    },
    "language_info": {
      "name": "python"
    }
  },
  "cells": [
    {
      "cell_type": "markdown",
      "metadata": {
        "id": "view-in-github",
        "colab_type": "text"
      },
      "source": [
        "<a href=\"https://colab.research.google.com/github/nadavmoyal/Final_Project-FetalCns/blob/main/Fetal_Cns_Final_reg_v2.ipynb\" target=\"_parent\"><img src=\"https://colab.research.google.com/assets/colab-badge.svg\" alt=\"Open In Colab\"/></a>"
      ]
    },
    {
      "cell_type": "code",
      "source": [
        "# Part 1: Imports and Mounting Drive\n",
        "from google.colab import drive\n",
        "drive.mount('/content/drive')\n",
        "import torch\n",
        "import torch.nn as nn\n",
        "import torch.optim as optim\n",
        "import torchvision.transforms as transforms\n",
        "import torchvision.datasets as datasets\n",
        "import pandas as pd\n",
        "from torch.utils.data import DataLoader, Dataset\n",
        "from PIL import Image\n",
        "import os\n",
        "\n",
        "# Part 2: Define CustomDataset Class and Read CSV File\n",
        "class CustomDataset(Dataset):\n",
        "    def __init__(self, csv_file, root_dir, transform=None):\n",
        "        self.data_frame = pd.read_csv(csv_file)\n",
        "        self.root_dir = root_dir\n",
        "        self.transform = transform\n",
        "\n",
        "    def __len__(self):\n",
        "        return len(self.data_frame)\n",
        "\n",
        "    def __getitem__(self, idx):\n",
        "        img_name = os.path.join(self.root_dir, self.data_frame.iloc[idx, 0])\n",
        "        image = Image.open(img_name)\n",
        "        if self.transform:\n",
        "            image = self.transform(image)\n",
        "\n",
        "        label = self.data_frame.iloc[idx, 2]  # Assuming the third column is the label\n",
        "\n",
        "        return image, label\n",
        "\n",
        "# Read the list of images from the CSV file\n",
        "train_csv = pd.read_csv(\"/content/drive/MyDrive/FinalProject/training_set_pixel_size_and_HC.csv\")\n",
        "\n",
        "# Part 3: Define Transforms and Create Dataset\n",
        "transform = transforms.Compose([\n",
        "    transforms.Resize((64, 64)),\n",
        "    transforms.ToTensor()\n",
        "])\n",
        "\n",
        "train_dataset = CustomDataset(csv_file=\"/content/drive/MyDrive/FinalProject/training_set_pixel_size_and_HC.csv\",\n",
        "                              root_dir=\"/content/drive/MyDrive/FinalProject/Dataset/training_set/training_set/\",\n",
        "                              transform=transform)\n",
        "\n",
        "# Part 4: Create DataLoader\n",
        "batch_size = 32\n",
        "train_loader = DataLoader(train_dataset, batch_size=batch_size, shuffle=True)\n",
        "\n",
        "# Part 5: Define Your Model\n",
        "class YourModel(nn.Module):\n",
        "    def __init__(self, input_channels=1, input_size=64):\n",
        "        super(YourModel, self).__init__()\n",
        "        self.conv1 = nn.Conv2d(input_channels, 16, 3, padding=1)\n",
        "        self.conv2 = nn.Conv2d(16, 32, 3, padding=1)\n",
        "        self.pool = nn.MaxPool2d(2, 2)\n",
        "        conv_output_size = input_size // 2 // 2\n",
        "        self.fc1 = nn.Linear(32 * conv_output_size * conv_output_size, 128)\n",
        "        self.fc2 = nn.Linear(128, 1)\n",
        "\n",
        "    def forward(self, x):\n",
        "        x = self.pool(torch.relu(self.conv1(x)))\n",
        "        x = self.pool(torch.relu(self.conv2(x)))\n",
        "        x = torch.flatten(x, 1)\n",
        "        x = torch.relu(self.fc1(x))\n",
        "        x = self.fc2(x)\n",
        "        return x\n",
        "\n",
        "model = YourModel(input_channels=1, input_size=64)\n",
        "\n",
        "# Part 6: Define Training Parameters and Optimizer\n",
        "learning_rate = 0.001\n",
        "criterion = nn.MSELoss()\n",
        "optimizer = optim.Adam(model.parameters(), lr=learning_rate)\n",
        "\n",
        "# Part 7: Training Loop\n",
        "epochs = 10\n",
        "for epoch in range(epochs):\n",
        "    model.train()\n",
        "    running_loss = 0.0\n",
        "    for i, data in enumerate(train_loader, 0):\n",
        "        inputs, labels = data\n",
        "        inputs = inputs.float()  # Convert inputs to Float\n",
        "        labels = labels.float()  # Convert labels to Float\n",
        "        optimizer.zero_grad()\n",
        "        outputs = model(inputs)\n",
        "        loss = criterion(outputs.float(), labels.unsqueeze(1))\n",
        "        loss.backward()\n",
        "        optimizer.step()\n",
        "        running_loss += loss.item()\n",
        "        if i  % 32  == 0:\n",
        "            print(f'Epoch {epoch + 1}, Mini-batch {i + 1}, Loss: {running_loss / 100:.4f}')\n",
        "            running_loss = 0.0\n",
        "\n",
        "# Part 8: Evaluation (Not included as it's not necessary for training)\n"
      ],
      "metadata": {
        "colab": {
          "base_uri": "https://localhost:8080/"
        },
        "id": "Odc3IJZ5CAmC",
        "outputId": "8a8b763f-6437-4f45-a153-3e3156bbb8d4"
      },
      "execution_count": 89,
      "outputs": [
        {
          "output_type": "stream",
          "name": "stdout",
          "text": [
            "Drive already mounted at /content/drive; to attempt to forcibly remount, call drive.mount(\"/content/drive\", force_remount=True).\n",
            "Epoch 1, Mini-batch 1, Loss: 368.7505\n",
            "Epoch 2, Mini-batch 1, Loss: 57.9532\n",
            "Epoch 3, Mini-batch 1, Loss: 41.3163\n",
            "Epoch 4, Mini-batch 1, Loss: 43.9428\n",
            "Epoch 5, Mini-batch 1, Loss: 31.7458\n",
            "Epoch 6, Mini-batch 1, Loss: 50.3168\n",
            "Epoch 7, Mini-batch 1, Loss: 35.5899\n",
            "Epoch 8, Mini-batch 1, Loss: 54.8524\n",
            "Epoch 9, Mini-batch 1, Loss: 33.4360\n",
            "Epoch 10, Mini-batch 1, Loss: 21.9853\n"
          ]
        }
      ]
    },
    {
      "cell_type": "code",
      "source": [
        "# Part 8: Save the trained model\n",
        "model_path = \"/content/drive/MyDrive/FinalProject/trained_model.pth\"\n",
        "torch.save(model.state_dict(), model_path)\n",
        "print(\"Model saved successfully!\")"
      ],
      "metadata": {
        "colab": {
          "base_uri": "https://localhost:8080/"
        },
        "id": "up5YazFRFP8k",
        "outputId": "f146aea1-7f13-44c9-8d81-70ba5ab654a1"
      },
      "execution_count": 90,
      "outputs": [
        {
          "output_type": "stream",
          "name": "stdout",
          "text": [
            "Model saved successfully!\n"
          ]
        }
      ]
    },
    {
      "cell_type": "code",
      "source": [
        "# Load the trained model\n",
        "model_path = \"/content/drive/MyDrive/FinalProject/trained_model.pth\"\n",
        "model = YourModel(input_channels=1, input_size=64)\n",
        "model.load_state_dict(torch.load(model_path))\n",
        "model.eval()\n",
        "\n",
        "# Function to predict head circumference from a new image\n",
        "def predict_head_circumference(image_path, model):\n",
        "    # Open and preprocess the new image\n",
        "    transform = transforms.Compose([\n",
        "        transforms.Resize((64, 64)),\n",
        "        transforms.ToTensor()\n",
        "    ])\n",
        "    image = Image.open(image_path)\n",
        "    image_tensor = transform(image).unsqueeze(0)  # Add batch dimension\n",
        "\n",
        "    # Make prediction\n",
        "    with torch.no_grad():\n",
        "        output = model(image_tensor.float())\n",
        "\n",
        "    return output.item()  # Return the predicted head circumference as a scalar\n",
        "\n",
        "# Path for the new image\n",
        "new_image_path = \"/content/drive/MyDrive/FinalProject/Dataset/training_set/training_set/001_HC.png\"\n",
        "# Call the function to predict head circumference from the new image\n",
        "predicted_circumference = predict_head_circumference(new_image_path, model)\n",
        "print(\"Predicted Head Circumference:\", predicted_circumference)\n"
      ],
      "metadata": {
        "colab": {
          "base_uri": "https://localhost:8080/"
        },
        "id": "ztmZhcmaFeXb",
        "outputId": "0a5c341d-be83-4cbc-b495-dd4821e3c7fd"
      },
      "execution_count": 98,
      "outputs": [
        {
          "output_type": "stream",
          "name": "stdout",
          "text": [
            "Predicted Head Circumference: 184.13450622558594\n"
          ]
        }
      ]
    }
  ]
}