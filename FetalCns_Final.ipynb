{
  "cells": [
    {
      "cell_type": "code",
      "execution_count": 1,
      "metadata": {
        "colab": {
          "base_uri": "https://localhost:8080/"
        },
        "id": "j-M9GCmo8rQ8",
        "outputId": "8f292eda-255b-468a-ea63-5c54a69e290a"
      },
      "outputs": [
        {
          "output_type": "stream",
          "name": "stdout",
          "text": [
            "Mounted at /content/drive\n"
          ]
        }
      ],
      "source": [
        "# connectiong to google drive\n",
        "from google.colab import drive\n",
        "drive.mount('/content/drive')"
      ]
    },
    {
      "cell_type": "code",
      "execution_count": 2,
      "metadata": {
        "id": "xIdbyMUcOVca"
      },
      "outputs": [],
      "source": [
        "import numpy as np\n",
        "import pandas as pd\n",
        "import matplotlib.pyplot as plt\n",
        "%matplotlib inline\n",
        "import os"
      ]
    },
    {
      "cell_type": "code",
      "execution_count": 3,
      "metadata": {
        "id": "--bNjUVyPWX_"
      },
      "outputs": [],
      "source": [
        "test_csv = pd.read_csv(\"/content/drive/MyDrive/FinalProject/test_set_pixel_size.csv\")\n",
        "train_csv = pd.read_csv(\"/content/drive/MyDrive/FinalProject/training_set_pixel_size_and_HC.csv\")\n",
        "test_img = \"/content/drive/MyDrive/FinalProject/Dataset/test_set/\"\n",
        "train_img =\"/content/drive/MyDrive/FinalProject/Dataset/training_set/training_set/\""
      ]
    },
    {
      "cell_type": "code",
      "execution_count": 4,
      "metadata": {
        "colab": {
          "base_uri": "https://localhost:8080/",
          "height": 206
        },
        "id": "V-GDVodJQgSk",
        "outputId": "f8312735-2251-4f79-fe0f-e5c9c396cc57"
      },
      "outputs": [
        {
          "output_type": "execute_result",
          "data": {
            "text/plain": [
              "     filename  pixel size(mm)  head circumference (mm)\n",
              "0  000_HC.png        0.069136                    44.30\n",
              "1  001_HC.png        0.089659                    56.81\n",
              "2  002_HC.png        0.062033                    68.75\n",
              "3  003_HC.png        0.091291                    69.00\n",
              "4  004_HC.png        0.061240                    59.81"
            ],
            "text/html": [
              "\n",
              "  <div id=\"df-bf28fca1-c733-4339-b2fb-c558d58b59b0\" class=\"colab-df-container\">\n",
              "    <div>\n",
              "<style scoped>\n",
              "    .dataframe tbody tr th:only-of-type {\n",
              "        vertical-align: middle;\n",
              "    }\n",
              "\n",
              "    .dataframe tbody tr th {\n",
              "        vertical-align: top;\n",
              "    }\n",
              "\n",
              "    .dataframe thead th {\n",
              "        text-align: right;\n",
              "    }\n",
              "</style>\n",
              "<table border=\"1\" class=\"dataframe\">\n",
              "  <thead>\n",
              "    <tr style=\"text-align: right;\">\n",
              "      <th></th>\n",
              "      <th>filename</th>\n",
              "      <th>pixel size(mm)</th>\n",
              "      <th>head circumference (mm)</th>\n",
              "    </tr>\n",
              "  </thead>\n",
              "  <tbody>\n",
              "    <tr>\n",
              "      <th>0</th>\n",
              "      <td>000_HC.png</td>\n",
              "      <td>0.069136</td>\n",
              "      <td>44.30</td>\n",
              "    </tr>\n",
              "    <tr>\n",
              "      <th>1</th>\n",
              "      <td>001_HC.png</td>\n",
              "      <td>0.089659</td>\n",
              "      <td>56.81</td>\n",
              "    </tr>\n",
              "    <tr>\n",
              "      <th>2</th>\n",
              "      <td>002_HC.png</td>\n",
              "      <td>0.062033</td>\n",
              "      <td>68.75</td>\n",
              "    </tr>\n",
              "    <tr>\n",
              "      <th>3</th>\n",
              "      <td>003_HC.png</td>\n",
              "      <td>0.091291</td>\n",
              "      <td>69.00</td>\n",
              "    </tr>\n",
              "    <tr>\n",
              "      <th>4</th>\n",
              "      <td>004_HC.png</td>\n",
              "      <td>0.061240</td>\n",
              "      <td>59.81</td>\n",
              "    </tr>\n",
              "  </tbody>\n",
              "</table>\n",
              "</div>\n",
              "    <div class=\"colab-df-buttons\">\n",
              "\n",
              "  <div class=\"colab-df-container\">\n",
              "    <button class=\"colab-df-convert\" onclick=\"convertToInteractive('df-bf28fca1-c733-4339-b2fb-c558d58b59b0')\"\n",
              "            title=\"Convert this dataframe to an interactive table.\"\n",
              "            style=\"display:none;\">\n",
              "\n",
              "  <svg xmlns=\"http://www.w3.org/2000/svg\" height=\"24px\" viewBox=\"0 -960 960 960\">\n",
              "    <path d=\"M120-120v-720h720v720H120Zm60-500h600v-160H180v160Zm220 220h160v-160H400v160Zm0 220h160v-160H400v160ZM180-400h160v-160H180v160Zm440 0h160v-160H620v160ZM180-180h160v-160H180v160Zm440 0h160v-160H620v160Z\"/>\n",
              "  </svg>\n",
              "    </button>\n",
              "\n",
              "  <style>\n",
              "    .colab-df-container {\n",
              "      display:flex;\n",
              "      gap: 12px;\n",
              "    }\n",
              "\n",
              "    .colab-df-convert {\n",
              "      background-color: #E8F0FE;\n",
              "      border: none;\n",
              "      border-radius: 50%;\n",
              "      cursor: pointer;\n",
              "      display: none;\n",
              "      fill: #1967D2;\n",
              "      height: 32px;\n",
              "      padding: 0 0 0 0;\n",
              "      width: 32px;\n",
              "    }\n",
              "\n",
              "    .colab-df-convert:hover {\n",
              "      background-color: #E2EBFA;\n",
              "      box-shadow: 0px 1px 2px rgba(60, 64, 67, 0.3), 0px 1px 3px 1px rgba(60, 64, 67, 0.15);\n",
              "      fill: #174EA6;\n",
              "    }\n",
              "\n",
              "    .colab-df-buttons div {\n",
              "      margin-bottom: 4px;\n",
              "    }\n",
              "\n",
              "    [theme=dark] .colab-df-convert {\n",
              "      background-color: #3B4455;\n",
              "      fill: #D2E3FC;\n",
              "    }\n",
              "\n",
              "    [theme=dark] .colab-df-convert:hover {\n",
              "      background-color: #434B5C;\n",
              "      box-shadow: 0px 1px 3px 1px rgba(0, 0, 0, 0.15);\n",
              "      filter: drop-shadow(0px 1px 2px rgba(0, 0, 0, 0.3));\n",
              "      fill: #FFFFFF;\n",
              "    }\n",
              "  </style>\n",
              "\n",
              "    <script>\n",
              "      const buttonEl =\n",
              "        document.querySelector('#df-bf28fca1-c733-4339-b2fb-c558d58b59b0 button.colab-df-convert');\n",
              "      buttonEl.style.display =\n",
              "        google.colab.kernel.accessAllowed ? 'block' : 'none';\n",
              "\n",
              "      async function convertToInteractive(key) {\n",
              "        const element = document.querySelector('#df-bf28fca1-c733-4339-b2fb-c558d58b59b0');\n",
              "        const dataTable =\n",
              "          await google.colab.kernel.invokeFunction('convertToInteractive',\n",
              "                                                    [key], {});\n",
              "        if (!dataTable) return;\n",
              "\n",
              "        const docLinkHtml = 'Like what you see? Visit the ' +\n",
              "          '<a target=\"_blank\" href=https://colab.research.google.com/notebooks/data_table.ipynb>data table notebook</a>'\n",
              "          + ' to learn more about interactive tables.';\n",
              "        element.innerHTML = '';\n",
              "        dataTable['output_type'] = 'display_data';\n",
              "        await google.colab.output.renderOutput(dataTable, element);\n",
              "        const docLink = document.createElement('div');\n",
              "        docLink.innerHTML = docLinkHtml;\n",
              "        element.appendChild(docLink);\n",
              "      }\n",
              "    </script>\n",
              "  </div>\n",
              "\n",
              "\n",
              "<div id=\"df-5a7b3bc8-70d6-45c3-a102-0dfb43d927e2\">\n",
              "  <button class=\"colab-df-quickchart\" onclick=\"quickchart('df-5a7b3bc8-70d6-45c3-a102-0dfb43d927e2')\"\n",
              "            title=\"Suggest charts\"\n",
              "            style=\"display:none;\">\n",
              "\n",
              "<svg xmlns=\"http://www.w3.org/2000/svg\" height=\"24px\"viewBox=\"0 0 24 24\"\n",
              "     width=\"24px\">\n",
              "    <g>\n",
              "        <path d=\"M19 3H5c-1.1 0-2 .9-2 2v14c0 1.1.9 2 2 2h14c1.1 0 2-.9 2-2V5c0-1.1-.9-2-2-2zM9 17H7v-7h2v7zm4 0h-2V7h2v10zm4 0h-2v-4h2v4z\"/>\n",
              "    </g>\n",
              "</svg>\n",
              "  </button>\n",
              "\n",
              "<style>\n",
              "  .colab-df-quickchart {\n",
              "      --bg-color: #E8F0FE;\n",
              "      --fill-color: #1967D2;\n",
              "      --hover-bg-color: #E2EBFA;\n",
              "      --hover-fill-color: #174EA6;\n",
              "      --disabled-fill-color: #AAA;\n",
              "      --disabled-bg-color: #DDD;\n",
              "  }\n",
              "\n",
              "  [theme=dark] .colab-df-quickchart {\n",
              "      --bg-color: #3B4455;\n",
              "      --fill-color: #D2E3FC;\n",
              "      --hover-bg-color: #434B5C;\n",
              "      --hover-fill-color: #FFFFFF;\n",
              "      --disabled-bg-color: #3B4455;\n",
              "      --disabled-fill-color: #666;\n",
              "  }\n",
              "\n",
              "  .colab-df-quickchart {\n",
              "    background-color: var(--bg-color);\n",
              "    border: none;\n",
              "    border-radius: 50%;\n",
              "    cursor: pointer;\n",
              "    display: none;\n",
              "    fill: var(--fill-color);\n",
              "    height: 32px;\n",
              "    padding: 0;\n",
              "    width: 32px;\n",
              "  }\n",
              "\n",
              "  .colab-df-quickchart:hover {\n",
              "    background-color: var(--hover-bg-color);\n",
              "    box-shadow: 0 1px 2px rgba(60, 64, 67, 0.3), 0 1px 3px 1px rgba(60, 64, 67, 0.15);\n",
              "    fill: var(--button-hover-fill-color);\n",
              "  }\n",
              "\n",
              "  .colab-df-quickchart-complete:disabled,\n",
              "  .colab-df-quickchart-complete:disabled:hover {\n",
              "    background-color: var(--disabled-bg-color);\n",
              "    fill: var(--disabled-fill-color);\n",
              "    box-shadow: none;\n",
              "  }\n",
              "\n",
              "  .colab-df-spinner {\n",
              "    border: 2px solid var(--fill-color);\n",
              "    border-color: transparent;\n",
              "    border-bottom-color: var(--fill-color);\n",
              "    animation:\n",
              "      spin 1s steps(1) infinite;\n",
              "  }\n",
              "\n",
              "  @keyframes spin {\n",
              "    0% {\n",
              "      border-color: transparent;\n",
              "      border-bottom-color: var(--fill-color);\n",
              "      border-left-color: var(--fill-color);\n",
              "    }\n",
              "    20% {\n",
              "      border-color: transparent;\n",
              "      border-left-color: var(--fill-color);\n",
              "      border-top-color: var(--fill-color);\n",
              "    }\n",
              "    30% {\n",
              "      border-color: transparent;\n",
              "      border-left-color: var(--fill-color);\n",
              "      border-top-color: var(--fill-color);\n",
              "      border-right-color: var(--fill-color);\n",
              "    }\n",
              "    40% {\n",
              "      border-color: transparent;\n",
              "      border-right-color: var(--fill-color);\n",
              "      border-top-color: var(--fill-color);\n",
              "    }\n",
              "    60% {\n",
              "      border-color: transparent;\n",
              "      border-right-color: var(--fill-color);\n",
              "    }\n",
              "    80% {\n",
              "      border-color: transparent;\n",
              "      border-right-color: var(--fill-color);\n",
              "      border-bottom-color: var(--fill-color);\n",
              "    }\n",
              "    90% {\n",
              "      border-color: transparent;\n",
              "      border-bottom-color: var(--fill-color);\n",
              "    }\n",
              "  }\n",
              "</style>\n",
              "\n",
              "  <script>\n",
              "    async function quickchart(key) {\n",
              "      const quickchartButtonEl =\n",
              "        document.querySelector('#' + key + ' button');\n",
              "      quickchartButtonEl.disabled = true;  // To prevent multiple clicks.\n",
              "      quickchartButtonEl.classList.add('colab-df-spinner');\n",
              "      try {\n",
              "        const charts = await google.colab.kernel.invokeFunction(\n",
              "            'suggestCharts', [key], {});\n",
              "      } catch (error) {\n",
              "        console.error('Error during call to suggestCharts:', error);\n",
              "      }\n",
              "      quickchartButtonEl.classList.remove('colab-df-spinner');\n",
              "      quickchartButtonEl.classList.add('colab-df-quickchart-complete');\n",
              "    }\n",
              "    (() => {\n",
              "      let quickchartButtonEl =\n",
              "        document.querySelector('#df-5a7b3bc8-70d6-45c3-a102-0dfb43d927e2 button');\n",
              "      quickchartButtonEl.style.display =\n",
              "        google.colab.kernel.accessAllowed ? 'block' : 'none';\n",
              "    })();\n",
              "  </script>\n",
              "</div>\n",
              "\n",
              "    </div>\n",
              "  </div>\n"
            ]
          },
          "metadata": {},
          "execution_count": 4
        }
      ],
      "source": [
        "train_csv.head()"
      ]
    },
    {
      "cell_type": "code",
      "execution_count": 5,
      "metadata": {
        "colab": {
          "base_uri": "https://localhost:8080/",
          "height": 206
        },
        "id": "teDDGi4gQjq0",
        "outputId": "e72c821b-e60b-4b99-d036-dd497f5c00ee"
      },
      "outputs": [
        {
          "output_type": "execute_result",
          "data": {
            "text/plain": [
              "     filename  pixel size(mm)\n",
              "0  000_HC.png        0.235857\n",
              "1  001_HC.png        0.067973\n",
              "2  002_HC.png        0.165202\n",
              "3  003_HC.png        0.096674\n",
              "4  004_HC.png        0.202203"
            ],
            "text/html": [
              "\n",
              "  <div id=\"df-f737f82d-35ec-4894-aff6-247b237038ae\" class=\"colab-df-container\">\n",
              "    <div>\n",
              "<style scoped>\n",
              "    .dataframe tbody tr th:only-of-type {\n",
              "        vertical-align: middle;\n",
              "    }\n",
              "\n",
              "    .dataframe tbody tr th {\n",
              "        vertical-align: top;\n",
              "    }\n",
              "\n",
              "    .dataframe thead th {\n",
              "        text-align: right;\n",
              "    }\n",
              "</style>\n",
              "<table border=\"1\" class=\"dataframe\">\n",
              "  <thead>\n",
              "    <tr style=\"text-align: right;\">\n",
              "      <th></th>\n",
              "      <th>filename</th>\n",
              "      <th>pixel size(mm)</th>\n",
              "    </tr>\n",
              "  </thead>\n",
              "  <tbody>\n",
              "    <tr>\n",
              "      <th>0</th>\n",
              "      <td>000_HC.png</td>\n",
              "      <td>0.235857</td>\n",
              "    </tr>\n",
              "    <tr>\n",
              "      <th>1</th>\n",
              "      <td>001_HC.png</td>\n",
              "      <td>0.067973</td>\n",
              "    </tr>\n",
              "    <tr>\n",
              "      <th>2</th>\n",
              "      <td>002_HC.png</td>\n",
              "      <td>0.165202</td>\n",
              "    </tr>\n",
              "    <tr>\n",
              "      <th>3</th>\n",
              "      <td>003_HC.png</td>\n",
              "      <td>0.096674</td>\n",
              "    </tr>\n",
              "    <tr>\n",
              "      <th>4</th>\n",
              "      <td>004_HC.png</td>\n",
              "      <td>0.202203</td>\n",
              "    </tr>\n",
              "  </tbody>\n",
              "</table>\n",
              "</div>\n",
              "    <div class=\"colab-df-buttons\">\n",
              "\n",
              "  <div class=\"colab-df-container\">\n",
              "    <button class=\"colab-df-convert\" onclick=\"convertToInteractive('df-f737f82d-35ec-4894-aff6-247b237038ae')\"\n",
              "            title=\"Convert this dataframe to an interactive table.\"\n",
              "            style=\"display:none;\">\n",
              "\n",
              "  <svg xmlns=\"http://www.w3.org/2000/svg\" height=\"24px\" viewBox=\"0 -960 960 960\">\n",
              "    <path d=\"M120-120v-720h720v720H120Zm60-500h600v-160H180v160Zm220 220h160v-160H400v160Zm0 220h160v-160H400v160ZM180-400h160v-160H180v160Zm440 0h160v-160H620v160ZM180-180h160v-160H180v160Zm440 0h160v-160H620v160Z\"/>\n",
              "  </svg>\n",
              "    </button>\n",
              "\n",
              "  <style>\n",
              "    .colab-df-container {\n",
              "      display:flex;\n",
              "      gap: 12px;\n",
              "    }\n",
              "\n",
              "    .colab-df-convert {\n",
              "      background-color: #E8F0FE;\n",
              "      border: none;\n",
              "      border-radius: 50%;\n",
              "      cursor: pointer;\n",
              "      display: none;\n",
              "      fill: #1967D2;\n",
              "      height: 32px;\n",
              "      padding: 0 0 0 0;\n",
              "      width: 32px;\n",
              "    }\n",
              "\n",
              "    .colab-df-convert:hover {\n",
              "      background-color: #E2EBFA;\n",
              "      box-shadow: 0px 1px 2px rgba(60, 64, 67, 0.3), 0px 1px 3px 1px rgba(60, 64, 67, 0.15);\n",
              "      fill: #174EA6;\n",
              "    }\n",
              "\n",
              "    .colab-df-buttons div {\n",
              "      margin-bottom: 4px;\n",
              "    }\n",
              "\n",
              "    [theme=dark] .colab-df-convert {\n",
              "      background-color: #3B4455;\n",
              "      fill: #D2E3FC;\n",
              "    }\n",
              "\n",
              "    [theme=dark] .colab-df-convert:hover {\n",
              "      background-color: #434B5C;\n",
              "      box-shadow: 0px 1px 3px 1px rgba(0, 0, 0, 0.15);\n",
              "      filter: drop-shadow(0px 1px 2px rgba(0, 0, 0, 0.3));\n",
              "      fill: #FFFFFF;\n",
              "    }\n",
              "  </style>\n",
              "\n",
              "    <script>\n",
              "      const buttonEl =\n",
              "        document.querySelector('#df-f737f82d-35ec-4894-aff6-247b237038ae button.colab-df-convert');\n",
              "      buttonEl.style.display =\n",
              "        google.colab.kernel.accessAllowed ? 'block' : 'none';\n",
              "\n",
              "      async function convertToInteractive(key) {\n",
              "        const element = document.querySelector('#df-f737f82d-35ec-4894-aff6-247b237038ae');\n",
              "        const dataTable =\n",
              "          await google.colab.kernel.invokeFunction('convertToInteractive',\n",
              "                                                    [key], {});\n",
              "        if (!dataTable) return;\n",
              "\n",
              "        const docLinkHtml = 'Like what you see? Visit the ' +\n",
              "          '<a target=\"_blank\" href=https://colab.research.google.com/notebooks/data_table.ipynb>data table notebook</a>'\n",
              "          + ' to learn more about interactive tables.';\n",
              "        element.innerHTML = '';\n",
              "        dataTable['output_type'] = 'display_data';\n",
              "        await google.colab.output.renderOutput(dataTable, element);\n",
              "        const docLink = document.createElement('div');\n",
              "        docLink.innerHTML = docLinkHtml;\n",
              "        element.appendChild(docLink);\n",
              "      }\n",
              "    </script>\n",
              "  </div>\n",
              "\n",
              "\n",
              "<div id=\"df-6a12fd74-cbea-4640-84d4-f67c1989e0f0\">\n",
              "  <button class=\"colab-df-quickchart\" onclick=\"quickchart('df-6a12fd74-cbea-4640-84d4-f67c1989e0f0')\"\n",
              "            title=\"Suggest charts\"\n",
              "            style=\"display:none;\">\n",
              "\n",
              "<svg xmlns=\"http://www.w3.org/2000/svg\" height=\"24px\"viewBox=\"0 0 24 24\"\n",
              "     width=\"24px\">\n",
              "    <g>\n",
              "        <path d=\"M19 3H5c-1.1 0-2 .9-2 2v14c0 1.1.9 2 2 2h14c1.1 0 2-.9 2-2V5c0-1.1-.9-2-2-2zM9 17H7v-7h2v7zm4 0h-2V7h2v10zm4 0h-2v-4h2v4z\"/>\n",
              "    </g>\n",
              "</svg>\n",
              "  </button>\n",
              "\n",
              "<style>\n",
              "  .colab-df-quickchart {\n",
              "      --bg-color: #E8F0FE;\n",
              "      --fill-color: #1967D2;\n",
              "      --hover-bg-color: #E2EBFA;\n",
              "      --hover-fill-color: #174EA6;\n",
              "      --disabled-fill-color: #AAA;\n",
              "      --disabled-bg-color: #DDD;\n",
              "  }\n",
              "\n",
              "  [theme=dark] .colab-df-quickchart {\n",
              "      --bg-color: #3B4455;\n",
              "      --fill-color: #D2E3FC;\n",
              "      --hover-bg-color: #434B5C;\n",
              "      --hover-fill-color: #FFFFFF;\n",
              "      --disabled-bg-color: #3B4455;\n",
              "      --disabled-fill-color: #666;\n",
              "  }\n",
              "\n",
              "  .colab-df-quickchart {\n",
              "    background-color: var(--bg-color);\n",
              "    border: none;\n",
              "    border-radius: 50%;\n",
              "    cursor: pointer;\n",
              "    display: none;\n",
              "    fill: var(--fill-color);\n",
              "    height: 32px;\n",
              "    padding: 0;\n",
              "    width: 32px;\n",
              "  }\n",
              "\n",
              "  .colab-df-quickchart:hover {\n",
              "    background-color: var(--hover-bg-color);\n",
              "    box-shadow: 0 1px 2px rgba(60, 64, 67, 0.3), 0 1px 3px 1px rgba(60, 64, 67, 0.15);\n",
              "    fill: var(--button-hover-fill-color);\n",
              "  }\n",
              "\n",
              "  .colab-df-quickchart-complete:disabled,\n",
              "  .colab-df-quickchart-complete:disabled:hover {\n",
              "    background-color: var(--disabled-bg-color);\n",
              "    fill: var(--disabled-fill-color);\n",
              "    box-shadow: none;\n",
              "  }\n",
              "\n",
              "  .colab-df-spinner {\n",
              "    border: 2px solid var(--fill-color);\n",
              "    border-color: transparent;\n",
              "    border-bottom-color: var(--fill-color);\n",
              "    animation:\n",
              "      spin 1s steps(1) infinite;\n",
              "  }\n",
              "\n",
              "  @keyframes spin {\n",
              "    0% {\n",
              "      border-color: transparent;\n",
              "      border-bottom-color: var(--fill-color);\n",
              "      border-left-color: var(--fill-color);\n",
              "    }\n",
              "    20% {\n",
              "      border-color: transparent;\n",
              "      border-left-color: var(--fill-color);\n",
              "      border-top-color: var(--fill-color);\n",
              "    }\n",
              "    30% {\n",
              "      border-color: transparent;\n",
              "      border-left-color: var(--fill-color);\n",
              "      border-top-color: var(--fill-color);\n",
              "      border-right-color: var(--fill-color);\n",
              "    }\n",
              "    40% {\n",
              "      border-color: transparent;\n",
              "      border-right-color: var(--fill-color);\n",
              "      border-top-color: var(--fill-color);\n",
              "    }\n",
              "    60% {\n",
              "      border-color: transparent;\n",
              "      border-right-color: var(--fill-color);\n",
              "    }\n",
              "    80% {\n",
              "      border-color: transparent;\n",
              "      border-right-color: var(--fill-color);\n",
              "      border-bottom-color: var(--fill-color);\n",
              "    }\n",
              "    90% {\n",
              "      border-color: transparent;\n",
              "      border-bottom-color: var(--fill-color);\n",
              "    }\n",
              "  }\n",
              "</style>\n",
              "\n",
              "  <script>\n",
              "    async function quickchart(key) {\n",
              "      const quickchartButtonEl =\n",
              "        document.querySelector('#' + key + ' button');\n",
              "      quickchartButtonEl.disabled = true;  // To prevent multiple clicks.\n",
              "      quickchartButtonEl.classList.add('colab-df-spinner');\n",
              "      try {\n",
              "        const charts = await google.colab.kernel.invokeFunction(\n",
              "            'suggestCharts', [key], {});\n",
              "      } catch (error) {\n",
              "        console.error('Error during call to suggestCharts:', error);\n",
              "      }\n",
              "      quickchartButtonEl.classList.remove('colab-df-spinner');\n",
              "      quickchartButtonEl.classList.add('colab-df-quickchart-complete');\n",
              "    }\n",
              "    (() => {\n",
              "      let quickchartButtonEl =\n",
              "        document.querySelector('#df-6a12fd74-cbea-4640-84d4-f67c1989e0f0 button');\n",
              "      quickchartButtonEl.style.display =\n",
              "        google.colab.kernel.accessAllowed ? 'block' : 'none';\n",
              "    })();\n",
              "  </script>\n",
              "</div>\n",
              "\n",
              "    </div>\n",
              "  </div>\n"
            ]
          },
          "metadata": {},
          "execution_count": 5
        }
      ],
      "source": [
        "test_csv.head()"
      ]
    },
    {
      "cell_type": "code",
      "execution_count": 6,
      "metadata": {
        "id": "V2DJWc8BQm_X"
      },
      "outputs": [],
      "source": [
        "import torch\n",
        "import os\n",
        "import cv2"
      ]
    },
    {
      "cell_type": "code",
      "execution_count": 7,
      "metadata": {
        "colab": {
          "base_uri": "https://localhost:8080/"
        },
        "id": "pol-UrR-Rzj1",
        "outputId": "21422eca-8a1f-4409-c63b-f6bb64c29bd3"
      },
      "outputs": [
        {
          "output_type": "stream",
          "name": "stdout",
          "text": [
            "cpu\n"
          ]
        }
      ],
      "source": [
        "#determine the available hardware (CPU or GPU) and set the PyTorch device accordingly\n",
        "device = torch.device(\"cuda\" if torch.cuda.is_available() else \"cpu\")\n",
        "print(device)"
      ]
    },
    {
      "cell_type": "code",
      "execution_count": 8,
      "metadata": {
        "id": "iBufx526SB-A"
      },
      "outputs": [],
      "source": [
        "# generate a binary mask by fitting an ellipse to the primary object in the input image\n",
        "# and filling the interior of the ellipse with white color in the output mask\n",
        "def mask_generator(im):\n",
        "  imgray = cv2.cvtColor(im,cv2.COLOR_BGR2GRAY)\n",
        "  ret,thresh = cv2.threshold(imgray,127,255,0)\n",
        "  contours, useless1 = cv2.findContours(thresh, cv2.RETR_TREE, cv2.CHAIN_APPROX_SIMPLE)\n",
        "  ellipse = cv2.fitEllipse(contours[0])\n",
        "  return cv2.ellipse(im,ellipse,(255,255,255),-1)"
      ]
    },
    {
      "cell_type": "code",
      "execution_count": 9,
      "metadata": {
        "colab": {
          "base_uri": "https://localhost:8080/",
          "height": 551
        },
        "id": "GHyiu5Sfu9Os",
        "outputId": "d07be18f-758a-4a04-84a4-b58d6f004fb4"
      },
      "outputs": [
        {
          "output_type": "display_data",
          "data": {
            "text/plain": [
              "<Figure size 3000x700 with 4 Axes>"
            ],
            "image/png": "[encoded data removed]"
          },
          "metadata": {}
        }
      ],
      "source": [
        "#  example for mask_generator\n",
        "import matplotlib.pyplot as plt\n",
        "fig = plt.figure(figsize = (30,7))\n",
        "for index in range(2):\n",
        "  file_path = os.path.join(train_img, train_csv.iloc[index, 0].replace('.png','_Annotation.png'))\n",
        "\n",
        "  ax = fig.add_subplot(2, 7, index+1)\n",
        "  plt.imshow(cv2.imread(file_path))\n",
        "\n",
        "  ax = fig.add_subplot(2, 7, index+8)\n",
        "  plt.imshow(mask_generator(cv2.imread(file_path)))"
      ]
    },
    {
      "cell_type": "code",
      "execution_count": 10,
      "metadata": {
        "id": "WA0OXlGoxsel"
      },
      "outputs": [],
      "source": [
        "# replaces each annotation image with its corresponding binary mask in the specified directory.\n",
        "for index in range(len(train_csv)):\n",
        "    file_path = os.path.join('/content/drive/MyDrive/FinalProject/Dataset/training_set/training_set/', train_csv.iloc[index, 0].replace('.png','_Annotation.png'))\n",
        "    im = cv2.imread(file_path)\n",
        "    mask = mask_generator(im)\n",
        "    cv2.imwrite(file_path, mask)"
      ]
    },
    {
      "cell_type": "code",
      "execution_count": 11,
      "metadata": {
        "id": "7benPG8gilhv"
      },
      "outputs": [],
      "source": [
        "from tqdm import tqdm_notebook\n",
        "import copy\n",
        "import glob\n",
        "from PIL import Image\n",
        "import torchvision\n",
        "import torch.utils.data\n",
        "from torch.utils.data import DataLoader, Dataset, random_split\n",
        "import torchvision.transforms as transforms\n",
        "from torchvision import datasets\n",
        "\n",
        "import torch.nn as nn\n",
        "import torch.nn.functional as F\n",
        "import torch.optim as optim\n",
        "\n",
        "import numpy as np"
      ]
    },
    {
      "cell_type": "code",
      "execution_count": 12,
      "metadata": {
        "id": "lSxqbbe5xVzA"
      },
      "outputs": [],
      "source": [
        "# processes pairs of images in a source directory, assumes one image is an annotation\n",
        "# and generates binary masks based on the annotations.\n",
        "# It saves the generated masks in a specified destination directory\n",
        "def generate_mask(source_file_path, dest_file_path):\n",
        "    file_names = sorted([file for _,_,files in os.walk(source_file_path) for file in files])\n",
        "    for i, file_name in enumerate(file_names):\n",
        "        if i % 2 != 0:\n",
        "            im = cv2.imread(source_file_path+file_name)\n",
        "            imgray = cv2.cvtColor(im,cv2.COLOR_BGR2GRAY)\n",
        "            ret,thresh = cv2.threshold(imgray,127,255,0)\n",
        "            contours, hierarchy = cv2.findContours(thresh,cv2.RETR_TREE,cv2.CHAIN_APPROX_SIMPLE)\n",
        "            ellipse = cv2.fitEllipse(contours[0])\n",
        "            im1 = cv2.ellipse(im,ellipse,(255,255,255),-1)\n",
        "            image_name = file_name.replace('Annotation', 'Mask')\n",
        "            cv2.imwrite(dest_file_path+image_name, im1)\n",
        "\n",
        "    return 1"
      ]
    },
    {
      "cell_type": "code",
      "execution_count": 13,
      "metadata": {
        "colab": {
          "base_uri": "https://localhost:8080/"
        },
        "id": "xZL88ojnxmnH",
        "outputId": "d7a9ebba-2fa6-4766-960e-88b58ef88f0e"
      },
      "outputs": [
        {
          "output_type": "execute_result",
          "data": {
            "text/plain": [
              "1"
            ]
          },
          "metadata": {},
          "execution_count": 13
        }
      ],
      "source": [
        "generate_mask('/content/drive/MyDrive/FinalProject/Dataset/training_set/training_set/','/content/drive/MyDrive/FinalProject/Dataset/training_set/Masks/')"
      ]
    },
    {
      "cell_type": "markdown",
      "metadata": {
        "id": "EOSn_oc9XHjh"
      },
      "source": [
        "\n",
        "\n",
        "#Changing dataset to Torch form"
      ]
    },
    {
      "cell_type": "code",
      "execution_count": 66,
      "metadata": {
        "id": "wGQ12_JWXFtx"
      },
      "outputs": [],
      "source": [
        "import glob\n",
        "from PIL import Image\n",
        "import torch\n",
        "import numpy as np\n",
        "\n",
        "class CHALLENGE18(torch.utils.data.Dataset):\n",
        "    def __init__(self, png_images, transform_X=None, transform_Y=None, train=True):\n",
        "        # Define paths for input images and masks using glob\n",
        "        self.X_train = sorted(glob.glob('/content/drive/MyDrive/FinalProject/Dataset/training_set/training_set/*HC.png'))\n",
        "        self.Y_train = sorted(glob.glob('/content/drive/MyDrive/FinalProject/Dataset/training_set/Masks/*'))\n",
        "\n",
        "        # Set transformation functions for input images and masks\n",
        "        self.transform_X = transform_X\n",
        "        self.transform_Y = transform_Y\n",
        "\n",
        "        # Identify whether it's for training or not\n",
        "        self.png_images = png_images\n",
        "\n",
        "    def __len__(self):\n",
        "        # Return the length of the dataset depending on the mode (train or not)\n",
        "        if self.png_images == \"train\":\n",
        "            return len(self.X_train)\n",
        "        else:\n",
        "            print(\"Error: Dataset mode is not 'train'\")\n",
        "            return 0  # Returning 0 to avoid potential issues\n",
        "\n",
        "    def __getitem__(self, idx):\n",
        "\n",
        "\n",
        "      if self.png_images == \"train\":\n",
        "          # Read and preprocess the input image (X)\n",
        "          X_path = self.X_train[idx]\n",
        "          X = np.array(Image.open(X_path).resize((572, 572))).reshape(572, 572, 1)\n",
        "          X = self.transform_X(X)\n",
        "\n",
        "          # Construct the file path for the target mask image\n",
        "          Y_path = self.Y_train[idx]\n",
        "\n",
        "          # Read and preprocess the target mask image (Y)\n",
        "          try:\n",
        "              Y = np.array(Image.open(Y_path).convert('L').resize((572, 572))).reshape(572, 572, 1)\n",
        "              Y = self.transform_Y(Y)\n",
        "          except Exception as e:\n",
        "              print(f\"Error reading or preprocessing mask image: {e}\")\n",
        "              Y = None  # Set Y to None in case of an error\n",
        "\n",
        "\n",
        "          # Return the preprocessed input image (X) and target mask image (Y)\n",
        "          return X, Y\n",
        "\n",
        "      else:\n",
        "          # If the dataset is not for training, print an error message\n",
        "          print(\"Error: Dataset mode is not 'train'\")\n",
        "          return None  # Returning None to avoid potential issues\n",
        "\n",
        "\n"
      ]
    },
    {
      "cell_type": "markdown",
      "metadata": {
        "id": "eaCBtlTNMkhp"
      },
      "source": [
        "#Normalizing image between [0,1]"
      ]
    },
    {
      "cell_type": "code",
      "execution_count": 67,
      "metadata": {
        "id": "pvYs4E5SloLF"
      },
      "outputs": [],
      "source": [
        "transform_X = transforms.Compose([transforms.ToTensor(),transforms.Normalize((0.5, ), (0.5, ))])\n",
        "transform_Y = transforms.Compose([transforms.ToTensor()])\n",
        "total_images = CHALLENGE18(\"train\",transform_Y=transform_Y, transform_X = transform_X)"
      ]
    },
    {
      "cell_type": "code",
      "execution_count": 68,
      "metadata": {
        "colab": {
          "base_uri": "https://localhost:8080/"
        },
        "id": "iuoWMYWbGH5-",
        "outputId": "a133e6cb-15f2-46fe-f250-2135857791f5"
      },
      "outputs": [
        {
          "output_type": "execute_result",
          "data": {
            "text/plain": [
              "999"
            ]
          },
          "metadata": {},
          "execution_count": 68
        }
      ],
      "source": [
        "\n",
        "len(total_images)\n"
      ]
    },
    {
      "cell_type": "code",
      "execution_count": 69,
      "metadata": {
        "id": "IDkYByL0HL8r"
      },
      "outputs": [],
      "source": [
        "x, y = total_images[555]"
      ]
    },
    {
      "cell_type": "markdown",
      "metadata": {
        "id": "0VD6VdtEGmfc"
      },
      "source": [
        "**Cross-checking the shape of x and y to being sure**"
      ]
    },
    {
      "cell_type": "code",
      "execution_count": 70,
      "metadata": {
        "colab": {
          "base_uri": "https://localhost:8080/"
        },
        "id": "mQN5W4G7byX8",
        "outputId": "309e772e-1c15-45d5-fd52-88852f370e64"
      },
      "outputs": [
        {
          "output_type": "execute_result",
          "data": {
            "text/plain": [
              "torch.Size([1, 572, 572])"
            ]
          },
          "metadata": {},
          "execution_count": 70
        }
      ],
      "source": [
        "x.shape"
      ]
    },
    {
      "cell_type": "code",
      "execution_count": 71,
      "metadata": {
        "colab": {
          "base_uri": "https://localhost:8080/"
        },
        "id": "OC_Ws7v9bzaG",
        "outputId": "d66af4e9-b2d5-4ad4-c672-11fff0eb3f92"
      },
      "outputs": [
        {
          "output_type": "execute_result",
          "data": {
            "text/plain": [
              "torch.Size([1, 572, 572])"
            ]
          },
          "metadata": {},
          "execution_count": 71
        }
      ],
      "source": [
        "y.shape"
      ]
    },
    {
      "cell_type": "markdown",
      "metadata": {
        "id": "Un8BBfKPNC58"
      },
      "source": [
        "#for cross-validation, dividing the whole set in (90:10) ratio"
      ]
    },
    {
      "cell_type": "code",
      "execution_count": 72,
      "metadata": {
        "id": "VsFHHVWnpFiK"
      },
      "outputs": [],
      "source": [
        "train_images = int(0.9 * len(total_images))\n",
        "test_images = len(total_images)- train_images\n",
        "\n",
        "train_data, validation_data = random_split(total_images,[train_images, test_images])"
      ]
    },
    {
      "cell_type": "markdown",
      "metadata": {
        "id": "aZUIw-VnJhVD"
      },
      "source": [
        "**Creating only train_loader & validation_loader here**"
      ]
    },
    {
      "cell_type": "code",
      "execution_count": 73,
      "metadata": {
        "id": "8SR_Y065p4HS"
      },
      "outputs": [],
      "source": [
        "# creates DataLoader objects for both the training and validation datasets,\n",
        "# with a mini-batch size of 2, shuffling enabled during training, and using 2 worker processes for data loading\n",
        "batch_size = 2\n",
        "\n",
        "train_loader = torch.utils.data.DataLoader(train_data, batch_size=batch_size, shuffle=True, num_workers=2)\n",
        "validation_loader = torch.utils.data.DataLoader(validation_data, batch_size=batch_size, shuffle=True, num_workers=2)\n"
      ]
    },
    {
      "cell_type": "code",
      "execution_count": 74,
      "metadata": {
        "id": "t2lUJYk1qkRi"
      },
      "outputs": [],
      "source": [
        "# displaying images using Matplotlib\n",
        "def imshow(img, title):\n",
        "    img = img.clone().detach().numpy()\n",
        "    print('npimage shape',img.shape)\n",
        "    plt.show()\n",
        "    return img"
      ]
    },
    {
      "cell_type": "code",
      "execution_count": 75,
      "metadata": {
        "id": "4CcQ1lPNq07T"
      },
      "outputs": [],
      "source": [
        "def show_train_batch_images(dataloader):\n",
        "    x, y = next(iter(dataloader))\n",
        "    print(x.shape)\n",
        "    return imshow(x[0],'d')"
      ]
    },
    {
      "cell_type": "code",
      "execution_count": 76,
      "metadata": {
        "id": "ORJ_qJf1q8rV",
        "colab": {
          "base_uri": "https://localhost:8080/"
        },
        "outputId": "7ffb938a-da9a-4a6f-f424-e40a83995fb9"
      },
      "outputs": [
        {
          "output_type": "stream",
          "name": "stdout",
          "text": [
            "torch.Size([2, 1, 572, 572])\n",
            "npimage shape (1, 572, 572)\n"
          ]
        }
      ],
      "source": [
        "p =show_train_batch_images(validation_loader)"
      ]
    },
    {
      "cell_type": "code",
      "execution_count": 77,
      "metadata": {
        "id": "OnkIavrcqyBX",
        "colab": {
          "base_uri": "https://localhost:8080/"
        },
        "outputId": "8c5a9f13-6698-423b-f020-a68272a84a36"
      },
      "outputs": [
        {
          "output_type": "stream",
          "name": "stdout",
          "text": [
            "torch.Size([2, 1, 572, 572])\n",
            "npimage shape (1, 572, 572)\n"
          ]
        }
      ],
      "source": [
        "q= show_train_batch_images(train_loader)"
      ]
    },
    {
      "cell_type": "code",
      "execution_count": 78,
      "metadata": {
        "id": "l9dsNlGqL2Mn",
        "colab": {
          "base_uri": "https://localhost:8080/"
        },
        "outputId": "c2280377-bbf4-4faf-ccac-34120b60b27b"
      },
      "outputs": [
        {
          "output_type": "execute_result",
          "data": {
            "text/plain": [
              "(1, 572, 572)"
            ]
          },
          "metadata": {},
          "execution_count": 78
        }
      ],
      "source": [
        "p.shape"
      ]
    },
    {
      "cell_type": "code",
      "execution_count": 79,
      "metadata": {
        "id": "lxRJDArFMDM6"
      },
      "outputs": [],
      "source": [
        "p=p.reshape(572,572)"
      ]
    },
    {
      "cell_type": "code",
      "execution_count": 80,
      "metadata": {
        "id": "07OFr-ZWMF3Z",
        "colab": {
          "base_uri": "https://localhost:8080/",
          "height": 453
        },
        "outputId": "54a3eb8e-89d6-41c6-a051-6f25b5ee54f3"
      },
      "outputs": [
        {
          "output_type": "execute_result",
          "data": {
            "text/plain": [
              "<matplotlib.image.AxesImage at 0x7ef0490f5e70>"
            ]
          },
          "metadata": {},
          "execution_count": 80
        },
        {
          "output_type": "display_data",
          "data": {
            "text/plain": [
              "<Figure size 640x480 with 1 Axes>"
            ],
            "image/png": "[encoded data removed]"
          },
          "metadata": {}
        }
      ],
      "source": [
        "plt.imshow(p)"
      ]
    },
    {
      "cell_type": "markdown",
      "metadata": {
        "id": "Y1rz4QcJ0PIb"
      },
      "source": [
        "#preparing the U-net architecture"
      ]
    },
    {
      "cell_type": "code",
      "execution_count": 81,
      "metadata": {
        "id": "iR8rSzRPCalm"
      },
      "outputs": [],
      "source": [
        "# defines a U-Net architecture for semantic segmentation. (U-Net, a type of CNN)\n",
        "class double_conv(nn.Module):\n",
        "    '''(conv => BN => ReLU) * 2'''\n",
        "    def __init__(self, in_ch, out_ch):\n",
        "        super(double_conv, self).__init__()\n",
        "        self.conv = nn.Sequential(\n",
        "            nn.Conv2d(in_ch, out_ch, 3, padding=1),\n",
        "            nn.BatchNorm2d(out_ch),\n",
        "            nn.ReLU(inplace=True),\n",
        "            nn.Conv2d(out_ch, out_ch, 3, padding=1),\n",
        "            nn.BatchNorm2d(out_ch),\n",
        "            nn.ReLU(inplace=True)\n",
        "        )\n",
        "\n",
        "    def forward(self, x):\n",
        "        x = self.conv(x)\n",
        "        return x\n",
        "\n",
        "\n",
        "class inconv(nn.Module):\n",
        "    def __init__(self, in_ch, out_ch):\n",
        "        super(inconv, self).__init__()\n",
        "        self.conv = double_conv(in_ch, out_ch)\n",
        "\n",
        "    def forward(self, x):\n",
        "        x = self.conv(x)\n",
        "        return x\n",
        "\n",
        "\n",
        "class down(nn.Module):\n",
        "    def __init__(self, in_ch, out_ch):\n",
        "        super(down, self).__init__()\n",
        "        self.mpconv = nn.Sequential(\n",
        "            nn.MaxPool2d(2),\n",
        "            double_conv(in_ch, out_ch)\n",
        "        )\n",
        "\n",
        "    def forward(self, x):\n",
        "        x = self.mpconv(x)\n",
        "        return x\n",
        "\n",
        "\n",
        "class up(nn.Module):\n",
        "    def __init__(self, in_ch, out_ch, bilinear=True):\n",
        "        super(up, self).__init__()\n",
        "\n",
        "\n",
        "        if bilinear:\n",
        "            self.up = nn.Upsample(scale_factor=2, mode='bilinear', align_corners=True)\n",
        "        else:\n",
        "            self.up = nn.ConvTranspose2d(in_ch//2, in_ch//2, 2, stride=2)\n",
        "\n",
        "        self.conv = double_conv(in_ch, out_ch)\n",
        "\n",
        "    def forward(self, x1, x2):\n",
        "        x1 = self.up(x1)\n",
        "\n",
        "        # input is CHW\n",
        "        diffY = x2.size()[2] - x1.size()[2]\n",
        "        diffX = x2.size()[3] - x1.size()[3]\n",
        "\n",
        "        x1 = F.pad(x1, (diffX // 2, diffX - diffX//2,\n",
        "                        diffY // 2, diffY - diffY//2))\n",
        "\n",
        "\n",
        "\n",
        "        x = torch.cat([x2, x1], dim=1)\n",
        "        x = self.conv(x)\n",
        "        return x\n",
        "\n",
        "\n",
        "class outconv(nn.Module):\n",
        "    def __init__(self, in_ch, out_ch):\n",
        "        super(outconv, self).__init__()\n",
        "        self.conv = nn.Conv2d(in_ch, out_ch, 1)\n",
        "\n",
        "    def forward(self, x):\n",
        "        x = self.conv(x)\n",
        "        return x"
      ]
    },
    {
      "cell_type": "code",
      "execution_count": 82,
      "metadata": {
        "id": "DbP5YsYyCrbh"
      },
      "outputs": [],
      "source": [
        "class UNET(nn.Module):\n",
        "    def __init__(self, n_channels, n_classes):\n",
        "        super(UNET, self).__init__()\n",
        "        self.inc = inconv(n_channels, 64)\n",
        "        self.down1 = down(64, 128)\n",
        "        self.down2 = down(128, 256)\n",
        "        self.down3 = down(256, 512)\n",
        "        self.down4 = down(512, 512)\n",
        "        self.up1 = up(1024, 256)\n",
        "        self.up2 = up(512, 128)\n",
        "        self.up3 = up(256, 64)\n",
        "        self.up4 = up(128, 64)\n",
        "        self.outc = outconv(64, n_classes)\n",
        "\n",
        "    def forward(self, x):\n",
        "        x1 = self.inc(x)\n",
        "        x2 = self.down1(x1)\n",
        "        x3 = self.down2(x2)\n",
        "        x4 = self.down3(x3)\n",
        "        x5 = self.down4(x4)\n",
        "        x = self.up1(x5, x4)\n",
        "        x = self.up2(x, x3)\n",
        "        x = self.up3(x, x2)\n",
        "        x = self.up4(x, x1)\n",
        "        x = self.outc(x)\n",
        "        return torch.sigmoid(x)"
      ]
    },
    {
      "cell_type": "code",
      "execution_count": 83,
      "metadata": {
        "id": "A0v3H3cpDGO1",
        "colab": {
          "base_uri": "https://localhost:8080/"
        },
        "outputId": "3829e596-3956-46f8-992c-04fe0867d249"
      },
      "outputs": [
        {
          "output_type": "execute_result",
          "data": {
            "text/plain": [
              "UNET(\n",
              "  (inc): inconv(\n",
              "    (conv): double_conv(\n",
              "      (conv): Sequential(\n",
              "        (0): Conv2d(1, 64, kernel_size=(3, 3), stride=(1, 1), padding=(1, 1))\n",
              "        (1): BatchNorm2d(64, eps=1e-05, momentum=0.1, affine=True, track_running_stats=True)\n",
              "        (2): ReLU(inplace=True)\n",
              "        (3): Conv2d(64, 64, kernel_size=(3, 3), stride=(1, 1), padding=(1, 1))\n",
              "        (4): BatchNorm2d(64, eps=1e-05, momentum=0.1, affine=True, track_running_stats=True)\n",
              "        (5): ReLU(inplace=True)\n",
              "      )\n",
              "    )\n",
              "  )\n",
              "  (down1): down(\n",
              "    (mpconv): Sequential(\n",
              "      (0): MaxPool2d(kernel_size=2, stride=2, padding=0, dilation=1, ceil_mode=False)\n",
              "      (1): double_conv(\n",
              "        (conv): Sequential(\n",
              "          (0): Conv2d(64, 128, kernel_size=(3, 3), stride=(1, 1), padding=(1, 1))\n",
              "          (1): BatchNorm2d(128, eps=1e-05, momentum=0.1, affine=True, track_running_stats=True)\n",
              "          (2): ReLU(inplace=True)\n",
              "          (3): Conv2d(128, 128, kernel_size=(3, 3), stride=(1, 1), padding=(1, 1))\n",
              "          (4): BatchNorm2d(128, eps=1e-05, momentum=0.1, affine=True, track_running_stats=True)\n",
              "          (5): ReLU(inplace=True)\n",
              "        )\n",
              "      )\n",
              "    )\n",
              "  )\n",
              "  (down2): down(\n",
              "    (mpconv): Sequential(\n",
              "      (0): MaxPool2d(kernel_size=2, stride=2, padding=0, dilation=1, ceil_mode=False)\n",
              "      (1): double_conv(\n",
              "        (conv): Sequential(\n",
              "          (0): Conv2d(128, 256, kernel_size=(3, 3), stride=(1, 1), padding=(1, 1))\n",
              "          (1): BatchNorm2d(256, eps=1e-05, momentum=0.1, affine=True, track_running_stats=True)\n",
              "          (2): ReLU(inplace=True)\n",
              "          (3): Conv2d(256, 256, kernel_size=(3, 3), stride=(1, 1), padding=(1, 1))\n",
              "          (4): BatchNorm2d(256, eps=1e-05, momentum=0.1, affine=True, track_running_stats=True)\n",
              "          (5): ReLU(inplace=True)\n",
              "        )\n",
              "      )\n",
              "    )\n",
              "  )\n",
              "  (down3): down(\n",
              "    (mpconv): Sequential(\n",
              "      (0): MaxPool2d(kernel_size=2, stride=2, padding=0, dilation=1, ceil_mode=False)\n",
              "      (1): double_conv(\n",
              "        (conv): Sequential(\n",
              "          (0): Conv2d(256, 512, kernel_size=(3, 3), stride=(1, 1), padding=(1, 1))\n",
              "          (1): BatchNorm2d(512, eps=1e-05, momentum=0.1, affine=True, track_running_stats=True)\n",
              "          (2): ReLU(inplace=True)\n",
              "          (3): Conv2d(512, 512, kernel_size=(3, 3), stride=(1, 1), padding=(1, 1))\n",
              "          (4): BatchNorm2d(512, eps=1e-05, momentum=0.1, affine=True, track_running_stats=True)\n",
              "          (5): ReLU(inplace=True)\n",
              "        )\n",
              "      )\n",
              "    )\n",
              "  )\n",
              "  (down4): down(\n",
              "    (mpconv): Sequential(\n",
              "      (0): MaxPool2d(kernel_size=2, stride=2, padding=0, dilation=1, ceil_mode=False)\n",
              "      (1): double_conv(\n",
              "        (conv): Sequential(\n",
              "          (0): Conv2d(512, 512, kernel_size=(3, 3), stride=(1, 1), padding=(1, 1))\n",
              "          (1): BatchNorm2d(512, eps=1e-05, momentum=0.1, affine=True, track_running_stats=True)\n",
              "          (2): ReLU(inplace=True)\n",
              "          (3): Conv2d(512, 512, kernel_size=(3, 3), stride=(1, 1), padding=(1, 1))\n",
              "          (4): BatchNorm2d(512, eps=1e-05, momentum=0.1, affine=True, track_running_stats=True)\n",
              "          (5): ReLU(inplace=True)\n",
              "        )\n",
              "      )\n",
              "    )\n",
              "  )\n",
              "  (up1): up(\n",
              "    (up): Upsample(scale_factor=2.0, mode='bilinear')\n",
              "    (conv): double_conv(\n",
              "      (conv): Sequential(\n",
              "        (0): Conv2d(1024, 256, kernel_size=(3, 3), stride=(1, 1), padding=(1, 1))\n",
              "        (1): BatchNorm2d(256, eps=1e-05, momentum=0.1, affine=True, track_running_stats=True)\n",
              "        (2): ReLU(inplace=True)\n",
              "        (3): Conv2d(256, 256, kernel_size=(3, 3), stride=(1, 1), padding=(1, 1))\n",
              "        (4): BatchNorm2d(256, eps=1e-05, momentum=0.1, affine=True, track_running_stats=True)\n",
              "        (5): ReLU(inplace=True)\n",
              "      )\n",
              "    )\n",
              "  )\n",
              "  (up2): up(\n",
              "    (up): Upsample(scale_factor=2.0, mode='bilinear')\n",
              "    (conv): double_conv(\n",
              "      (conv): Sequential(\n",
              "        (0): Conv2d(512, 128, kernel_size=(3, 3), stride=(1, 1), padding=(1, 1))\n",
              "        (1): BatchNorm2d(128, eps=1e-05, momentum=0.1, affine=True, track_running_stats=True)\n",
              "        (2): ReLU(inplace=True)\n",
              "        (3): Conv2d(128, 128, kernel_size=(3, 3), stride=(1, 1), padding=(1, 1))\n",
              "        (4): BatchNorm2d(128, eps=1e-05, momentum=0.1, affine=True, track_running_stats=True)\n",
              "        (5): ReLU(inplace=True)\n",
              "      )\n",
              "    )\n",
              "  )\n",
              "  (up3): up(\n",
              "    (up): Upsample(scale_factor=2.0, mode='bilinear')\n",
              "    (conv): double_conv(\n",
              "      (conv): Sequential(\n",
              "        (0): Conv2d(256, 64, kernel_size=(3, 3), stride=(1, 1), padding=(1, 1))\n",
              "        (1): BatchNorm2d(64, eps=1e-05, momentum=0.1, affine=True, track_running_stats=True)\n",
              "        (2): ReLU(inplace=True)\n",
              "        (3): Conv2d(64, 64, kernel_size=(3, 3), stride=(1, 1), padding=(1, 1))\n",
              "        (4): BatchNorm2d(64, eps=1e-05, momentum=0.1, affine=True, track_running_stats=True)\n",
              "        (5): ReLU(inplace=True)\n",
              "      )\n",
              "    )\n",
              "  )\n",
              "  (up4): up(\n",
              "    (up): Upsample(scale_factor=2.0, mode='bilinear')\n",
              "    (conv): double_conv(\n",
              "      (conv): Sequential(\n",
              "        (0): Conv2d(128, 64, kernel_size=(3, 3), stride=(1, 1), padding=(1, 1))\n",
              "        (1): BatchNorm2d(64, eps=1e-05, momentum=0.1, affine=True, track_running_stats=True)\n",
              "        (2): ReLU(inplace=True)\n",
              "        (3): Conv2d(64, 64, kernel_size=(3, 3), stride=(1, 1), padding=(1, 1))\n",
              "        (4): BatchNorm2d(64, eps=1e-05, momentum=0.1, affine=True, track_running_stats=True)\n",
              "        (5): ReLU(inplace=True)\n",
              "      )\n",
              "    )\n",
              "  )\n",
              "  (outc): outconv(\n",
              "    (conv): Conv2d(64, 1, kernel_size=(1, 1), stride=(1, 1))\n",
              "  )\n",
              ")"
            ]
          },
          "metadata": {},
          "execution_count": 83
        }
      ],
      "source": [
        "model = UNET(1,1)\n",
        "model.to(device)"
      ]
    },
    {
      "cell_type": "markdown",
      "metadata": {
        "id": "7QH4mb75HxJ1"
      },
      "source": [
        "**In the above cell using \"model\" name as to represent U-Net model..**"
      ]
    },
    {
      "cell_type": "markdown",
      "metadata": {
        "id": "EZYSYNRoHHRa"
      },
      "source": []
    },
    {
      "cell_type": "code",
      "execution_count": 87,
      "metadata": {
        "id": "BPSoNFx6bdH4"
      },
      "outputs": [],
      "source": [
        "# setting up the loss function and the optimizer for training a neural network using PyTorch\n",
        "import torch.optim as optim\n",
        "\n",
        "criterion = nn.BCELoss()\n",
        "\n",
        "optimizer = torch.optim.Adam(model.parameters(), lr=0.00015)"
      ]
    },
    {
      "cell_type": "markdown",
      "metadata": {
        "id": "2P0fk0zHlKud"
      },
      "source": [
        "#Dice coefficient"
      ]
    },
    {
      "cell_type": "code",
      "execution_count": 88,
      "metadata": {
        "id": "6I716J-tgfi6"
      },
      "outputs": [],
      "source": [
        "def dice_coeff(y_pred, y_targets):\n",
        "\n",
        "\n",
        "    smooth = 1\n",
        "    num = y_targets.size(0)\n",
        "    m1 = y_pred.view(num, -1)\n",
        "    m2 = y_targets.view(num, -1)\n",
        "    intersection = (m1 * m2)\n",
        "\n",
        "    score = 2. * (intersection.sum(1) + smooth) / (m1.sum(1) + m2.sum(1) + smooth)\n",
        "    score = score.sum() / num\n",
        "    return score.item()"
      ]
    },
    {
      "cell_type": "code",
      "execution_count": 89,
      "metadata": {
        "id": "J7zYHVC8e08L"
      },
      "outputs": [],
      "source": [
        "def dice_loss(y_predict, y_train):\n",
        "\n",
        "  dice_loss = 1 -(dice_coeff(y_predict, y_train))\n",
        "\n",
        "  return dice_loss"
      ]
    },
    {
      "cell_type": "markdown",
      "metadata": {
        "id": "klz34VhE5NO6"
      },
      "source": [
        "#Training of the network"
      ]
    },
    {
      "cell_type": "code",
      "execution_count": null,
      "metadata": {
        "id": "KsNW1X7NfqZH",
        "colab": {
          "base_uri": "https://localhost:8080/"
        },
        "outputId": "acfc9d9f-a837-4417-e459-aee11bfb707e"
      },
      "outputs": [
        {
          "output_type": "stream",
          "name": "stdout",
          "text": [
            "Epoch:  1 Batch:  0 Current Loss:  0.6632693409919739\n"
          ]
        }
      ],
      "source": [
        "epochs = 2\n",
        "train_running_loss_history = []\n",
        "validation_running_loss_history =[]\n",
        "\n",
        "for e in range(epochs):\n",
        "  train_running_loss = 0.0\n",
        "  validation_running_loss = 0.0\n",
        "\n",
        "  model.train()\n",
        "\n",
        "  for ith_batch, sample_batched in enumerate(train_loader):\n",
        "    X_train, y_train = sample_batched\n",
        "    X_train= X_train.to(device)\n",
        "    y_train= y_train.to(device)\n",
        "\n",
        "    optimizer.zero_grad()\n",
        "    y_pred = model(X_train)\n",
        "\n",
        "    loss = 0.30 * dice_loss(y_pred, y_train) +  0.70 * criterion(y_pred, y_train)\n",
        "\n",
        "    loss.backward()\n",
        "    optimizer.step()\n",
        "\n",
        "    if ith_batch % 50 == 0:\n",
        "      print('Epoch: ', e + 1, 'Batch: ', ith_batch, 'Current Loss: ', loss.item())\n",
        "\n",
        "    train_running_loss += loss.item()\n",
        "  else:\n",
        "    with torch.no_grad():\n",
        "\n",
        "      model.eval()\n",
        "\n",
        "      for ith_batch, sample_batched in enumerate(validation_loader):\n",
        "          X_val, y_val = sample_batched\n",
        "          X_val = X_val.to(device)\n",
        "          y_val = y_val.to(device)\n",
        "\n",
        "          y_out = model(X_val)\n",
        "          out_val = (y_out + 0.5).int().float()\n",
        "\n",
        "          val_loss = 0.3 * dice_loss(out_val, y_val)  + 0.7 * criterion(y_out, y_val)\n",
        "\n",
        "          validation_running_loss += val_loss.item()\n",
        "      print(\"================================================================================\")\n",
        "      print(\"Epoch {} completed\".format(e + 1))\n",
        "\n",
        "      train_epoch_loss = train_running_loss / len(train_loader)\n",
        "      validation_epoch_loss = validation_running_loss / len(validation_loader)\n",
        "\n",
        "      print(\"Average train loss is {}: \".format(train_epoch_loss))\n",
        "      print(\"Average validation loss is {}\".format(validation_epoch_loss))\n",
        "      print(\"================================================================================\")\n",
        "      train_running_loss_history.append(train_epoch_loss)\n",
        "      validation_running_loss_history.append(validation_epoch_loss)\n",
        "\n",
        "  torch.cuda.empty_cache()"
      ]
    },
    {
      "cell_type": "markdown",
      "metadata": {
        "id": "3cr6A99EmaYX"
      },
      "source": [
        "#plot for validation & training loss respectively"
      ]
    },
    {
      "cell_type": "code",
      "execution_count": 140,
      "metadata": {
        "id": "VgUPzC96QulB",
        "colab": {
          "base_uri": "https://localhost:8080/",
          "height": 448
        },
        "outputId": "ea9405df-a9bd-403f-fa33-52d418835d0a"
      },
      "outputs": [
        {
          "output_type": "execute_result",
          "data": {
            "text/plain": [
              "<matplotlib.legend.Legend at 0x7fe3f2ff0490>"
            ]
          },
          "metadata": {},
          "execution_count": 140
        },
        {
          "output_type": "display_data",
          "data": {
            "text/plain": [
              "<Figure size 640x480 with 1 Axes>"
            ],
            "image/png": "[encoded data removed]"
          },
          "metadata": {}
        }
      ],
      "source": [
        "plt.plot(validation_running_loss_history, label = 'Validation Loss', color='green')\n",
        "plt.plot(train_running_loss_history, label = 'Train Loss',  color='red')\n",
        "plt.legend()"
      ]
    },
    {
      "cell_type": "markdown",
      "metadata": {
        "id": "-A0-yFfkIf9z"
      },
      "source": [
        "**We can see that both the losses are decreasing**"
      ]
    },
    {
      "cell_type": "code",
      "execution_count": 141,
      "metadata": {
        "id": "Sa-0C9ZERM87",
        "colab": {
          "base_uri": "https://localhost:8080/"
        },
        "outputId": "c4fa1eca-e148-454d-a908-7c5d1ff4c736"
      },
      "outputs": [
        {
          "output_type": "execute_result",
          "data": {
            "text/plain": [
              "torch.Size([1, 1, 572, 572])"
            ]
          },
          "metadata": {},
          "execution_count": 141
        }
      ],
      "source": [
        "model.eval()\n",
        "X_train.size()"
      ]
    },
    {
      "cell_type": "code",
      "execution_count": 142,
      "metadata": {
        "id": "AmAma6jqRQXD"
      },
      "outputs": [],
      "source": [
        "out = (y_pred + 0.5).int().float()"
      ]
    },
    {
      "cell_type": "code",
      "execution_count": 143,
      "metadata": {
        "id": "snlNjKRqRWAh",
        "colab": {
          "base_uri": "https://localhost:8080/"
        },
        "outputId": "2cbe2c7c-8e06-4da6-939b-30d62c2fe4aa"
      },
      "outputs": [
        {
          "output_type": "stream",
          "name": "stdout",
          "text": [
            "0.85430508852005\n",
            "0.14569491147994995\n"
          ]
        }
      ],
      "source": [
        "print(dice_coeff(y_train, out))\n",
        "print(dice_loss(y_train, out))"
      ]
    },
    {
      "cell_type": "code",
      "execution_count": 145,
      "metadata": {
        "id": "xd6SvL9SVF4r"
      },
      "outputs": [],
      "source": [
        "class HC18_test(Dataset):\n",
        "    def __init__(self, root_dir, transform_X = None):\n",
        "        self.pixel_file = test_csv\n",
        "        self.root_dir = root_dir\n",
        "        self.transform_X = transform_X\n",
        "\n",
        "    def __len__(self):\n",
        "        return len(self.pixel_file)\n",
        "\n",
        "    def __getitem__(self, index):\n",
        "        imx_name = os.path.join(self.root_dir, '', self.pixel_file.iloc[index, 0])\n",
        "\n",
        "        imx = Image.open(imx_name)\n",
        "\n",
        "        f_name = self.pixel_file.iloc[index, 0]\n",
        "\n",
        "        if self.transform_X :\n",
        "            imx = self.transform_X(imx)\n",
        "\n",
        "        sample = {'image': imx, 'f_name': f_name}\n",
        "        return sample"
      ]
    },
    {
      "cell_type": "code",
      "execution_count": 152,
      "metadata": {
        "id": "K-v88WF9VGEa"
      },
      "outputs": [],
      "source": [
        "test_img = HC18_test('/content/drive/MyDrive/FinalProject/Dataset/test_set', transform_X = transform_X)"
      ]
    },
    {
      "cell_type": "markdown",
      "metadata": {
        "id": "8VI8b8mtJS6m"
      },
      "source": [
        "**Creating test-loader to work with test images**"
      ]
    },
    {
      "cell_type": "code",
      "execution_count": 153,
      "metadata": {
        "id": "sWmR982rVGM_"
      },
      "outputs": [],
      "source": [
        "test_loader = torch.utils.data.DataLoader(test_img, batch_size=batch_size,shuffle=False)"
      ]
    },
    {
      "cell_type": "code",
      "execution_count": 154,
      "metadata": {
        "id": "cUMDDQ-OETti"
      },
      "outputs": [],
      "source": [
        "def avg_dice_index(dataloader):\n",
        "\n",
        "    dice = 0.0\n",
        "    model.eval()\n",
        "    with torch.no_grad():\n",
        "\n",
        "        for ith_batch, sample_batched in enumerate(dataloader):\n",
        "            X_train , y_train = sample_batched\n",
        "            X_train = X_train.to(device)\n",
        "            y_train = y_train.to(device)\n",
        "            # print(model(X_train))\n",
        "\n",
        "            y_predict = (model(X_train) + 0.5).int().float()\n",
        "            # print(y_predict)\n",
        "\n",
        "            dice += dice_coeff(y_predict, y_train)\n",
        "\n",
        "    avg_dice = dice / len(dataloader)\n",
        "    # print(avg_dice)\n",
        "    return avg_dice"
      ]
    },
    {
      "cell_type": "code",
      "execution_count": 155,
      "metadata": {
        "id": "QVpaY9VvZTlN"
      },
      "outputs": [],
      "source": [
        "test_loader = DataLoader(dataset = test_img, batch_size = 1, shuffle = True)"
      ]
    },
    {
      "cell_type": "markdown",
      "metadata": {
        "id": "lXIe_SW4hteW"
      },
      "source": [
        "#Writing in the Drive"
      ]
    },
    {
      "cell_type": "code",
      "execution_count": 157,
      "metadata": {
        "id": "hnLgBOyph8fS",
        "colab": {
          "base_uri": "https://localhost:8080/"
        },
        "outputId": "9cad1fdb-8f94-42ab-a43c-23170fbfe676"
      },
      "outputs": [
        {
          "output_type": "stream",
          "name": "stdout",
          "text": [
            "task to write file is complete\n"
          ]
        }
      ],
      "source": [
        "transform = transforms.Compose([transforms.ToPILImage(),transforms.Resize((540, 800)),transforms.ToTensor()])\n",
        "\n",
        "with torch.no_grad():\n",
        "\n",
        "      for ith_batch , data in enumerate(test_loader):\n",
        "        X_test = data['image']\n",
        "        X_test = X_test.to(device)\n",
        "\n",
        "        y_pred = (model(X_test) + 0.5).int().float().cpu()\n",
        "\n",
        "        file_names = data['f_name']\n",
        "        Result = transform(y_pred[0])\n",
        "        torchvision.utils.save_image(Result , os.path.join('/content/drive/MyDrive/FinalProject/Dataset/segmentation_test_2/', file_names[0]))\n",
        "      print(\"task to write file is complete\")\n"
      ]
    },
    {
      "cell_type": "markdown",
      "metadata": {
        "id": "WeWxmP-9PYtn"
      },
      "source": [
        "**Function to create mask of test_set**"
      ]
    },
    {
      "cell_type": "code",
      "execution_count": 158,
      "metadata": {
        "id": "qTcUVKPWh8XQ"
      },
      "outputs": [],
      "source": [
        "def test_ellipse(im):\n",
        "    imgray = cv2.cvtColor(im,cv2.COLOR_BGR2GRAY)\n",
        "    ret,thresh = cv2.threshold(imgray,127,255,0)\n",
        "    # im2,\n",
        "    contours, hierarchy = cv2.findContours(thresh,cv2.RETR_TREE,cv2.CHAIN_APPROX_SIMPLE)\n",
        "    contour_sizes = [len(contour) for contour in contours]\n",
        "    ellipse = cv2.fitEllipse(contours[np.argmax(contour_sizes)])\n",
        "    return ellipse\n"
      ]
    },
    {
      "cell_type": "markdown",
      "metadata": {
        "id": "CISHgt5yPkZP"
      },
      "source": [
        "# **Formula to Calculate Head Circumference**"
      ]
    },
    {
      "cell_type": "markdown",
      "metadata": {
        "id": "TAxMOfXC0i4h"
      },
      "source": [
        "![fhc2.jpg](data:image/jpeg;base64,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)"
      ]
    },
    {
      "cell_type": "code",
      "execution_count": null,
      "metadata": {
        "id": "hJP11ppz7Ekd"
      },
      "outputs": [],
      "source": [
        "# occipitofrontal diameter (OFD)\n",
        "#BPD (biparietal diameter), the diameter of your baby's head\n",
        "#HC = 1.62 × (BPD + OFD) 3\n",
        "# OFD = 2(semi_axes_a)\n",
        "# BPD = 2(semi_axes_b)"
      ]
    },
    {
      "cell_type": "markdown",
      "metadata": {
        "id": "YiRO6S9b0r71"
      },
      "source": [
        "#Creating a csv file to store the Data"
      ]
    },
    {
      "cell_type": "code",
      "execution_count": 160,
      "metadata": {
        "id": "FBo0AxH9h7oo",
        "colab": {
          "base_uri": "https://localhost:8080/"
        },
        "outputId": "926eb65a-7fdd-48e3-a63e-9ee079c212c5"
      },
      "outputs": [
        {
          "output_type": "stream",
          "name": "stdout",
          "text": [
            "Required .csv file generated\n",
            "((360.8691711425781, 285.2888488769531), (380.1731872558594, 692.7212524414062), 85.90403747558594)\n"
          ]
        }
      ],
      "source": [
        "submission = {'filename': [], 'center_x_mm': [], 'center_y_mm': [], 'semi_axes_a_mm': [],\n",
        "             'semi_axes_b_mm': [], 'angle_rad': [], 'Index': []}\n",
        "\n",
        "\n",
        "\n",
        "file_names = sorted([file for _,_,files in os.walk('/content/drive/MyDrive/FinalProject/Dataset/segmentation_test_2/') for file in files])\n",
        "\n",
        "for i, file_name in enumerate(file_names):\n",
        "    im = cv2.imread('/content/drive/MyDrive/FinalProject/Dataset/segmentation_test_2/'+file_name)\n",
        "\n",
        "    ellipse = test_ellipse(im)\n",
        "    im_mask = cv2.ellipse(np.zeros_like(im),ellipse,(255,255,255),-1,100)\n",
        "    image_name = file_name.split('.')[0] + '_Annotation_fit.png'\n",
        "\n",
        "\n",
        "    pixel_size = test_csv.loc[test_csv['filename'] == file_name, 'pixel size(mm)'].iloc[0]\n",
        "    submission['filename'].extend([file_name])\n",
        "    submission['Index'].extend([int(file_name.split('_')[0])])\n",
        "    center_x,  center_y = ellipse[0]\n",
        "    submission['center_x_mm'].extend([pixel_size*center_x])\n",
        "    submission['center_y_mm'].extend([pixel_size*center_y])\n",
        "    semi_axes_b, semi_axes_a = ellipse[1]\n",
        "    if semi_axes_b > semi_axes_a:\n",
        "        semi_axes_b = semi_axes_b + semi_axes_a\n",
        "        semi_axes_a = semi_axes_b - semi_axes_a\n",
        "        semi_axes_b -= semi_axes_a\n",
        "    submission['semi_axes_a_mm'].extend([semi_axes_a*pixel_size/2])\n",
        "    submission['semi_axes_b_mm'].extend([semi_axes_b*pixel_size/2])\n",
        "    angle = ellipse[2]\n",
        "    if angle < 90:\n",
        "        angle += 90\n",
        "    else:\n",
        "        angle -= 90\n",
        "    submission['angle_rad'].extend([np.deg2rad(angle)])\n",
        "    #OFD,  BPD = ellipse[3]\n",
        "    #submission['OFD'].extend([semi_axes_a_mm*2])\n",
        "    #submission['BPD'].extend([semi_axes_b*2])\n",
        "    #submission['Head Circumfrence'].extend([1.62*(BPD + OFD)^3])\n",
        "submission = pd.DataFrame(submission)\n",
        "submission = submission[['filename', 'center_x_mm', 'center_y_mm',\n",
        "                         'semi_axes_a_mm', 'semi_axes_b_mm', 'angle_rad', 'Index']]\n",
        "submission = submission.sort_values(['Index'])\n",
        "submission = submission.drop('Index', axis=1)\n",
        "submission.to_csv(\"/content/drive/MyDrive/FinalProject/final1_result.csv\", index=False)\n",
        "print('Required .csv file generated')\n",
        "print(ellipse)"
      ]
    },
    {
      "cell_type": "code",
      "execution_count": 162,
      "metadata": {
        "id": "h3fRXZtCjqr5"
      },
      "outputs": [],
      "source": [
        "\n",
        "final_result = pd.read_csv('/content/drive/MyDrive/FinalProject/final1_result.csv')"
      ]
    },
    {
      "cell_type": "code",
      "execution_count": null,
      "metadata": {
        "id": "lFquierTY18S"
      },
      "outputs": [],
      "source": [
        "#HeadCircumfrence = 1.62*(BPD + OFD)^3\n",
        "#HeadCircumfrence"
      ]
    },
    {
      "cell_type": "code",
      "execution_count": 163,
      "metadata": {
        "id": "i9x0IkjLkaj_",
        "colab": {
          "base_uri": "https://localhost:8080/",
          "height": 206
        },
        "outputId": "6a52fdf7-d1a1-4587-a8a7-df1f51ab245e"
      },
      "outputs": [
        {
          "output_type": "execute_result",
          "data": {
            "text/plain": [
              "     filename  center_x_mm  center_y_mm  semi_axes_a_mm  semi_axes_b_mm  \\\n",
              "0  000_HC.png    88.714898    63.079966       47.060172       45.370412   \n",
              "1  001_HC.png    25.481886    19.894228       18.069902       11.472285   \n",
              "2  002_HC.png    63.933676    45.167347       49.238524       32.310532   \n",
              "3  003_HC.png    35.801593    27.040977       32.794270       19.883441   \n",
              "4  004_HC.png    78.040129    56.286846       61.916313       40.824173   \n",
              "\n",
              "   angle_rad  \n",
              "0   2.534703  \n",
              "1   0.122690  \n",
              "2   3.124618  \n",
              "3   3.127501  \n",
              "4   0.014061  "
            ],
            "text/html": [
              "\n",
              "  <div id=\"df-c3dc7966-bea1-442a-acd3-e0cc8ba79891\" class=\"colab-df-container\">\n",
              "    <div>\n",
              "<style scoped>\n",
              "    .dataframe tbody tr th:only-of-type {\n",
              "        vertical-align: middle;\n",
              "    }\n",
              "\n",
              "    .dataframe tbody tr th {\n",
              "        vertical-align: top;\n",
              "    }\n",
              "\n",
              "    .dataframe thead th {\n",
              "        text-align: right;\n",
              "    }\n",
              "</style>\n",
              "<table border=\"1\" class=\"dataframe\">\n",
              "  <thead>\n",
              "    <tr style=\"text-align: right;\">\n",
              "      <th></th>\n",
              "      <th>filename</th>\n",
              "      <th>center_x_mm</th>\n",
              "      <th>center_y_mm</th>\n",
              "      <th>semi_axes_a_mm</th>\n",
              "      <th>semi_axes_b_mm</th>\n",
              "      <th>angle_rad</th>\n",
              "    </tr>\n",
              "  </thead>\n",
              "  <tbody>\n",
              "    <tr>\n",
              "      <th>0</th>\n",
              "      <td>000_HC.png</td>\n",
              "      <td>88.714898</td>\n",
              "      <td>63.079966</td>\n",
              "      <td>47.060172</td>\n",
              "      <td>45.370412</td>\n",
              "      <td>2.534703</td>\n",
              "    </tr>\n",
              "    <tr>\n",
              "      <th>1</th>\n",
              "      <td>001_HC.png</td>\n",
              "      <td>25.481886</td>\n",
              "      <td>19.894228</td>\n",
              "      <td>18.069902</td>\n",
              "      <td>11.472285</td>\n",
              "      <td>0.122690</td>\n",
              "    </tr>\n",
              "    <tr>\n",
              "      <th>2</th>\n",
              "      <td>002_HC.png</td>\n",
              "      <td>63.933676</td>\n",
              "      <td>45.167347</td>\n",
              "      <td>49.238524</td>\n",
              "      <td>32.310532</td>\n",
              "      <td>3.124618</td>\n",
              "    </tr>\n",
              "    <tr>\n",
              "      <th>3</th>\n",
              "      <td>003_HC.png</td>\n",
              "      <td>35.801593</td>\n",
              "      <td>27.040977</td>\n",
              "      <td>32.794270</td>\n",
              "      <td>19.883441</td>\n",
              "      <td>3.127501</td>\n",
              "    </tr>\n",
              "    <tr>\n",
              "      <th>4</th>\n",
              "      <td>004_HC.png</td>\n",
              "      <td>78.040129</td>\n",
              "      <td>56.286846</td>\n",
              "      <td>61.916313</td>\n",
              "      <td>40.824173</td>\n",
              "      <td>0.014061</td>\n",
              "    </tr>\n",
              "  </tbody>\n",
              "</table>\n",
              "</div>\n",
              "    <div class=\"colab-df-buttons\">\n",
              "\n",
              "  <div class=\"colab-df-container\">\n",
              "    <button class=\"colab-df-convert\" onclick=\"convertToInteractive('df-c3dc7966-bea1-442a-acd3-e0cc8ba79891')\"\n",
              "            title=\"Convert this dataframe to an interactive table.\"\n",
              "            style=\"display:none;\">\n",
              "\n",
              "  <svg xmlns=\"http://www.w3.org/2000/svg\" height=\"24px\" viewBox=\"0 -960 960 960\">\n",
              "    <path d=\"M120-120v-720h720v720H120Zm60-500h600v-160H180v160Zm220 220h160v-160H400v160Zm0 220h160v-160H400v160ZM180-400h160v-160H180v160Zm440 0h160v-160H620v160ZM180-180h160v-160H180v160Zm440 0h160v-160H620v160Z\"/>\n",
              "  </svg>\n",
              "    </button>\n",
              "\n",
              "  <style>\n",
              "    .colab-df-container {\n",
              "      display:flex;\n",
              "      gap: 12px;\n",
              "    }\n",
              "\n",
              "    .colab-df-convert {\n",
              "      background-color: #E8F0FE;\n",
              "      border: none;\n",
              "      border-radius: 50%;\n",
              "      cursor: pointer;\n",
              "      display: none;\n",
              "      fill: #1967D2;\n",
              "      height: 32px;\n",
              "      padding: 0 0 0 0;\n",
              "      width: 32px;\n",
              "    }\n",
              "\n",
              "    .colab-df-convert:hover {\n",
              "      background-color: #E2EBFA;\n",
              "      box-shadow: 0px 1px 2px rgba(60, 64, 67, 0.3), 0px 1px 3px 1px rgba(60, 64, 67, 0.15);\n",
              "      fill: #174EA6;\n",
              "    }\n",
              "\n",
              "    .colab-df-buttons div {\n",
              "      margin-bottom: 4px;\n",
              "    }\n",
              "\n",
              "    [theme=dark] .colab-df-convert {\n",
              "      background-color: #3B4455;\n",
              "      fill: #D2E3FC;\n",
              "    }\n",
              "\n",
              "    [theme=dark] .colab-df-convert:hover {\n",
              "      background-color: #434B5C;\n",
              "      box-shadow: 0px 1px 3px 1px rgba(0, 0, 0, 0.15);\n",
              "      filter: drop-shadow(0px 1px 2px rgba(0, 0, 0, 0.3));\n",
              "      fill: #FFFFFF;\n",
              "    }\n",
              "  </style>\n",
              "\n",
              "    <script>\n",
              "      const buttonEl =\n",
              "        document.querySelector('#df-c3dc7966-bea1-442a-acd3-e0cc8ba79891 button.colab-df-convert');\n",
              "      buttonEl.style.display =\n",
              "        google.colab.kernel.accessAllowed ? 'block' : 'none';\n",
              "\n",
              "      async function convertToInteractive(key) {\n",
              "        const element = document.querySelector('#df-c3dc7966-bea1-442a-acd3-e0cc8ba79891');\n",
              "        const dataTable =\n",
              "          await google.colab.kernel.invokeFunction('convertToInteractive',\n",
              "                                                    [key], {});\n",
              "        if (!dataTable) return;\n",
              "\n",
              "        const docLinkHtml = 'Like what you see? Visit the ' +\n",
              "          '<a target=\"_blank\" href=https://colab.research.google.com/notebooks/data_table.ipynb>data table notebook</a>'\n",
              "          + ' to learn more about interactive tables.';\n",
              "        element.innerHTML = '';\n",
              "        dataTable['output_type'] = 'display_data';\n",
              "        await google.colab.output.renderOutput(dataTable, element);\n",
              "        const docLink = document.createElement('div');\n",
              "        docLink.innerHTML = docLinkHtml;\n",
              "        element.appendChild(docLink);\n",
              "      }\n",
              "    </script>\n",
              "  </div>\n",
              "\n",
              "\n",
              "<div id=\"df-4f5188d5-6ee8-44ac-94b8-b022c94d18fb\">\n",
              "  <button class=\"colab-df-quickchart\" onclick=\"quickchart('df-4f5188d5-6ee8-44ac-94b8-b022c94d18fb')\"\n",
              "            title=\"Suggest charts\"\n",
              "            style=\"display:none;\">\n",
              "\n",
              "<svg xmlns=\"http://www.w3.org/2000/svg\" height=\"24px\"viewBox=\"0 0 24 24\"\n",
              "     width=\"24px\">\n",
              "    <g>\n",
              "        <path d=\"M19 3H5c-1.1 0-2 .9-2 2v14c0 1.1.9 2 2 2h14c1.1 0 2-.9 2-2V5c0-1.1-.9-2-2-2zM9 17H7v-7h2v7zm4 0h-2V7h2v10zm4 0h-2v-4h2v4z\"/>\n",
              "    </g>\n",
              "</svg>\n",
              "  </button>\n",
              "\n",
              "<style>\n",
              "  .colab-df-quickchart {\n",
              "      --bg-color: #E8F0FE;\n",
              "      --fill-color: #1967D2;\n",
              "      --hover-bg-color: #E2EBFA;\n",
              "      --hover-fill-color: #174EA6;\n",
              "      --disabled-fill-color: #AAA;\n",
              "      --disabled-bg-color: #DDD;\n",
              "  }\n",
              "\n",
              "  [theme=dark] .colab-df-quickchart {\n",
              "      --bg-color: #3B4455;\n",
              "      --fill-color: #D2E3FC;\n",
              "      --hover-bg-color: #434B5C;\n",
              "      --hover-fill-color: #FFFFFF;\n",
              "      --disabled-bg-color: #3B4455;\n",
              "      --disabled-fill-color: #666;\n",
              "  }\n",
              "\n",
              "  .colab-df-quickchart {\n",
              "    background-color: var(--bg-color);\n",
              "    border: none;\n",
              "    border-radius: 50%;\n",
              "    cursor: pointer;\n",
              "    display: none;\n",
              "    fill: var(--fill-color);\n",
              "    height: 32px;\n",
              "    padding: 0;\n",
              "    width: 32px;\n",
              "  }\n",
              "\n",
              "  .colab-df-quickchart:hover {\n",
              "    background-color: var(--hover-bg-color);\n",
              "    box-shadow: 0 1px 2px rgba(60, 64, 67, 0.3), 0 1px 3px 1px rgba(60, 64, 67, 0.15);\n",
              "    fill: var(--button-hover-fill-color);\n",
              "  }\n",
              "\n",
              "  .colab-df-quickchart-complete:disabled,\n",
              "  .colab-df-quickchart-complete:disabled:hover {\n",
              "    background-color: var(--disabled-bg-color);\n",
              "    fill: var(--disabled-fill-color);\n",
              "    box-shadow: none;\n",
              "  }\n",
              "\n",
              "  .colab-df-spinner {\n",
              "    border: 2px solid var(--fill-color);\n",
              "    border-color: transparent;\n",
              "    border-bottom-color: var(--fill-color);\n",
              "    animation:\n",
              "      spin 1s steps(1) infinite;\n",
              "  }\n",
              "\n",
              "  @keyframes spin {\n",
              "    0% {\n",
              "      border-color: transparent;\n",
              "      border-bottom-color: var(--fill-color);\n",
              "      border-left-color: var(--fill-color);\n",
              "    }\n",
              "    20% {\n",
              "      border-color: transparent;\n",
              "      border-left-color: var(--fill-color);\n",
              "      border-top-color: var(--fill-color);\n",
              "    }\n",
              "    30% {\n",
              "      border-color: transparent;\n",
              "      border-left-color: var(--fill-color);\n",
              "      border-top-color: var(--fill-color);\n",
              "      border-right-color: var(--fill-color);\n",
              "    }\n",
              "    40% {\n",
              "      border-color: transparent;\n",
              "      border-right-color: var(--fill-color);\n",
              "      border-top-color: var(--fill-color);\n",
              "    }\n",
              "    60% {\n",
              "      border-color: transparent;\n",
              "      border-right-color: var(--fill-color);\n",
              "    }\n",
              "    80% {\n",
              "      border-color: transparent;\n",
              "      border-right-color: var(--fill-color);\n",
              "      border-bottom-color: var(--fill-color);\n",
              "    }\n",
              "    90% {\n",
              "      border-color: transparent;\n",
              "      border-bottom-color: var(--fill-color);\n",
              "    }\n",
              "  }\n",
              "</style>\n",
              "\n",
              "  <script>\n",
              "    async function quickchart(key) {\n",
              "      const quickchartButtonEl =\n",
              "        document.querySelector('#' + key + ' button');\n",
              "      quickchartButtonEl.disabled = true;  // To prevent multiple clicks.\n",
              "      quickchartButtonEl.classList.add('colab-df-spinner');\n",
              "      try {\n",
              "        const charts = await google.colab.kernel.invokeFunction(\n",
              "            'suggestCharts', [key], {});\n",
              "      } catch (error) {\n",
              "        console.error('Error during call to suggestCharts:', error);\n",
              "      }\n",
              "      quickchartButtonEl.classList.remove('colab-df-spinner');\n",
              "      quickchartButtonEl.classList.add('colab-df-quickchart-complete');\n",
              "    }\n",
              "    (() => {\n",
              "      let quickchartButtonEl =\n",
              "        document.querySelector('#df-4f5188d5-6ee8-44ac-94b8-b022c94d18fb button');\n",
              "      quickchartButtonEl.style.display =\n",
              "        google.colab.kernel.accessAllowed ? 'block' : 'none';\n",
              "    })();\n",
              "  </script>\n",
              "</div>\n",
              "\n",
              "    </div>\n",
              "  </div>\n"
            ]
          },
          "metadata": {},
          "execution_count": 163
        }
      ],
      "source": [
        "final_result.head()"
      ]
    },
    {
      "cell_type": "code",
      "execution_count": 164,
      "metadata": {
        "id": "M73KNKOlkc-v",
        "colab": {
          "base_uri": "https://localhost:8080/"
        },
        "outputId": "6d261a93-9eb8-4b37-dfac-66eb900a7279"
      },
      "outputs": [
        {
          "output_type": "execute_result",
          "data": {
            "text/plain": [
              "335"
            ]
          },
          "metadata": {},
          "execution_count": 164
        }
      ],
      "source": [
        "len(final_result)"
      ]
    },
    {
      "cell_type": "markdown",
      "metadata": {
        "id": "RNms8Sos1A2W"
      },
      "source": [
        "##Caculating The Head Circumfrence"
      ]
    },
    {
      "cell_type": "code",
      "execution_count": 166,
      "metadata": {
        "id": "6b8_W84BQB3X"
      },
      "outputs": [],
      "source": [
        "df = pd.read_csv(\"/content/drive/MyDrive/FinalProject/final1_result.csv\")"
      ]
    },
    {
      "cell_type": "code",
      "execution_count": 168,
      "metadata": {
        "id": "BP7pw4pYSQAm"
      },
      "outputs": [],
      "source": [
        "df['OFD']= np.round(df.semi_axes_a_mm*2,1)"
      ]
    },
    {
      "cell_type": "code",
      "execution_count": 169,
      "metadata": {
        "id": "g0Zyxl-bSje4"
      },
      "outputs": [],
      "source": [
        "df['BPD']= np.round(df.semi_axes_b_mm*2,1)"
      ]
    },
    {
      "cell_type": "code",
      "execution_count": 170,
      "metadata": {
        "id": "J94cOb_TRIWL"
      },
      "outputs": [],
      "source": [
        "b = np.round(df.BPD,1)"
      ]
    },
    {
      "cell_type": "code",
      "execution_count": 171,
      "metadata": {
        "id": "KQlbL51_TtqE"
      },
      "outputs": [],
      "source": [
        "c= np.round(df.OFD,1)"
      ]
    },
    {
      "cell_type": "code",
      "execution_count": 172,
      "metadata": {
        "id": "2ReWtrvGTz4Z"
      },
      "outputs": [],
      "source": [
        "d = b+c\n",
        "e=d*d*d\n",
        "f=(1.62*e)\n",
        "g=np.round(f**(1/3),1)\n",
        "h=g/10"
      ]
    },
    {
      "cell_type": "code",
      "execution_count": 173,
      "metadata": {
        "id": "J3DbWTvTUae1"
      },
      "outputs": [],
      "source": [
        "df['Head_Circumfrence_cm']= h"
      ]
    },
    {
      "cell_type": "code",
      "execution_count": 174,
      "metadata": {
        "id": "yFYZoMtERatb",
        "colab": {
          "base_uri": "https://localhost:8080/",
          "height": 206
        },
        "outputId": "030508a6-a915-43eb-df51-c0bdad40e98b"
      },
      "outputs": [
        {
          "output_type": "execute_result",
          "data": {
            "text/plain": [
              "     filename  center_x_mm  center_y_mm  semi_axes_a_mm  semi_axes_b_mm  \\\n",
              "0  000_HC.png    88.714898    63.079966       47.060172       45.370412   \n",
              "1  001_HC.png    25.481886    19.894228       18.069902       11.472285   \n",
              "2  002_HC.png    63.933676    45.167347       49.238524       32.310532   \n",
              "3  003_HC.png    35.801593    27.040977       32.794270       19.883441   \n",
              "4  004_HC.png    78.040129    56.286846       61.916313       40.824173   \n",
              "\n",
              "   angle_rad    OFD   BPD  Head_Circumfrence_cm  \n",
              "0   2.534703   94.1  90.7                 21.70  \n",
              "1   0.122690   36.1  22.9                  6.93  \n",
              "2   3.124618   98.5  64.6                 19.16  \n",
              "3   3.127501   65.6  39.8                 12.38  \n",
              "4   0.014061  123.8  81.6                 24.12  "
            ],
            "text/html": [
              "\n",
              "  <div id=\"df-0b626569-8aad-4f8e-bc47-54ce6b8fa809\" class=\"colab-df-container\">\n",
              "    <div>\n",
              "<style scoped>\n",
              "    .dataframe tbody tr th:only-of-type {\n",
              "        vertical-align: middle;\n",
              "    }\n",
              "\n",
              "    .dataframe tbody tr th {\n",
              "        vertical-align: top;\n",
              "    }\n",
              "\n",
              "    .dataframe thead th {\n",
              "        text-align: right;\n",
              "    }\n",
              "</style>\n",
              "<table border=\"1\" class=\"dataframe\">\n",
              "  <thead>\n",
              "    <tr style=\"text-align: right;\">\n",
              "      <th></th>\n",
              "      <th>filename</th>\n",
              "      <th>center_x_mm</th>\n",
              "      <th>center_y_mm</th>\n",
              "      <th>semi_axes_a_mm</th>\n",
              "      <th>semi_axes_b_mm</th>\n",
              "      <th>angle_rad</th>\n",
              "      <th>OFD</th>\n",
              "      <th>BPD</th>\n",
              "      <th>Head_Circumfrence_cm</th>\n",
              "    </tr>\n",
              "  </thead>\n",
              "  <tbody>\n",
              "    <tr>\n",
              "      <th>0</th>\n",
              "      <td>000_HC.png</td>\n",
              "      <td>88.714898</td>\n",
              "      <td>63.079966</td>\n",
              "      <td>47.060172</td>\n",
              "      <td>45.370412</td>\n",
              "      <td>2.534703</td>\n",
              "      <td>94.1</td>\n",
              "      <td>90.7</td>\n",
              "      <td>21.70</td>\n",
              "    </tr>\n",
              "    <tr>\n",
              "      <th>1</th>\n",
              "      <td>001_HC.png</td>\n",
              "      <td>25.481886</td>\n",
              "      <td>19.894228</td>\n",
              "      <td>18.069902</td>\n",
              "      <td>11.472285</td>\n",
              "      <td>0.122690</td>\n",
              "      <td>36.1</td>\n",
              "      <td>22.9</td>\n",
              "      <td>6.93</td>\n",
              "    </tr>\n",
              "    <tr>\n",
              "      <th>2</th>\n",
              "      <td>002_HC.png</td>\n",
              "      <td>63.933676</td>\n",
              "      <td>45.167347</td>\n",
              "      <td>49.238524</td>\n",
              "      <td>32.310532</td>\n",
              "      <td>3.124618</td>\n",
              "      <td>98.5</td>\n",
              "      <td>64.6</td>\n",
              "      <td>19.16</td>\n",
              "    </tr>\n",
              "    <tr>\n",
              "      <th>3</th>\n",
              "      <td>003_HC.png</td>\n",
              "      <td>35.801593</td>\n",
              "      <td>27.040977</td>\n",
              "      <td>32.794270</td>\n",
              "      <td>19.883441</td>\n",
              "      <td>3.127501</td>\n",
              "      <td>65.6</td>\n",
              "      <td>39.8</td>\n",
              "      <td>12.38</td>\n",
              "    </tr>\n",
              "    <tr>\n",
              "      <th>4</th>\n",
              "      <td>004_HC.png</td>\n",
              "      <td>78.040129</td>\n",
              "      <td>56.286846</td>\n",
              "      <td>61.916313</td>\n",
              "      <td>40.824173</td>\n",
              "      <td>0.014061</td>\n",
              "      <td>123.8</td>\n",
              "      <td>81.6</td>\n",
              "      <td>24.12</td>\n",
              "    </tr>\n",
              "  </tbody>\n",
              "</table>\n",
              "</div>\n",
              "    <div class=\"colab-df-buttons\">\n",
              "\n",
              "  <div class=\"colab-df-container\">\n",
              "    <button class=\"colab-df-convert\" onclick=\"convertToInteractive('df-0b626569-8aad-4f8e-bc47-54ce6b8fa809')\"\n",
              "            title=\"Convert this dataframe to an interactive table.\"\n",
              "            style=\"display:none;\">\n",
              "\n",
              "  <svg xmlns=\"http://www.w3.org/2000/svg\" height=\"24px\" viewBox=\"0 -960 960 960\">\n",
              "    <path d=\"M120-120v-720h720v720H120Zm60-500h600v-160H180v160Zm220 220h160v-160H400v160Zm0 220h160v-160H400v160ZM180-400h160v-160H180v160Zm440 0h160v-160H620v160ZM180-180h160v-160H180v160Zm440 0h160v-160H620v160Z\"/>\n",
              "  </svg>\n",
              "    </button>\n",
              "\n",
              "  <style>\n",
              "    .colab-df-container {\n",
              "      display:flex;\n",
              "      gap: 12px;\n",
              "    }\n",
              "\n",
              "    .colab-df-convert {\n",
              "      background-color: #E8F0FE;\n",
              "      border: none;\n",
              "      border-radius: 50%;\n",
              "      cursor: pointer;\n",
              "      display: none;\n",
              "      fill: #1967D2;\n",
              "      height: 32px;\n",
              "      padding: 0 0 0 0;\n",
              "      width: 32px;\n",
              "    }\n",
              "\n",
              "    .colab-df-convert:hover {\n",
              "      background-color: #E2EBFA;\n",
              "      box-shadow: 0px 1px 2px rgba(60, 64, 67, 0.3), 0px 1px 3px 1px rgba(60, 64, 67, 0.15);\n",
              "      fill: #174EA6;\n",
              "    }\n",
              "\n",
              "    .colab-df-buttons div {\n",
              "      margin-bottom: 4px;\n",
              "    }\n",
              "\n",
              "    [theme=dark] .colab-df-convert {\n",
              "      background-color: #3B4455;\n",
              "      fill: #D2E3FC;\n",
              "    }\n",
              "\n",
              "    [theme=dark] .colab-df-convert:hover {\n",
              "      background-color: #434B5C;\n",
              "      box-shadow: 0px 1px 3px 1px rgba(0, 0, 0, 0.15);\n",
              "      filter: drop-shadow(0px 1px 2px rgba(0, 0, 0, 0.3));\n",
              "      fill: #FFFFFF;\n",
              "    }\n",
              "  </style>\n",
              "\n",
              "    <script>\n",
              "      const buttonEl =\n",
              "        document.querySelector('#df-0b626569-8aad-4f8e-bc47-54ce6b8fa809 button.colab-df-convert');\n",
              "      buttonEl.style.display =\n",
              "        google.colab.kernel.accessAllowed ? 'block' : 'none';\n",
              "\n",
              "      async function convertToInteractive(key) {\n",
              "        const element = document.querySelector('#df-0b626569-8aad-4f8e-bc47-54ce6b8fa809');\n",
              "        const dataTable =\n",
              "          await google.colab.kernel.invokeFunction('convertToInteractive',\n",
              "                                                    [key], {});\n",
              "        if (!dataTable) return;\n",
              "\n",
              "        const docLinkHtml = 'Like what you see? Visit the ' +\n",
              "          '<a target=\"_blank\" href=https://colab.research.google.com/notebooks/data_table.ipynb>data table notebook</a>'\n",
              "          + ' to learn more about interactive tables.';\n",
              "        element.innerHTML = '';\n",
              "        dataTable['output_type'] = 'display_data';\n",
              "        await google.colab.output.renderOutput(dataTable, element);\n",
              "        const docLink = document.createElement('div');\n",
              "        docLink.innerHTML = docLinkHtml;\n",
              "        element.appendChild(docLink);\n",
              "      }\n",
              "    </script>\n",
              "  </div>\n",
              "\n",
              "\n",
              "<div id=\"df-2d970894-7d48-4613-a5f9-5d0d1afb1e96\">\n",
              "  <button class=\"colab-df-quickchart\" onclick=\"quickchart('df-2d970894-7d48-4613-a5f9-5d0d1afb1e96')\"\n",
              "            title=\"Suggest charts\"\n",
              "            style=\"display:none;\">\n",
              "\n",
              "<svg xmlns=\"http://www.w3.org/2000/svg\" height=\"24px\"viewBox=\"0 0 24 24\"\n",
              "     width=\"24px\">\n",
              "    <g>\n",
              "        <path d=\"M19 3H5c-1.1 0-2 .9-2 2v14c0 1.1.9 2 2 2h14c1.1 0 2-.9 2-2V5c0-1.1-.9-2-2-2zM9 17H7v-7h2v7zm4 0h-2V7h2v10zm4 0h-2v-4h2v4z\"/>\n",
              "    </g>\n",
              "</svg>\n",
              "  </button>\n",
              "\n",
              "<style>\n",
              "  .colab-df-quickchart {\n",
              "      --bg-color: #E8F0FE;\n",
              "      --fill-color: #1967D2;\n",
              "      --hover-bg-color: #E2EBFA;\n",
              "      --hover-fill-color: #174EA6;\n",
              "      --disabled-fill-color: #AAA;\n",
              "      --disabled-bg-color: #DDD;\n",
              "  }\n",
              "\n",
              "  [theme=dark] .colab-df-quickchart {\n",
              "      --bg-color: #3B4455;\n",
              "      --fill-color: #D2E3FC;\n",
              "      --hover-bg-color: #434B5C;\n",
              "      --hover-fill-color: #FFFFFF;\n",
              "      --disabled-bg-color: #3B4455;\n",
              "      --disabled-fill-color: #666;\n",
              "  }\n",
              "\n",
              "  .colab-df-quickchart {\n",
              "    background-color: var(--bg-color);\n",
              "    border: none;\n",
              "    border-radius: 50%;\n",
              "    cursor: pointer;\n",
              "    display: none;\n",
              "    fill: var(--fill-color);\n",
              "    height: 32px;\n",
              "    padding: 0;\n",
              "    width: 32px;\n",
              "  }\n",
              "\n",
              "  .colab-df-quickchart:hover {\n",
              "    background-color: var(--hover-bg-color);\n",
              "    box-shadow: 0 1px 2px rgba(60, 64, 67, 0.3), 0 1px 3px 1px rgba(60, 64, 67, 0.15);\n",
              "    fill: var(--button-hover-fill-color);\n",
              "  }\n",
              "\n",
              "  .colab-df-quickchart-complete:disabled,\n",
              "  .colab-df-quickchart-complete:disabled:hover {\n",
              "    background-color: var(--disabled-bg-color);\n",
              "    fill: var(--disabled-fill-color);\n",
              "    box-shadow: none;\n",
              "  }\n",
              "\n",
              "  .colab-df-spinner {\n",
              "    border: 2px solid var(--fill-color);\n",
              "    border-color: transparent;\n",
              "    border-bottom-color: var(--fill-color);\n",
              "    animation:\n",
              "      spin 1s steps(1) infinite;\n",
              "  }\n",
              "\n",
              "  @keyframes spin {\n",
              "    0% {\n",
              "      border-color: transparent;\n",
              "      border-bottom-color: var(--fill-color);\n",
              "      border-left-color: var(--fill-color);\n",
              "    }\n",
              "    20% {\n",
              "      border-color: transparent;\n",
              "      border-left-color: var(--fill-color);\n",
              "      border-top-color: var(--fill-color);\n",
              "    }\n",
              "    30% {\n",
              "      border-color: transparent;\n",
              "      border-left-color: var(--fill-color);\n",
              "      border-top-color: var(--fill-color);\n",
              "      border-right-color: var(--fill-color);\n",
              "    }\n",
              "    40% {\n",
              "      border-color: transparent;\n",
              "      border-right-color: var(--fill-color);\n",
              "      border-top-color: var(--fill-color);\n",
              "    }\n",
              "    60% {\n",
              "      border-color: transparent;\n",
              "      border-right-color: var(--fill-color);\n",
              "    }\n",
              "    80% {\n",
              "      border-color: transparent;\n",
              "      border-right-color: var(--fill-color);\n",
              "      border-bottom-color: var(--fill-color);\n",
              "    }\n",
              "    90% {\n",
              "      border-color: transparent;\n",
              "      border-bottom-color: var(--fill-color);\n",
              "    }\n",
              "  }\n",
              "</style>\n",
              "\n",
              "  <script>\n",
              "    async function quickchart(key) {\n",
              "      const quickchartButtonEl =\n",
              "        document.querySelector('#' + key + ' button');\n",
              "      quickchartButtonEl.disabled = true;  // To prevent multiple clicks.\n",
              "      quickchartButtonEl.classList.add('colab-df-spinner');\n",
              "      try {\n",
              "        const charts = await google.colab.kernel.invokeFunction(\n",
              "            'suggestCharts', [key], {});\n",
              "      } catch (error) {\n",
              "        console.error('Error during call to suggestCharts:', error);\n",
              "      }\n",
              "      quickchartButtonEl.classList.remove('colab-df-spinner');\n",
              "      quickchartButtonEl.classList.add('colab-df-quickchart-complete');\n",
              "    }\n",
              "    (() => {\n",
              "      let quickchartButtonEl =\n",
              "        document.querySelector('#df-2d970894-7d48-4613-a5f9-5d0d1afb1e96 button');\n",
              "      quickchartButtonEl.style.display =\n",
              "        google.colab.kernel.accessAllowed ? 'block' : 'none';\n",
              "    })();\n",
              "  </script>\n",
              "</div>\n",
              "\n",
              "    </div>\n",
              "  </div>\n"
            ]
          },
          "metadata": {},
          "execution_count": 174
        }
      ],
      "source": [
        "df.head()"
      ]
    },
    {
      "cell_type": "markdown",
      "metadata": {
        "id": "ymE4pW7X1Iio"
      },
      "source": [
        "## Adding Gestational Age Data"
      ]
    },
    {
      "cell_type": "code",
      "execution_count": 175,
      "metadata": {
        "id": "moo1zBn5cddS",
        "colab": {
          "base_uri": "https://localhost:8080/",
          "height": 363
        },
        "outputId": "d912903c-781e-46d0-b4ec-afc2b177ae0c"
      },
      "outputs": [
        {
          "output_type": "execute_result",
          "data": {
            "text/plain": [
              "     filename  center_x_mm  center_y_mm  semi_axes_a_mm  semi_axes_b_mm  \\\n",
              "0  000_HC.png    88.714898    63.079966       47.060172       45.370412   \n",
              "1  001_HC.png    25.481886    19.894228       18.069902       11.472285   \n",
              "2  002_HC.png    63.933676    45.167347       49.238524       32.310532   \n",
              "3  003_HC.png    35.801593    27.040977       32.794270       19.883441   \n",
              "4  004_HC.png    78.040129    56.286846       61.916313       40.824173   \n",
              "5  005_HC.png    44.304389    30.702953       37.734044       23.433787   \n",
              "6  006_HC.png    54.362776    37.463222       45.957927       27.986510   \n",
              "7  007_HC.png    53.636337    39.618488       40.014438       28.702027   \n",
              "8  008_HC.png    57.022124    46.434199       34.021032       28.693089   \n",
              "9  009_HC.png   136.427983    94.278504       65.343440       62.066156   \n",
              "\n",
              "   angle_rad    OFD    BPD  Head_Circumfrence_cm  \\\n",
              "0   2.534703   94.1   90.7                 21.70   \n",
              "1   0.122690   36.1   22.9                  6.93   \n",
              "2   3.124618   98.5   64.6                 19.16   \n",
              "3   3.127501   65.6   39.8                 12.38   \n",
              "4   0.014061  123.8   81.6                 24.12   \n",
              "5   3.049004   75.5   46.9                 14.38   \n",
              "6   0.000995   91.9   56.0                 17.37   \n",
              "7   3.067379   80.0   57.4                 16.14   \n",
              "8   2.901402   68.0   57.4                 14.73   \n",
              "9   1.553030  130.7  124.1                 29.93   \n",
              "\n",
              "               Gestational_Age_In_Weeks  \n",
              "0                                    23  \n",
              "1  Fetus is less than 8 Menstrual Weeks  \n",
              "2                                    21  \n",
              "3                                    15  \n",
              "4                                    26  \n",
              "5                                    17  \n",
              "6                                    19  \n",
              "7                                    18  \n",
              "8                                    17  \n",
              "9                                    32  "
            ],
            "text/html": [
              "\n",
              "  <div id=\"df-9fe7e727-ce6b-4a96-81db-f14af7043092\" class=\"colab-df-container\">\n",
              "    <div>\n",
              "<style scoped>\n",
              "    .dataframe tbody tr th:only-of-type {\n",
              "        vertical-align: middle;\n",
              "    }\n",
              "\n",
              "    .dataframe tbody tr th {\n",
              "        vertical-align: top;\n",
              "    }\n",
              "\n",
              "    .dataframe thead th {\n",
              "        text-align: right;\n",
              "    }\n",
              "</style>\n",
              "<table border=\"1\" class=\"dataframe\">\n",
              "  <thead>\n",
              "    <tr style=\"text-align: right;\">\n",
              "      <th></th>\n",
              "      <th>filename</th>\n",
              "      <th>center_x_mm</th>\n",
              "      <th>center_y_mm</th>\n",
              "      <th>semi_axes_a_mm</th>\n",
              "      <th>semi_axes_b_mm</th>\n",
              "      <th>angle_rad</th>\n",
              "      <th>OFD</th>\n",
              "      <th>BPD</th>\n",
              "      <th>Head_Circumfrence_cm</th>\n",
              "      <th>Gestational_Age_In_Weeks</th>\n",
              "    </tr>\n",
              "  </thead>\n",
              "  <tbody>\n",
              "    <tr>\n",
              "      <th>0</th>\n",
              "      <td>000_HC.png</td>\n",
              "      <td>88.714898</td>\n",
              "      <td>63.079966</td>\n",
              "      <td>47.060172</td>\n",
              "      <td>45.370412</td>\n",
              "      <td>2.534703</td>\n",
              "      <td>94.1</td>\n",
              "      <td>90.7</td>\n",
              "      <td>21.70</td>\n",
              "      <td>23</td>\n",
              "    </tr>\n",
              "    <tr>\n",
              "      <th>1</th>\n",
              "      <td>001_HC.png</td>\n",
              "      <td>25.481886</td>\n",
              "      <td>19.894228</td>\n",
              "      <td>18.069902</td>\n",
              "      <td>11.472285</td>\n",
              "      <td>0.122690</td>\n",
              "      <td>36.1</td>\n",
              "      <td>22.9</td>\n",
              "      <td>6.93</td>\n",
              "      <td>Fetus is less than 8 Menstrual Weeks</td>\n",
              "    </tr>\n",
              "    <tr>\n",
              "      <th>2</th>\n",
              "      <td>002_HC.png</td>\n",
              "      <td>63.933676</td>\n",
              "      <td>45.167347</td>\n",
              "      <td>49.238524</td>\n",
              "      <td>32.310532</td>\n",
              "      <td>3.124618</td>\n",
              "      <td>98.5</td>\n",
              "      <td>64.6</td>\n",
              "      <td>19.16</td>\n",
              "      <td>21</td>\n",
              "    </tr>\n",
              "    <tr>\n",
              "      <th>3</th>\n",
              "      <td>003_HC.png</td>\n",
              "      <td>35.801593</td>\n",
              "      <td>27.040977</td>\n",
              "      <td>32.794270</td>\n",
              "      <td>19.883441</td>\n",
              "      <td>3.127501</td>\n",
              "      <td>65.6</td>\n",
              "      <td>39.8</td>\n",
              "      <td>12.38</td>\n",
              "      <td>15</td>\n",
              "    </tr>\n",
              "    <tr>\n",
              "      <th>4</th>\n",
              "      <td>004_HC.png</td>\n",
              "      <td>78.040129</td>\n",
              "      <td>56.286846</td>\n",
              "      <td>61.916313</td>\n",
              "      <td>40.824173</td>\n",
              "      <td>0.014061</td>\n",
              "      <td>123.8</td>\n",
              "      <td>81.6</td>\n",
              "      <td>24.12</td>\n",
              "      <td>26</td>\n",
              "    </tr>\n",
              "    <tr>\n",
              "      <th>5</th>\n",
              "      <td>005_HC.png</td>\n",
              "      <td>44.304389</td>\n",
              "      <td>30.702953</td>\n",
              "      <td>37.734044</td>\n",
              "      <td>23.433787</td>\n",
              "      <td>3.049004</td>\n",
              "      <td>75.5</td>\n",
              "      <td>46.9</td>\n",
              "      <td>14.38</td>\n",
              "      <td>17</td>\n",
              "    </tr>\n",
              "    <tr>\n",
              "      <th>6</th>\n",
              "      <td>006_HC.png</td>\n",
              "      <td>54.362776</td>\n",
              "      <td>37.463222</td>\n",
              "      <td>45.957927</td>\n",
              "      <td>27.986510</td>\n",
              "      <td>0.000995</td>\n",
              "      <td>91.9</td>\n",
              "      <td>56.0</td>\n",
              "      <td>17.37</td>\n",
              "      <td>19</td>\n",
              "    </tr>\n",
              "    <tr>\n",
              "      <th>7</th>\n",
              "      <td>007_HC.png</td>\n",
              "      <td>53.636337</td>\n",
              "      <td>39.618488</td>\n",
              "      <td>40.014438</td>\n",
              "      <td>28.702027</td>\n",
              "      <td>3.067379</td>\n",
              "      <td>80.0</td>\n",
              "      <td>57.4</td>\n",
              "      <td>16.14</td>\n",
              "      <td>18</td>\n",
              "    </tr>\n",
              "    <tr>\n",
              "      <th>8</th>\n",
              "      <td>008_HC.png</td>\n",
              "      <td>57.022124</td>\n",
              "      <td>46.434199</td>\n",
              "      <td>34.021032</td>\n",
              "      <td>28.693089</td>\n",
              "      <td>2.901402</td>\n",
              "      <td>68.0</td>\n",
              "      <td>57.4</td>\n",
              "      <td>14.73</td>\n",
              "      <td>17</td>\n",
              "    </tr>\n",
              "    <tr>\n",
              "      <th>9</th>\n",
              "      <td>009_HC.png</td>\n",
              "      <td>136.427983</td>\n",
              "      <td>94.278504</td>\n",
              "      <td>65.343440</td>\n",
              "      <td>62.066156</td>\n",
              "      <td>1.553030</td>\n",
              "      <td>130.7</td>\n",
              "      <td>124.1</td>\n",
              "      <td>29.93</td>\n",
              "      <td>32</td>\n",
              "    </tr>\n",
              "  </tbody>\n",
              "</table>\n",
              "</div>\n",
              "    <div class=\"colab-df-buttons\">\n",
              "\n",
              "  <div class=\"colab-df-container\">\n",
              "    <button class=\"colab-df-convert\" onclick=\"convertToInteractive('df-9fe7e727-ce6b-4a96-81db-f14af7043092')\"\n",
              "            title=\"Convert this dataframe to an interactive table.\"\n",
              "            style=\"display:none;\">\n",
              "\n",
              "  <svg xmlns=\"http://www.w3.org/2000/svg\" height=\"24px\" viewBox=\"0 -960 960 960\">\n",
              "    <path d=\"M120-120v-720h720v720H120Zm60-500h600v-160H180v160Zm220 220h160v-160H400v160Zm0 220h160v-160H400v160ZM180-400h160v-160H180v160Zm440 0h160v-160H620v160ZM180-180h160v-160H180v160Zm440 0h160v-160H620v160Z\"/>\n",
              "  </svg>\n",
              "    </button>\n",
              "\n",
              "  <style>\n",
              "    .colab-df-container {\n",
              "      display:flex;\n",
              "      gap: 12px;\n",
              "    }\n",
              "\n",
              "    .colab-df-convert {\n",
              "      background-color: #E8F0FE;\n",
              "      border: none;\n",
              "      border-radius: 50%;\n",
              "      cursor: pointer;\n",
              "      display: none;\n",
              "      fill: #1967D2;\n",
              "      height: 32px;\n",
              "      padding: 0 0 0 0;\n",
              "      width: 32px;\n",
              "    }\n",
              "\n",
              "    .colab-df-convert:hover {\n",
              "      background-color: #E2EBFA;\n",
              "      box-shadow: 0px 1px 2px rgba(60, 64, 67, 0.3), 0px 1px 3px 1px rgba(60, 64, 67, 0.15);\n",
              "      fill: #174EA6;\n",
              "    }\n",
              "\n",
              "    .colab-df-buttons div {\n",
              "      margin-bottom: 4px;\n",
              "    }\n",
              "\n",
              "    [theme=dark] .colab-df-convert {\n",
              "      background-color: #3B4455;\n",
              "      fill: #D2E3FC;\n",
              "    }\n",
              "\n",
              "    [theme=dark] .colab-df-convert:hover {\n",
              "      background-color: #434B5C;\n",
              "      box-shadow: 0px 1px 3px 1px rgba(0, 0, 0, 0.15);\n",
              "      filter: drop-shadow(0px 1px 2px rgba(0, 0, 0, 0.3));\n",
              "      fill: #FFFFFF;\n",
              "    }\n",
              "  </style>\n",
              "\n",
              "    <script>\n",
              "      const buttonEl =\n",
              "        document.querySelector('#df-9fe7e727-ce6b-4a96-81db-f14af7043092 button.colab-df-convert');\n",
              "      buttonEl.style.display =\n",
              "        google.colab.kernel.accessAllowed ? 'block' : 'none';\n",
              "\n",
              "      async function convertToInteractive(key) {\n",
              "        const element = document.querySelector('#df-9fe7e727-ce6b-4a96-81db-f14af7043092');\n",
              "        const dataTable =\n",
              "          await google.colab.kernel.invokeFunction('convertToInteractive',\n",
              "                                                    [key], {});\n",
              "        if (!dataTable) return;\n",
              "\n",
              "        const docLinkHtml = 'Like what you see? Visit the ' +\n",
              "          '<a target=\"_blank\" href=https://colab.research.google.com/notebooks/data_table.ipynb>data table notebook</a>'\n",
              "          + ' to learn more about interactive tables.';\n",
              "        element.innerHTML = '';\n",
              "        dataTable['output_type'] = 'display_data';\n",
              "        await google.colab.output.renderOutput(dataTable, element);\n",
              "        const docLink = document.createElement('div');\n",
              "        docLink.innerHTML = docLinkHtml;\n",
              "        element.appendChild(docLink);\n",
              "      }\n",
              "    </script>\n",
              "  </div>\n",
              "\n",
              "\n",
              "<div id=\"df-d1c68904-ceee-46a2-b6a3-aa4976d38768\">\n",
              "  <button class=\"colab-df-quickchart\" onclick=\"quickchart('df-d1c68904-ceee-46a2-b6a3-aa4976d38768')\"\n",
              "            title=\"Suggest charts\"\n",
              "            style=\"display:none;\">\n",
              "\n",
              "<svg xmlns=\"http://www.w3.org/2000/svg\" height=\"24px\"viewBox=\"0 0 24 24\"\n",
              "     width=\"24px\">\n",
              "    <g>\n",
              "        <path d=\"M19 3H5c-1.1 0-2 .9-2 2v14c0 1.1.9 2 2 2h14c1.1 0 2-.9 2-2V5c0-1.1-.9-2-2-2zM9 17H7v-7h2v7zm4 0h-2V7h2v10zm4 0h-2v-4h2v4z\"/>\n",
              "    </g>\n",
              "</svg>\n",
              "  </button>\n",
              "\n",
              "<style>\n",
              "  .colab-df-quickchart {\n",
              "      --bg-color: #E8F0FE;\n",
              "      --fill-color: #1967D2;\n",
              "      --hover-bg-color: #E2EBFA;\n",
              "      --hover-fill-color: #174EA6;\n",
              "      --disabled-fill-color: #AAA;\n",
              "      --disabled-bg-color: #DDD;\n",
              "  }\n",
              "\n",
              "  [theme=dark] .colab-df-quickchart {\n",
              "      --bg-color: #3B4455;\n",
              "      --fill-color: #D2E3FC;\n",
              "      --hover-bg-color: #434B5C;\n",
              "      --hover-fill-color: #FFFFFF;\n",
              "      --disabled-bg-color: #3B4455;\n",
              "      --disabled-fill-color: #666;\n",
              "  }\n",
              "\n",
              "  .colab-df-quickchart {\n",
              "    background-color: var(--bg-color);\n",
              "    border: none;\n",
              "    border-radius: 50%;\n",
              "    cursor: pointer;\n",
              "    display: none;\n",
              "    fill: var(--fill-color);\n",
              "    height: 32px;\n",
              "    padding: 0;\n",
              "    width: 32px;\n",
              "  }\n",
              "\n",
              "  .colab-df-quickchart:hover {\n",
              "    background-color: var(--hover-bg-color);\n",
              "    box-shadow: 0 1px 2px rgba(60, 64, 67, 0.3), 0 1px 3px 1px rgba(60, 64, 67, 0.15);\n",
              "    fill: var(--button-hover-fill-color);\n",
              "  }\n",
              "\n",
              "  .colab-df-quickchart-complete:disabled,\n",
              "  .colab-df-quickchart-complete:disabled:hover {\n",
              "    background-color: var(--disabled-bg-color);\n",
              "    fill: var(--disabled-fill-color);\n",
              "    box-shadow: none;\n",
              "  }\n",
              "\n",
              "  .colab-df-spinner {\n",
              "    border: 2px solid var(--fill-color);\n",
              "    border-color: transparent;\n",
              "    border-bottom-color: var(--fill-color);\n",
              "    animation:\n",
              "      spin 1s steps(1) infinite;\n",
              "  }\n",
              "\n",
              "  @keyframes spin {\n",
              "    0% {\n",
              "      border-color: transparent;\n",
              "      border-bottom-color: var(--fill-color);\n",
              "      border-left-color: var(--fill-color);\n",
              "    }\n",
              "    20% {\n",
              "      border-color: transparent;\n",
              "      border-left-color: var(--fill-color);\n",
              "      border-top-color: var(--fill-color);\n",
              "    }\n",
              "    30% {\n",
              "      border-color: transparent;\n",
              "      border-left-color: var(--fill-color);\n",
              "      border-top-color: var(--fill-color);\n",
              "      border-right-color: var(--fill-color);\n",
              "    }\n",
              "    40% {\n",
              "      border-color: transparent;\n",
              "      border-right-color: var(--fill-color);\n",
              "      border-top-color: var(--fill-color);\n",
              "    }\n",
              "    60% {\n",
              "      border-color: transparent;\n",
              "      border-right-color: var(--fill-color);\n",
              "    }\n",
              "    80% {\n",
              "      border-color: transparent;\n",
              "      border-right-color: var(--fill-color);\n",
              "      border-bottom-color: var(--fill-color);\n",
              "    }\n",
              "    90% {\n",
              "      border-color: transparent;\n",
              "      border-bottom-color: var(--fill-color);\n",
              "    }\n",
              "  }\n",
              "</style>\n",
              "\n",
              "  <script>\n",
              "    async function quickchart(key) {\n",
              "      const quickchartButtonEl =\n",
              "        document.querySelector('#' + key + ' button');\n",
              "      quickchartButtonEl.disabled = true;  // To prevent multiple clicks.\n",
              "      quickchartButtonEl.classList.add('colab-df-spinner');\n",
              "      try {\n",
              "        const charts = await google.colab.kernel.invokeFunction(\n",
              "            'suggestCharts', [key], {});\n",
              "      } catch (error) {\n",
              "        console.error('Error during call to suggestCharts:', error);\n",
              "      }\n",
              "      quickchartButtonEl.classList.remove('colab-df-spinner');\n",
              "      quickchartButtonEl.classList.add('colab-df-quickchart-complete');\n",
              "    }\n",
              "    (() => {\n",
              "      let quickchartButtonEl =\n",
              "        document.querySelector('#df-d1c68904-ceee-46a2-b6a3-aa4976d38768 button');\n",
              "      quickchartButtonEl.style.display =\n",
              "        google.colab.kernel.accessAllowed ? 'block' : 'none';\n",
              "    })();\n",
              "  </script>\n",
              "</div>\n",
              "\n",
              "    </div>\n",
              "  </div>\n"
            ]
          },
          "metadata": {},
          "execution_count": 175
        }
      ],
      "source": [
        "import numpy as np\n",
        "# Gestational Age\n",
        "conditions = [\n",
        "    (df['Head_Circumfrence_cm'] < 8.00),\n",
        "    (df['Head_Circumfrence_cm'] >= 8.00) & (df['Head_Circumfrence_cm'] <= 9.00),#week13\n",
        "    (df['Head_Circumfrence_cm'] > 9.01) & (df['Head_Circumfrence_cm'] <= 10.49),#week14\n",
        "    (df['Head_Circumfrence_cm'] >10.50 ) & (df['Head_Circumfrence_cm'] <= 12.49),#week15\n",
        "    (df['Head_Circumfrence_cm'] >12.50 ) & (df['Head_Circumfrence_cm'] <= 13.49),#week16\n",
        "    (df['Head_Circumfrence_cm'] >13.50 ) & (df['Head_Circumfrence_cm'] <= 14.99),#week17\n",
        "    (df['Head_Circumfrence_cm'] >15.00 ) & (df['Head_Circumfrence_cm'] <= 16.49),#week18\n",
        "    (df['Head_Circumfrence_cm'] >16.50 ) & (df['Head_Circumfrence_cm'] <= 17.49),#week19\n",
        "    (df['Head_Circumfrence_cm'] >17.50 ) & (df['Head_Circumfrence_cm'] <= 18.99),#week20\n",
        "    (df['Head_Circumfrence_cm'] >19.00 ) & (df['Head_Circumfrence_cm'] <= 19.99),#week21\n",
        "    (df['Head_Circumfrence_cm'] >20.00 ) & (df['Head_Circumfrence_cm'] <= 20.99),#week22\n",
        "    (df['Head_Circumfrence_cm'] >21.00 ) & (df['Head_Circumfrence_cm'] <= 22.49),#week23\n",
        "    (df['Head_Circumfrence_cm'] >22.50 ) & (df['Head_Circumfrence_cm'] <= 22.99),#week24\n",
        "    (df['Head_Circumfrence_cm'] >= 23.00) & (df['Head_Circumfrence_cm'] <= 23.99),#week25\n",
        "    (df['Head_Circumfrence_cm'] > 24.00) & (df['Head_Circumfrence_cm'] <= 24.79),#week26\n",
        "    (df['Head_Circumfrence_cm'] >24.80 ) & (df['Head_Circumfrence_cm'] <= 25.60),#week27\n",
        "    (df['Head_Circumfrence_cm'] >25.61 ) & (df['Head_Circumfrence_cm'] <= 26.75),#week28\n",
        "    (df['Head_Circumfrence_cm'] >26.76 ) & (df['Head_Circumfrence_cm'] <= 27.75),#week29\n",
        "    (df['Head_Circumfrence_cm'] >27.76 ) & (df['Head_Circumfrence_cm'] <= 28.85),#week30\n",
        "    (df['Head_Circumfrence_cm'] >28.86 ) & (df['Head_Circumfrence_cm'] <= 29.60),#week31\n",
        "    (df['Head_Circumfrence_cm'] >29.61 ) & (df['Head_Circumfrence_cm'] <= 30.40),#week32\n",
        "    (df['Head_Circumfrence_cm'] >30.41 ) & (df['Head_Circumfrence_cm'] <= 31.20),#week33\n",
        "    (df['Head_Circumfrence_cm'] >31.21 ) & (df['Head_Circumfrence_cm'] <= 31.80),#week34\n",
        "    (df['Head_Circumfrence_cm'] >31.81 ) & (df['Head_Circumfrence_cm'] <= 32.50),#week35\n",
        "    (df['Head_Circumfrence_cm'] >32.51 ) & (df['Head_Circumfrence_cm'] <= 33.00),#week36\n",
        "    (df['Head_Circumfrence_cm'] >33.01 ) & (df['Head_Circumfrence_cm'] <= 33.70),#week37\n",
        "    (df['Head_Circumfrence_cm'] >33.71 ) & (df['Head_Circumfrence_cm'] <= 34.20),#week38\n",
        "    (df['Head_Circumfrence_cm'] >34.21 ) & (df['Head_Circumfrence_cm'] <= 35.00),#week39\n",
        "    (df['Head_Circumfrence_cm'] >35.00 ) & (df['Head_Circumfrence_cm'] <= 36.00),#week40\n",
        "    (df['Head_Circumfrence_cm'] > 36)\n",
        "    ]\n",
        "\n",
        "# create a list of the values we want to assign for each condition\n",
        "values = ['Fetus is less than 8 Menstrual Weeks','13','14','15','16','17','18','19','20','21','22',\n",
        "          '23','24','25', '26', '27', '28','29','30','31','32','33','34','35','36','37','38','39','40','Abnormal']\n",
        "\n",
        "\n",
        "df['Gestational_Age_In_Weeks'] = np.select(conditions, values)\n",
        "\n",
        "\n",
        "df.head(10)"
      ]
    },
    {
      "cell_type": "code",
      "execution_count": 177,
      "metadata": {
        "id": "Fs3ZnTbVahUv"
      },
      "outputs": [],
      "source": [
        "df.to_csv(\"/content/drive/MyDrive/FinalProject/Head_Circumfrence.csv\")"
      ]
    },
    {
      "cell_type": "code",
      "execution_count": null,
      "metadata": {
        "id": "CJISxQKF43w9"
      },
      "outputs": [],
      "source": []
    }
  ],
  "metadata": {
    "accelerator": "GPU",
    "colab": {
      "provenance": []
    },
    "gpuClass": "standard",
    "kernelspec": {
      "display_name": "Python 3",
      "name": "python3"
    },
    "language_info": {
      "name": "python"
    }
  },
  "nbformat": 4,
  "nbformat_minor": 0
}
