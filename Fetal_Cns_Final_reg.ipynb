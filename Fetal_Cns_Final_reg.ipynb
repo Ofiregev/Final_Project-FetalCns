{
  "nbformat": 4,
  "nbformat_minor": 0,
  "metadata": {
    "colab": {
      "provenance": [],
      "authorship_tag": "ABX9TyNjWydiSJQuITQa5xeLvXtr",
      "include_colab_link": true
    },
    "kernelspec": {
      "name": "python3",
      "display_name": "Python 3"
    },
    "language_info": {
      "name": "python"
    }
  },
  "cells": [
    {
      "cell_type": "markdown",
      "metadata": {
        "id": "view-in-github",
        "colab_type": "text"
      },
      "source": [
        "<a href=\"https://colab.research.google.com/github/Ofiregev/Final_Project-FetalCns/blob/main/Fetal_Cns_Final_reg.ipynb\" target=\"_parent\"><img src=\"https://colab.research.google.com/assets/colab-badge.svg\" alt=\"Open In Colab\"/></a>"
      ]
    },
    {
      "cell_type": "code",
      "execution_count": 1,
      "metadata": {
        "colab": {
          "base_uri": "https://localhost:8080/"
        },
        "id": "Go-y5n6TlBw-",
        "outputId": "2b79eb57-a362-4277-80cc-b781237cf16d"
      },
      "outputs": [
        {
          "output_type": "stream",
          "name": "stdout",
          "text": [
            "Mounted at /content/drive\n"
          ]
        }
      ],
      "source": [
        "# connectiong to google drive\n",
        "from google.colab import drive\n",
        "drive.mount('/content/drive')"
      ]
    },
    {
      "cell_type": "code",
      "source": [
        "import numpy as np\n",
        "import pandas as pd\n",
        "import matplotlib.pyplot as plt\n",
        "%matplotlib inline\n",
        "import os\n",
        "import torch\n",
        "import os\n",
        "import cv2\n",
        "from tqdm import tqdm_notebook\n",
        "import copy\n",
        "import glob\n",
        "from PIL import Image\n",
        "import torchvision\n",
        "import torch.utils.data\n",
        "from torch.utils.data import DataLoader, Dataset, random_split\n",
        "import torchvision.transforms as transforms\n",
        "from torchvision import datasets\n",
        "\n",
        "import torch.nn as nn\n",
        "import torch.nn.functional as F\n",
        "import torch.optim as optim\n"
      ],
      "metadata": {
        "id": "FtJu9NK5lLSW"
      },
      "execution_count": 2,
      "outputs": []
    },
    {
      "cell_type": "code",
      "source": [
        "# reading the lists of images from the CSV files\n",
        "test_csv = pd.read_csv(\"/content/drive/MyDrive/FinalProject/test_set_pixel_size.csv\")\n",
        "train_csv = pd.read_csv(\"/content/drive/MyDrive/FinalProject/training_set_pixel_size_and_HC.csv\")\n",
        "# The paths of the train and test set in the Drive library\n",
        "test_img = \"/content/drive/MyDrive/FinalProject/Dataset/test_set/\"\n",
        "train_img =\"/content/drive/MyDrive/FinalProject/Dataset/training_set/training_set/\""
      ],
      "metadata": {
        "id": "HAEDj3cwlNXm"
      },
      "execution_count": 3,
      "outputs": []
    },
    {
      "cell_type": "code",
      "source": [
        "#determine the available hardware (CPU or GPU) and set the PyTorch device accordingly\n",
        "device = torch.device(\"cuda\" if torch.cuda.is_available() else \"cpu\")\n",
        "print(device)"
      ],
      "metadata": {
        "colab": {
          "base_uri": "https://localhost:8080/"
        },
        "id": "CVKimajzlTjt",
        "outputId": "53c1f526-0f5a-4811-ce20-49b271cbbe71"
      },
      "execution_count": 4,
      "outputs": [
        {
          "output_type": "stream",
          "name": "stdout",
          "text": [
            "cpu\n"
          ]
        }
      ]
    },
    {
      "cell_type": "code",
      "source": [
        "import torch\n",
        "from torchvision import transforms\n",
        "from PIL import Image\n",
        "import pandas as pd\n",
        "import os\n",
        "\n",
        "class RegressionDataset(torch.utils.data.Dataset):\n",
        "    def __init__(self, csv_file, root_dir, transform=None):\n",
        "        self.csv_file = pd.read_csv(csv_file)\n",
        "        self.root_dir = root_dir\n",
        "        self.transform = transform\n",
        "        print(\"1\")\n",
        "    def __len__(self):\n",
        "        return len(self.csv_file)\n",
        "\n",
        "    def __getitem__(self, idx):\n",
        "        if torch.is_tensor(idx):\n",
        "            idx = idx.tolist()\n",
        "        img_name = os.path.join(self.root_dir, self.csv_file.iloc[idx, 0])\n",
        "        image = Image.open(img_name)\n",
        "        print(\"2\")\n",
        "\n",
        "        # Apply transformations if specified\n",
        "        if self.transform:\n",
        "            image = self.transform(image)\n",
        "\n",
        "        # Assuming the target variable is head circumference\n",
        "        head_circumference = self.csv_file.iloc[idx, 2]\n",
        "\n",
        "        sample = {'image': image, 'head_circumference': head_circumference}\n",
        "        print(sample)\n",
        "        return sample\n"
      ],
      "metadata": {
        "id": "ifLxD_UGlUKB"
      },
      "execution_count": 13,
      "outputs": []
    },
    {
      "cell_type": "code",
      "source": [
        "# Define transformations if needed\n",
        "transform_X = transforms.Compose([\n",
        "    transforms.ToTensor()\n",
        "])\n",
        "\n",
        "# Filter files ending with *HC.png\n",
        "hc_files = [file for file in glob.glob('/content/drive/MyDrive/FinalProject/Dataset/training_set/training_set/*HC.png') if os.path.isfile(file)]\n",
        "train_csv = \"/content/drive/MyDrive/FinalProject/training_set_pixel_size_and_HC.csv\"\n",
        "\n",
        "# Initialize the dataset with transformation\n",
        "dataset = RegressionDataset(csv_file=train_csv, root_dir=train_csv, transform=transform_X)\n",
        "\n"
      ],
      "metadata": {
        "colab": {
          "base_uri": "https://localhost:8080/"
        },
        "id": "BwYo9vCTnJ62",
        "outputId": "223e9385-3aa0-4c13-aee0-5b08a4ad5858"
      },
      "execution_count": 17,
      "outputs": [
        {
          "output_type": "stream",
          "name": "stdout",
          "text": [
            "1\n"
          ]
        }
      ]
    },
    {
      "cell_type": "code",
      "source": [],
      "metadata": {
        "id": "8q-yoFtotzUS"
      },
      "execution_count": 19,
      "outputs": []
    }
  ]
}