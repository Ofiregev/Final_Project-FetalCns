{
  "nbformat": 4,
  "nbformat_minor": 0,
  "metadata": {
    "colab": {
      "provenance": [],
      "gpuType": "T4",
      "include_colab_link": true
    },
    "kernelspec": {
      "name": "python3",
      "display_name": "Python 3"
    },
    "language_info": {
      "name": "python"
    },
    "accelerator": "GPU"
  },
  "cells": [
    {
      "cell_type": "markdown",
      "metadata": {
        "id": "view-in-github",
        "colab_type": "text"
      },
      "source": [
        "<a href=\"https://colab.research.google.com/github/Ofiregev/Final_Project-FetalCns/blob/main/Fetal_Cns_Final_reg_v7.ipynb\" target=\"_parent\"><img src=\"https://colab.research.google.com/assets/colab-badge.svg\" alt=\"Open In Colab\"/></a>"
      ]
    },
    {
      "cell_type": "code",
      "source": [
        "from google.colab import drive\n",
        "import torch\n",
        "import torch.nn as nn\n",
        "import torch.optim as optim\n",
        "import torchvision.transforms as transforms\n",
        "from torch.utils.data import DataLoader, Dataset, random_split\n",
        "from torchvision import models\n",
        "from PIL import Image\n",
        "import os\n",
        "import pandas as pd\n",
        "import numpy as np\n",
        "import matplotlib.pyplot as plt\n",
        "from sklearn.model_selection import train_test_split\n",
        "from sklearn.metrics import mean_squared_error\n",
        "from torch.utils.data import DataLoader, Dataset\n",
        "from torch.optim.lr_scheduler import StepLR"
      ],
      "metadata": {
        "id": "bQIu-pWDLe35"
      },
      "execution_count": 1,
      "outputs": []
    },
    {
      "cell_type": "code",
      "source": [
        "# Mount Google Drive\n",
        "drive.mount('/content/drive')\n",
        "print(\"Google Drive mounted successfully.\")"
      ],
      "metadata": {
        "colab": {
          "base_uri": "https://localhost:8080/"
        },
        "id": "husjIpqXLfr6",
        "outputId": "0dbc684d-febb-4b7a-c0d4-483ff579e5dd"
      },
      "execution_count": 2,
      "outputs": [
        {
          "output_type": "stream",
          "name": "stdout",
          "text": [
            "Mounted at /content/drive\n",
            "Google Drive mounted successfully.\n"
          ]
        }
      ]
    },
    {
      "cell_type": "code",
      "source": [
        "\n",
        "# Determine the available hardware (CPU or GPU) and set the PyTorch device accordingly\n",
        "device = torch.device(\"cuda\" if torch.cuda.is_available() else \"cpu\")\n",
        "print(f\"Using device: {device}\")\n"
      ],
      "metadata": {
        "colab": {
          "base_uri": "https://localhost:8080/"
        },
        "id": "Cz2MTh4NLfu8",
        "outputId": "4e750aeb-836e-4bac-cbd9-bb8e8275707c"
      },
      "execution_count": 3,
      "outputs": [
        {
          "output_type": "stream",
          "name": "stdout",
          "text": [
            "Using device: cuda\n"
          ]
        }
      ]
    },
    {
      "cell_type": "code",
      "source": [
        "\n",
        "# Read the list of images from the CSV file\n",
        "train_csv = \"/content/drive/MyDrive/FinalProject/our_training_set_pixel_size_and_HC_normal_rand.csv\"\n",
        "train_csv_df = pd.read_csv(train_csv)\n",
        "print(\"CSV file loaded:\")\n",
        "print(train_csv_df.head())"
      ],
      "metadata": {
        "colab": {
          "base_uri": "https://localhost:8080/"
        },
        "id": "yQbFizzmLfyH",
        "outputId": "896784fd-ff86-4c24-909b-4c5ef30b3bc9"
      },
      "execution_count": 85,
      "outputs": [
        {
          "output_type": "stream",
          "name": "stdout",
          "text": [
            "CSV file loaded:\n",
            "      filename  pixel size(mm)  head circumference (mm)  Normalized_HC\n",
            "0   457_HC.png        0.134175                   183.49       0.460741\n",
            "1  736_2HC.png        0.198600                   298.64       0.841907\n",
            "2   007_HC.png        0.109362                    62.80       0.061238\n",
            "3   571_HC.png        0.130106                   175.80       0.435286\n",
            "4  022_2HC.png        0.094348                    64.45       0.066700\n"
          ]
        }
      ]
    },
    {
      "cell_type": "code",
      "source": [
        "# Custom Dataset Class\n",
        "class CustomDataset(Dataset):\n",
        "    def __init__(self, csv_file, root_dir, transform=None):\n",
        "        self.data_frame = pd.read_csv(csv_file)\n",
        "        self.root_dir = root_dir\n",
        "        self.transform = transform\n",
        "\n",
        "    def __len__(self):\n",
        "        return len(self.data_frame)\n",
        "\n",
        "    def __getitem__(self, idx):\n",
        "        img_name = os.path.join(self.root_dir, self.data_frame.iloc[idx, 0])\n",
        "        image = Image.open(img_name).convert('RGB')\n",
        "        if self.transform:\n",
        "            image = self.transform(image)\n",
        "        pixel_size = self.data_frame.iloc[idx, 1]\n",
        "        hc = self.data_frame.iloc[idx, 3]  # Normalized head circumference\n",
        "        sample = {'image': image, 'pixel_size': pixel_size, 'hc': hc}\n",
        "        return sample"
      ],
      "metadata": {
        "id": "47H7bdAuLvJN"
      },
      "execution_count": 86,
      "outputs": []
    },
    {
      "cell_type": "code",
      "source": [
        "# Define transformations for the images\n",
        "transform = transforms.Compose([\n",
        "    transforms.Resize((224, 224)),\n",
        "    transforms.ToTensor(),\n",
        "    transforms.Normalize(mean=[0.485, 0.456, 0.406], std=[0.229, 0.224, 0.225])\n",
        "])"
      ],
      "metadata": {
        "id": "yk6vrkvnLw_z"
      },
      "execution_count": 87,
      "outputs": []
    },
    {
      "cell_type": "code",
      "source": [
        "# Load the dataset\n",
        "root_dir = \"/content/drive/MyDrive/FinalProject/Dataset/training_set/training_set/\"\n",
        "dataset = CustomDataset(csv_file=train_csv, root_dir=root_dir, transform=transform)\n",
        "\n",
        "# Split the dataset into training and validation sets\n",
        "train_size = int(0.8 * len(dataset))\n",
        "val_size = len(dataset) - train_size\n",
        "train_dataset, val_dataset = random_split(dataset, [train_size, val_size])\n",
        "\n",
        "# Create data loaders\n",
        "train_loader = DataLoader(train_dataset, batch_size=8, shuffle=True)\n",
        "val_loader = DataLoader(val_dataset, batch_size=8, shuffle=False)"
      ],
      "metadata": {
        "id": "PM98ydBCLxHo"
      },
      "execution_count": 100,
      "outputs": []
    },
    {
      "cell_type": "code",
      "source": [
        "class CNNRegression(nn.Module):\n",
        "    def __init__(self):\n",
        "        super(CNNRegression, self).__init__()\n",
        "        self.cnn = models.resnet18(pretrained=True)\n",
        "        cnn_out_features = self.cnn.fc.in_features  # Get the number of output features from the CNN\n",
        "        self.cnn.fc = nn.Identity()  # Remove the last fully connected layer\n",
        "        self.fc1 = nn.Linear(cnn_out_features + 1, 128)  # Adjust input features\n",
        "        self.fc2 = nn.Linear(128, 1)\n",
        "\n",
        "    def forward(self, image, pixel_size):\n",
        "        x1 = self.cnn(image)\n",
        "        x2 = pixel_size.view(-1, 1)  # Ensure x2 has the shape (batch_size, 1)\n",
        "        x = torch.cat((x1, x2), dim=1)  # Concatenate along the feature dimension\n",
        "        x = self.fc1(x)\n",
        "        x = nn.ReLU()(x)\n",
        "        x = self.fc2(x)\n",
        "        return x\n"
      ],
      "metadata": {
        "id": "r3GukRxEL094"
      },
      "execution_count": 101,
      "outputs": []
    },
    {
      "cell_type": "code",
      "source": [
        "# Initialize the model, loss function, and optimizer\n",
        "model = CNNRegression().to(device)\n",
        "criterion = nn.MSELoss()\n",
        "optimizer = optim.Adam(model.parameters(), lr=0.001)\n",
        "scheduler = StepLR(optimizer, step_size=2, gamma=0.1)"
      ],
      "metadata": {
        "colab": {
          "base_uri": "https://localhost:8080/"
        },
        "id": "WtJUtgUyL2m9",
        "outputId": "d1c930e9-9830-4387-a5a0-4539b8382930"
      },
      "execution_count": 121,
      "outputs": [
        {
          "output_type": "stream",
          "name": "stderr",
          "text": [
            "/usr/local/lib/python3.10/dist-packages/torchvision/models/_utils.py:208: UserWarning: The parameter 'pretrained' is deprecated since 0.13 and may be removed in the future, please use 'weights' instead.\n",
            "  warnings.warn(\n",
            "/usr/local/lib/python3.10/dist-packages/torchvision/models/_utils.py:223: UserWarning: Arguments other than a weight enum or `None` for 'weights' are deprecated since 0.13 and may be removed in the future. The current behavior is equivalent to passing `weights=ResNet18_Weights.IMAGENET1K_V1`. You can also use `weights=ResNet18_Weights.DEFAULT` to get the most up-to-date weights.\n",
            "  warnings.warn(msg)\n"
          ]
        }
      ]
    },
    {
      "cell_type": "code",
      "source": [
        "# Lists to store the loss values\n",
        "train_losses = []\n",
        "val_losses = []\n",
        "\n",
        "# Training loop\n",
        "num_epochs = 10\n",
        "for epoch in range(num_epochs):\n",
        "    model.train()\n",
        "    running_loss = 0.0\n",
        "    for data in train_loader:\n",
        "        images = data['image'].to(device)\n",
        "        pixel_sizes = data['pixel_size'].float().to(device)\n",
        "        targets = data['hc'].float().to(device)\n",
        "\n",
        "        optimizer.zero_grad()\n",
        "        outputs = model(images, pixel_sizes)\n",
        "        loss = criterion(outputs, targets.unsqueeze(1))\n",
        "        loss.backward()\n",
        "        optimizer.step()\n",
        "\n",
        "        running_loss += loss.item()\n",
        "    train_loss = running_loss / len(train_loader)\n",
        "    train_losses.append(train_loss)\n",
        "    print(f\"Epoch {epoch+1}/{num_epochs}, Training Loss: {train_loss}\")\n",
        "\n",
        "    # Validation loop\n",
        "    model.eval()\n",
        "    val_loss = 0.0\n",
        "    with torch.no_grad():\n",
        "        for data in val_loader:\n",
        "            images = data['image'].to(device)\n",
        "            pixel_sizes = data['pixel_size'].float().to(device)\n",
        "            targets = data['hc'].float().to(device)\n",
        "\n",
        "            outputs = model(images, pixel_sizes)\n",
        "            loss = criterion(outputs, targets.unsqueeze(1))\n",
        "            val_loss += loss.item()\n",
        "    val_loss /= len(val_loader)\n",
        "    val_losses.append(val_loss)\n",
        "    print(f\"Epoch {epoch+1}/{num_epochs}, Validation Loss: {val_loss}\")\n",
        "\n",
        "    scheduler.step()\n",
        "\n",
        "# Plot the training and validation loss\n",
        "plt.figure(figsize=(10, 5))\n",
        "plt.plot(range(1, num_epochs + 1), train_losses, label='Training Loss')\n",
        "plt.plot(range(1, num_epochs + 1), val_losses, label='Validation Loss')\n",
        "plt.xlabel('Epochs')\n",
        "plt.ylabel('Loss')\n",
        "plt.title('Training and Validation Loss Over Epochs')\n",
        "plt.legend()\n",
        "plt.show()"
      ],
      "metadata": {
        "colab": {
          "base_uri": "https://localhost:8080/",
          "height": 834
        },
        "id": "SZIGfXb6RYXS",
        "outputId": "91506cc3-e95b-455d-fc31-c691f85a2c17"
      },
      "execution_count": 122,
      "outputs": [
        {
          "output_type": "stream",
          "name": "stdout",
          "text": [
            "Epoch 1/10, Training Loss: 0.04198720742844873\n",
            "Epoch 1/10, Validation Loss: 0.006990001071244478\n",
            "Epoch 2/10, Training Loss: 0.010537039188461172\n",
            "Epoch 2/10, Validation Loss: 0.005284798389766365\n",
            "Epoch 3/10, Training Loss: 0.004978738324846037\n",
            "Epoch 3/10, Validation Loss: 0.003647882374934852\n",
            "Epoch 4/10, Training Loss: 0.003647196058429674\n",
            "Epoch 4/10, Validation Loss: 0.003485668799839914\n",
            "Epoch 5/10, Training Loss: 0.0033614810465628074\n",
            "Epoch 5/10, Validation Loss: 0.0034620460704900325\n",
            "Epoch 6/10, Training Loss: 0.0031307332893548948\n",
            "Epoch 6/10, Validation Loss: 0.0033603217103518545\n",
            "Epoch 7/10, Training Loss: 0.0029293135875680795\n",
            "Epoch 7/10, Validation Loss: 0.0033056405605748295\n",
            "Epoch 8/10, Training Loss: 0.003102774487989437\n",
            "Epoch 8/10, Validation Loss: 0.0032503010472282766\n",
            "Epoch 9/10, Training Loss: 0.0031423003564769814\n",
            "Epoch 9/10, Validation Loss: 0.0031975179503206165\n",
            "Epoch 10/10, Training Loss: 0.0029591923970858462\n",
            "Epoch 10/10, Validation Loss: 0.0032868425827473403\n"
          ]
        },
        {
          "output_type": "display_data",
          "data": {
            "text/plain": [
              "<Figure size 1000x500 with 1 Axes>"
            ],
            "image/png": "[encoded data removed]"
          },
          "metadata": {}
        }
      ]
    },
    {
      "cell_type": "code",
      "execution_count": 123,
      "metadata": {
        "colab": {
          "base_uri": "https://localhost:8080/"
        },
        "id": "JU8cTgW3LUjE",
        "outputId": "4aba8267-976a-493c-ac5e-7c34272aec23"
      },
      "outputs": [
        {
          "output_type": "stream",
          "name": "stdout",
          "text": [
            "Mean Squared Error: 0.0032868427224457264\n"
          ]
        }
      ],
      "source": [
        "# Evaluate model performance\n",
        "y_true = []\n",
        "y_pred = []\n",
        "model.eval()\n",
        "with torch.no_grad():\n",
        "    for data in val_loader:\n",
        "        images = data['image'].to(device)\n",
        "        pixel_sizes = data['pixel_size'].float().to(device)\n",
        "        targets = data['hc'].float().to(device)\n",
        "\n",
        "        outputs = model(images, pixel_sizes)\n",
        "        y_true.extend(targets.cpu().numpy())\n",
        "        y_pred.extend(outputs.cpu().numpy())\n",
        "\n",
        "mse = mean_squared_error(y_true, y_pred)\n",
        "print(f\"Mean Squared Error: {mse}\")\n"
      ]
    },
    {
      "cell_type": "code",
      "source": [
        "def predict_head_circumference(image_path, pixel_size, model, min_hc, max_hc):\n",
        "    transform = transforms.Compose([\n",
        "        transforms.Resize((224, 224)),\n",
        "        transforms.ToTensor(),\n",
        "        transforms.Normalize(mean=[0.485, 0.456, 0.406], std=[0.229, 0.224, 0.225])\n",
        "    ])\n",
        "    image = Image.open(image_path).convert('RGB')\n",
        "    image_tensor = transform(image).unsqueeze(0)  # Add batch dimension\n",
        "    pixel_size_tensor = torch.tensor([pixel_size]).float().view(1, 1)  # Ensure it has the shape (1, 1)\n",
        "\n",
        "    with torch.no_grad():\n",
        "        output = model(image_tensor.to(device), pixel_size_tensor.to(device))\n",
        "\n",
        "    predicted_normalized_hc = output.item()\n",
        "    predicted_hc = predicted_normalized_hc * (max_hc - min_hc) + min_hc  # De-normalize the prediction\n",
        "    return predicted_hc\n"
      ],
      "metadata": {
        "id": "xQnt4XNtSd-7"
      },
      "execution_count": 124,
      "outputs": []
    },
    {
      "cell_type": "code",
      "source": [
        "# Read the list of images from the CSV file\n",
        "test_csv = \"/content/drive/MyDrive/FinalProject/our_test_set_pixel_size_and_HC_normal_rand.csv\"\n",
        "test_csv_df = pd.read_csv(test_csv)\n",
        "print(\"CSV file loaded:\")\n",
        "print(test_csv_df.head())\n"
      ],
      "metadata": {
        "id": "kimgFuw-xBOd",
        "outputId": "9f6e08b0-2914-40aa-f3d1-5b33f441ab8c",
        "colab": {
          "base_uri": "https://localhost:8080/"
        }
      },
      "execution_count": 125,
      "outputs": [
        {
          "output_type": "stream",
          "name": "stdout",
          "text": [
            "CSV file loaded:\n",
            "      filename  pixel size(mm)  head circumference (mm)  Normalized_HC\n",
            "0   533_HC.png        0.144827                   184.10       0.462761\n",
            "1   352_HC.png        0.110612                   175.21       0.433333\n",
            "2  628_2HC.png        0.131861                   204.90       0.531612\n",
            "3   125_HC.png        0.064738                    88.51       0.146342\n",
            "4   746_HC.png        0.260348                   282.40       0.788150\n"
          ]
        }
      ]
    },
    {
      "cell_type": "code",
      "source": [
        "# Ensure the min_hc and max_hc are defined\n",
        "min_hc = min(train_csv_df['head circumference (mm)'].min(),test_csv_df['head circumference (mm)'].min())\n",
        "max_hc = max(train_csv_df['head circumference (mm)'].max(),test_csv_df['head circumference (mm)'].max())\n",
        "num_images_to_test = len(test_csv_df)\n",
        "indices = range(num_images_to_test)  # Generate a sequence of indices from 0 to num_images_to_test-1\n",
        "\n",
        "# Initialize a list to store the results\n",
        "results = []\n",
        "absolute_errors = []\n",
        "counter = 0\n",
        "percentage_error_counter = 0  # Counter for errors less than 5%\n",
        "threshold_param = 0.1  # threshold for the ground truth circumference\n",
        "\n",
        "# Variables to track the maximum absolute error and corresponding details\n",
        "max_absolute_error = -1\n",
        "max_error_image = \"\"\n",
        "max_error_predicted = -1\n",
        "max_error_ground_truth = -1\n",
        "\n",
        "# Loop through the selected images\n",
        "for idx in indices:\n",
        "    image_name = test_csv_df.iloc[idx, 0]\n",
        "    image_path = os.path.join(\"/content/drive/MyDrive/FinalProject/Dataset/training_set/training_set/\", image_name)\n",
        "    ground_truth_circumference = test_csv_df.iloc[idx, 2]  # Assuming the third column contains the head circumference labels\n",
        "    pixel_size = test_csv_df.iloc[idx, 1]  # Assuming the second column contains the pixel size\n",
        "\n",
        "    # Call the function to predict head circumference from the image\n",
        "    predicted_circumference = predict_head_circumference(image_path, pixel_size, model, min_hc, max_hc)\n",
        "\n",
        "    # Calculate the absolute error\n",
        "    absolute_error = abs(predicted_circumference - ground_truth_circumference)\n",
        "    absolute_errors.append(absolute_error)\n",
        "\n",
        "    # Calculate the 5% threshold for the ground truth circumference\n",
        "    threshold = threshold_param * ground_truth_circumference\n",
        "\n",
        "    # Check if the absolute error is less than the 5% threshold\n",
        "    if absolute_error < threshold:\n",
        "        percentage_error_counter += 1\n",
        "\n",
        "    # Track the maximum absolute error\n",
        "    if absolute_error > max_absolute_error:\n",
        "        max_absolute_error = absolute_error\n",
        "        max_error_image = image_path\n",
        "        max_error_predicted = predicted_circumference\n",
        "        max_error_ground_truth = ground_truth_circumference\n",
        "\n",
        "    # Create the result string\n",
        "    result_string = (f\"Image: {image_path}\\n\"\n",
        "                     f\"Predicted Head Circumference: {predicted_circumference}\\n\"\n",
        "                     f\"Ground Truth Head Circumference: {ground_truth_circumference}\\n\"\n",
        "                     f\"Pixel Size: {pixel_size}\\n\"\n",
        "                     f\"Absolute Error: {absolute_error}\\n\"\n",
        "                     f\"5% Threshold: {threshold}\\n\"\n",
        "                     \"****************************\\n\")\n",
        "\n",
        "    # Append the result to the list\n",
        "    results.append([image_name, result_string, absolute_error])\n",
        "\n",
        "\n",
        "# Convert the results to a DataFrame and save to a CSV file\n",
        "results_df = pd.DataFrame(results, columns=['Image', 'Result', 'Absolute Error'])\n",
        "results_csv_path = \"/content/drive/MyDrive/FinalProject/results.csv\"\n",
        "results_df.to_csv(results_csv_path, index=False)\n",
        "\n",
        "# Print summary\n",
        "print(f\"Results saved to {results_csv_path}\")\n",
        "print(f\"Total Images with Error < {threshold_param * 100}% of Ground Truth: {percentage_error_counter}\")\n",
        "print(f\"Percentage: {percentage_error_counter / num_images_to_test * 100:.2f}%\")\n",
        "\n",
        "# Print the image with the biggest absolute error\n",
        "print(\"Image with the biggest absolute error:\")\n",
        "print(f\"Image: {max_error_image}\")\n",
        "print(f\"Predicted Head Circumference: {max_error_predicted}\")\n",
        "print(f\"Ground Truth Head Circumference: {max_error_ground_truth}\")\n",
        "print(f\"Absolute Error: {max_absolute_error}\")\n"
      ],
      "metadata": {
        "colab": {
          "base_uri": "https://localhost:8080/"
        },
        "id": "OAqHs4RJZr9l",
        "outputId": "f3145017-bf26-4a1e-80ed-759a15bc097c"
      },
      "execution_count": 127,
      "outputs": [
        {
          "output_type": "stream",
          "name": "stdout",
          "text": [
            "Results saved to /content/drive/MyDrive/FinalProject/results.csv\n",
            "Total Images with Error < 10.0% of Ground Truth: 156\n",
            "Percentage: 78.00%\n",
            "Image with the biggest absolute error:\n",
            "Image: /content/drive/MyDrive/FinalProject/Dataset/training_set/training_set/684_HC.png\n",
            "Predicted Head Circumference: 185.38396149277685\n",
            "Ground Truth Head Circumference: 260.8\n",
            "Absolute Error: 75.41603850722316\n"
          ]
        }
      ]
    }
  ]
}