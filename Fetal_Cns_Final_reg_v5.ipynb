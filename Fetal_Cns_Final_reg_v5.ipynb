{
  "nbformat": 4,
  "nbformat_minor": 0,
  "metadata": {
    "colab": {
      "provenance": [],
      "gpuType": "T4",
      "authorship_tag": "ABX9TyM78tzd+7TVZZG5pKDm1A3b",
      "include_colab_link": true
    },
    "kernelspec": {
      "name": "python3",
      "display_name": "Python 3"
    },
    "language_info": {
      "name": "python"
    },
    "accelerator": "GPU"
  },
  "cells": [
    {
      "cell_type": "markdown",
      "metadata": {
        "id": "view-in-github",
        "colab_type": "text"
      },
      "source": [
        "<a href=\"https://colab.research.google.com/github/Ofiregev/Final_Project-FetalCns/blob/main/Fetal_Cns_Final_reg_v5.ipynb\" target=\"_parent\"><img src=\"https://colab.research.google.com/assets/colab-badge.svg\" alt=\"Open In Colab\"/></a>"
      ]
    },
    {
      "cell_type": "code",
      "source": [
        "import torch\n",
        "import torch.nn as nn\n",
        "import torch.optim as optim\n",
        "import torchvision.transforms as transforms\n",
        "from torch.utils.data import DataLoader, Dataset, random_split\n",
        "from torchvision import models\n",
        "from PIL import Image\n",
        "import os\n",
        "import pandas as pd\n",
        "import numpy as np\n",
        "import matplotlib.pyplot as plt\n",
        "import torch.nn.functional as F\n",
        "from sklearn.model_selection import KFold\n",
        "from torch.utils.data import SubsetRandomSampler"
      ],
      "metadata": {
        "id": "b67F5iyDmXQK"
      },
      "execution_count": 52,
      "outputs": []
    },
    {
      "cell_type": "code",
      "source": [
        "# Mount Google Drive\n",
        "from google.colab import drive\n",
        "drive.mount('/content/drive')"
      ],
      "metadata": {
        "id": "MQYohyROMnzD",
        "colab": {
          "base_uri": "https://localhost:8080/"
        },
        "outputId": "c3130dcd-3c52-4b71-c41a-c7632a4389b0"
      },
      "execution_count": 53,
      "outputs": [
        {
          "output_type": "stream",
          "name": "stdout",
          "text": [
            "Drive already mounted at /content/drive; to attempt to forcibly remount, call drive.mount(\"/content/drive\", force_remount=True).\n"
          ]
        }
      ]
    },
    {
      "cell_type": "code",
      "source": [
        "# Device configuration\n",
        "device = torch.device(\"cuda\" if torch.cuda.is_available() else \"cpu\")\n",
        "print(f\"Using device: {device}\")"
      ],
      "metadata": {
        "colab": {
          "base_uri": "https://localhost:8080/"
        },
        "id": "yiHkg4r8mbdV",
        "outputId": "b4d7bb64-04aa-40cd-b19d-69da0aedbbd9"
      },
      "execution_count": 54,
      "outputs": [
        {
          "output_type": "stream",
          "name": "stdout",
          "text": [
            "Using device: cuda\n"
          ]
        }
      ]
    },
    {
      "cell_type": "code",
      "source": [
        "# Read CSV file\n",
        "train_csv = \"/content/drive/MyDrive/FinalProject/training_set_pixel_size_and_HC.csv\"\n",
        "train_csv_df = pd.read_csv(train_csv)\n",
        "print(\"CSV file loaded:\")"
      ],
      "metadata": {
        "colab": {
          "base_uri": "https://localhost:8080/"
        },
        "id": "3tma7AHHmqby",
        "outputId": "cd5df29f-1816-48be-8db8-a42708321e98"
      },
      "execution_count": 55,
      "outputs": [
        {
          "output_type": "stream",
          "name": "stdout",
          "text": [
            "CSV file loaded:\n"
          ]
        }
      ]
    },
    {
      "cell_type": "code",
      "source": [
        "# Image Preprocessing and Augmentation\n",
        "transform = transforms.Compose([\n",
        "    transforms.Resize((224, 224)),\n",
        "    transforms.RandomHorizontalFlip(),\n",
        "    transforms.RandomRotation(10),\n",
        "    transforms.ColorJitter(brightness=0.2, contrast=0.2, saturation=0.2, hue=0.1),\n",
        "    transforms.ToTensor(),\n",
        "    transforms.Normalize(mean=[0.485, 0.456, 0.406], std=[0.229, 0.224, 0.225])\n",
        "])"
      ],
      "metadata": {
        "id": "6PzEBfK3NP7W"
      },
      "execution_count": 56,
      "outputs": []
    },
    {
      "cell_type": "code",
      "source": [
        "# Normalize the labels in the dataset\n",
        "min_hc = train_csv_df['head circumference (mm)'].min()\n",
        "max_hc = train_csv_df['head circumference (mm)'].max()\n",
        "train_csv_df['Normalized_HC'] = (train_csv_df['head circumference (mm)'] - min_hc) / (max_hc - min_hc)\n",
        "output_csv = \"/content/drive/MyDrive/FinalProject/training_set_pixel_size_and_HC_no_index.csv\"\n",
        "train_csv_df.to_csv(output_csv, index=False)\n",
        "print(\"Normalized CSV file saved.\")"
      ],
      "metadata": {
        "id": "KgyRZ251Ms0k",
        "colab": {
          "base_uri": "https://localhost:8080/"
        },
        "outputId": "361a1848-c76a-493c-94cb-ca62c5759712"
      },
      "execution_count": 57,
      "outputs": [
        {
          "output_type": "stream",
          "name": "stdout",
          "text": [
            "Normalized CSV file saved.\n"
          ]
        }
      ]
    },
    {
      "cell_type": "code",
      "source": [
        "# Custom Dataset Class\n",
        "class CustomDataset(Dataset):\n",
        "    def __init__(self, csv_file, root_dir, transform=None):\n",
        "        self.data_frame = pd.read_csv(csv_file)\n",
        "        self.root_dir = root_dir\n",
        "        self.transform = transform\n",
        "\n",
        "    def __len__(self):\n",
        "        return len(self.data_frame)\n",
        "\n",
        "    def __getitem__(self, idx):\n",
        "        img_name = os.path.join(self.root_dir, self.data_frame.iloc[idx, 0])\n",
        "        image = Image.open(img_name).convert('RGB')\n",
        "        hc = self.data_frame.iloc[idx, -1]  # Normalized head circumference\n",
        "\n",
        "        if self.transform:\n",
        "            image = self.transform(image)\n",
        "\n",
        "        return image, torch.tensor(hc, dtype=torch.float)"
      ],
      "metadata": {
        "id": "cIvoPr8tmsRg"
      },
      "execution_count": 58,
      "outputs": []
    },
    {
      "cell_type": "code",
      "source": [
        "# Dataset and DataLoader\n",
        "csv_file = output_csv\n",
        "root_dir = \"/content/drive/MyDrive/FinalProject/Dataset/training_set/training_set/\"\n",
        "dataset = CustomDataset(csv_file=csv_file, root_dir=root_dir, transform=transform)\n",
        "train_size = int(0.9 * len(dataset))\n",
        "val_size = len(dataset) - train_size\n",
        "train_dataset, val_dataset = random_split(dataset, [train_size, val_size])\n",
        "train_loader = DataLoader(train_dataset, batch_size=8, shuffle=True)\n",
        "val_loader = DataLoader(val_dataset, batch_size=8, shuffle=False)"
      ],
      "metadata": {
        "id": "LW1vtS8tmt0j"
      },
      "execution_count": 70,
      "outputs": []
    },
    {
      "cell_type": "code",
      "source": [
        "class CNNModel(nn.Module):\n",
        "    def __init__(self):\n",
        "        super(CNNModel, self).__init__()\n",
        "        self.model = models.resnet50(pretrained=True)\n",
        "        self.model.fc = nn.Sequential(\n",
        "            nn.Dropout(0.5),\n",
        "            nn.Linear(self.model.fc.in_features, 1)\n",
        "        )\n",
        "\n",
        "    def forward(self, x):\n",
        "        return self.model(x)"
      ],
      "metadata": {
        "id": "r8BgpYyQmvdE"
      },
      "execution_count": 71,
      "outputs": []
    },
    {
      "cell_type": "code",
      "source": [
        "from torch.optim.lr_scheduler import StepLR\n",
        "\n",
        "model = CNNModel().to(device)\n",
        "\n",
        "# Loss and Optimizer\n",
        "criterion = nn.MSELoss()\n",
        "optimizer = optim.Adam(model.parameters(), lr=0.001)\n",
        "scheduler = StepLR(optimizer, step_size=2, gamma=0.1)"
      ],
      "metadata": {
        "id": "WufpNwygM7aX",
        "colab": {
          "base_uri": "https://localhost:8080/"
        },
        "outputId": "a2829bad-a743-4f4c-8ef2-714fecc371a9"
      },
      "execution_count": 72,
      "outputs": [
        {
          "output_type": "stream",
          "name": "stderr",
          "text": [
            "/usr/local/lib/python3.10/dist-packages/torchvision/models/_utils.py:208: UserWarning: The parameter 'pretrained' is deprecated since 0.13 and may be removed in the future, please use 'weights' instead.\n",
            "  warnings.warn(\n",
            "/usr/local/lib/python3.10/dist-packages/torchvision/models/_utils.py:223: UserWarning: Arguments other than a weight enum or `None` for 'weights' are deprecated since 0.13 and may be removed in the future. The current behavior is equivalent to passing `weights=ResNet50_Weights.IMAGENET1K_V1`. You can also use `weights=ResNet50_Weights.DEFAULT` to get the most up-to-date weights.\n",
            "  warnings.warn(msg)\n"
          ]
        }
      ]
    },
    {
      "cell_type": "code",
      "source": [
        "# Plot Loss Function\n",
        "def plot_loss(train_losses, val_losses, epochs):\n",
        "    plt.plot(range(1, epochs + 1), train_losses, label='Train Loss')\n",
        "    plt.plot(range(1, epochs + 1), val_losses, label='Validation Loss')\n",
        "    plt.xlabel('Epochs')\n",
        "    plt.ylabel('Loss')\n",
        "    plt.title('Training and Validation Loss')\n",
        "    plt.legend()\n",
        "    plt.show()"
      ],
      "metadata": {
        "id": "Xugam2GsrcRs"
      },
      "execution_count": 73,
      "outputs": []
    },
    {
      "cell_type": "code",
      "source": [
        "# Training Function\n",
        "def train_model(model, train_loader, val_loader, criterion, optimizer, num_epochs=8):\n",
        "    train_losses = []\n",
        "    val_losses = []\n",
        "\n",
        "    for epoch in range(num_epochs):\n",
        "        model.train()\n",
        "        running_loss = 0.0\n",
        "        for images, hcs in train_loader:\n",
        "            images, hcs = images.to(device), hcs.to(device).unsqueeze(1)\n",
        "\n",
        "            optimizer.zero_grad()\n",
        "            outputs = model(images)\n",
        "            loss = criterion(outputs, hcs)\n",
        "            loss.backward()\n",
        "            optimizer.step()\n",
        "\n",
        "            running_loss += loss.item()\n",
        "\n",
        "        avg_train_loss = running_loss / len(train_loader)\n",
        "        train_losses.append(avg_train_loss)\n",
        "\n",
        "        model.eval()\n",
        "        val_loss = 0.0\n",
        "        with torch.no_grad():\n",
        "            for images, hcs in val_loader:\n",
        "                images, hcs = images.to(device), hcs.to(device).unsqueeze(1)\n",
        "                outputs = model(images)\n",
        "                loss = criterion(outputs, hcs)\n",
        "                val_loss += loss.item()\n",
        "\n",
        "        avg_val_loss = val_loss / len(val_loader)\n",
        "        val_losses.append(avg_val_loss)\n",
        "\n",
        "        print(f\"Epoch [{epoch+1}/{num_epochs}], Loss: {avg_train_loss:.4f}, Val Loss: {avg_val_loss:.4f}\")\n",
        "\n",
        "    print(\"Training complete\")\n",
        "\n",
        "    plot_loss(train_losses, val_losses, num_epochs)\n",
        "    # # Plot the loss graph\n",
        "    # plt.figure(figsize=(10, 5))\n",
        "    # plt.plot(range(1, num_epochs + 1), train_losses, label='Training Loss')\n",
        "    # plt.plot(range(1, num_epochs + 1), val_losses, label='Validation Loss')\n",
        "    # plt.xlabel('Epochs')\n",
        "    # plt.ylabel('Loss')\n",
        "    # plt.title('Training and Validation Loss Over Epochs')\n",
        "    # plt.legend()\n",
        "    # plt.show()"
      ],
      "metadata": {
        "id": "BBqTgw8Op8GV"
      },
      "execution_count": 74,
      "outputs": []
    },
    {
      "cell_type": "code",
      "execution_count": 75,
      "metadata": {
        "colab": {
          "base_uri": "https://localhost:8080/",
          "height": 628
        },
        "id": "vVX7f7jclxj9",
        "outputId": "cc95d995-d720-4562-ece0-4530a0d121fe"
      },
      "outputs": [
        {
          "output_type": "stream",
          "name": "stdout",
          "text": [
            "Epoch [1/8], Loss: 0.0933, Val Loss: 0.0269\n",
            "Epoch [2/8], Loss: 0.0399, Val Loss: 0.0147\n",
            "Epoch [3/8], Loss: 0.0321, Val Loss: 0.0234\n",
            "Epoch [4/8], Loss: 0.0195, Val Loss: 0.0110\n",
            "Epoch [5/8], Loss: 0.0204, Val Loss: 0.0167\n",
            "Epoch [6/8], Loss: 0.0176, Val Loss: 0.0241\n",
            "Epoch [7/8], Loss: 0.0200, Val Loss: 0.0205\n",
            "Epoch [8/8], Loss: 0.0183, Val Loss: 0.0067\n",
            "Training complete\n"
          ]
        },
        {
          "output_type": "display_data",
          "data": {
            "text/plain": [
              "<Figure size 640x480 with 1 Axes>"
            ],
            "image/png": "[encoded data removed]"
          },
          "metadata": {}
        }
      ],
      "source": [
        "# Train the model\n",
        "train_model(model, train_loader, val_loader, criterion, optimizer)"
      ]
    },
    {
      "cell_type": "code",
      "source": [
        "# Save the model\n",
        "model_path = \"/content/drive/MyDrive/FinalProject/trained_model.pth\"\n",
        "torch.save(model.state_dict(), model_path)\n",
        "print(f\"Model saved to {model_path}\")\n"
      ],
      "metadata": {
        "colab": {
          "base_uri": "https://localhost:8080/"
        },
        "id": "pdSPt7fcp97p",
        "outputId": "5ca8dd76-47a0-433a-ea2a-332166369cd2"
      },
      "execution_count": 76,
      "outputs": [
        {
          "output_type": "stream",
          "name": "stdout",
          "text": [
            "Model saved to /content/drive/MyDrive/FinalProject/trained_model.pth\n"
          ]
        }
      ]
    },
    {
      "cell_type": "code",
      "source": [
        "# Load the trained model\n",
        "model_path = \"/content/drive/MyDrive/FinalProject/trained_model.pth\"\n",
        "model.load_state_dict(torch.load(model_path, map_location=device))\n",
        "model.eval()  # Set the model to evaluation mode\n",
        "print(\"Model loaded successfully\")"
      ],
      "metadata": {
        "colab": {
          "base_uri": "https://localhost:8080/"
        },
        "id": "fzQ-CEwktllA",
        "outputId": "f9774328-eb91-470f-b299-7247df7a8f5e"
      },
      "execution_count": 77,
      "outputs": [
        {
          "output_type": "stream",
          "name": "stdout",
          "text": [
            "Model loaded successfully\n"
          ]
        }
      ]
    },
    {
      "cell_type": "code",
      "source": [
        "def predict_head_circumference(image_path, model, min_hc, max_hc):\n",
        "    image = Image.open(image_path).convert('RGB')  # Convert to RGB\n",
        "    image = transform(image).unsqueeze(0).to(device)\n",
        "\n",
        "    with torch.no_grad():\n",
        "        predicted_normalized_hc = model(image).item()\n",
        "        predicted_hc = predicted_normalized_hc * (max_hc - min_hc) + min_hc  # De-normalize the prediction\n",
        "\n",
        "    return predicted_hc"
      ],
      "metadata": {
        "id": "_sBoJvtYtmHq"
      },
      "execution_count": 78,
      "outputs": []
    },
    {
      "cell_type": "code",
      "source": [
        "# Evaluate the model on the entire training set\n",
        "min_hc = train_csv_df['head circumference (mm)'].min()\n",
        "max_hc = train_csv_df['head circumference (mm)'].max()\n",
        "num_images_to_test = len(train_csv_df)\n",
        "indices = range(num_images_to_test)  # Generate a sequence of indices from 0 to num_images_to_test-1\n",
        "\n",
        "# Initialize a list to store the results\n",
        "results = []\n",
        "absolute_errors = []\n",
        "counter = 0\n",
        "error_parameter = 5\n",
        "\n",
        "# Variables to track the maximum absolute error and corresponding details\n",
        "max_absolute_error = -1\n",
        "max_error_image = \"\"\n",
        "max_error_predicted = -1\n",
        "max_error_ground_truth = -1\n",
        "\n",
        "# Loop through the selected images\n",
        "for idx in indices:\n",
        "    image_name = train_csv_df.iloc[idx, 0]\n",
        "    image_path = os.path.join(\"/content/drive/MyDrive/FinalProject/Dataset/training_set/training_set/\", image_name)\n",
        "    ground_truth_circumference = train_csv_df.iloc[idx, 2]  # Assuming the third column contains the head circumference labels\n",
        "\n",
        "    # Call the function to predict head circumference from the image\n",
        "    predicted_circumference = predict_head_circumference(image_path, model, min_hc, max_hc)\n",
        "\n",
        "    # Calculate the absolute error\n",
        "    absolute_error = abs(predicted_circumference - ground_truth_circumference)\n",
        "    absolute_errors.append(absolute_error)\n",
        "\n",
        "    # Track the maximum absolute error\n",
        "    if absolute_error > max_absolute_error:\n",
        "        max_absolute_error = absolute_error\n",
        "        max_error_image = image_path\n",
        "        max_error_predicted = predicted_circumference\n",
        "        max_error_ground_truth = ground_truth_circumference\n",
        "\n",
        "    # Create the result string\n",
        "    result_string = (f\"Image: {image_path}\\n\"\n",
        "                     f\"Predicted Head Circumference: {predicted_circumference}\\n\"\n",
        "                     f\"Ground Truth Head Circumference: {ground_truth_circumference}\\n\"\n",
        "                     f\"Absolute Error: {absolute_error}\\n\"\n",
        "                     \"****************************\\n\")\n",
        "\n",
        "    # Append the result to the list\n",
        "    results.append([image_name, result_string, absolute_error])\n",
        "\n",
        "    if absolute_error < error_parameter:\n",
        "        counter += 1\n",
        "\n",
        "# Convert the results to a DataFrame and save to a CSV file\n",
        "results_df = pd.DataFrame(results, columns=['Image', 'Result', 'Absolute Error'])\n",
        "results_csv_path = \"/content/drive/MyDrive/FinalProject/results.csv\"\n",
        "results_df.to_csv(results_csv_path, index=False)\n",
        "\n",
        "# Print summary\n",
        "print(f\"Results saved to {results_csv_path}\")\n",
        "print(f\"Total Images with Error < {error_parameter}: {counter}\")\n",
        "print(f\"Percentage: {counter / num_images_to_test * 100:.2f}%\")\n",
        "\n",
        "# Print the image with the biggest absolute error\n",
        "print(\"Image with the biggest absolute error:\")\n",
        "print(f\"Image: {max_error_image}\")\n",
        "print(f\"Predicted Head Circumference: {max_error_predicted}\")\n",
        "print(f\"Ground Truth Head Circumference: {max_error_ground_truth}\")\n",
        "print(f\"Absolute Error: {max_absolute_error}\")\n"
      ],
      "metadata": {
        "colab": {
          "base_uri": "https://localhost:8080/"
        },
        "id": "CmlBaCh_tn6Z",
        "outputId": "92ed2c88-d08f-4a59-955f-49ae750ff706"
      },
      "execution_count": 80,
      "outputs": [
        {
          "output_type": "stream",
          "name": "stdout",
          "text": [
            "Results saved to /content/drive/MyDrive/FinalProject/results.csv\n",
            "Total Images with Error < 5: 172\n",
            "Percentage: 17.22%\n",
            "Image with the biggest absolute error:\n",
            "Image: /content/drive/MyDrive/FinalProject/Dataset/training_set/training_set/096_HC.png\n",
            "Predicted Head Circumference: 175.52300928831096\n",
            "Ground Truth Head Circumference: 75.64\n",
            "Absolute Error: 99.88300928831096\n"
          ]
        }
      ]
    }
  ]
}