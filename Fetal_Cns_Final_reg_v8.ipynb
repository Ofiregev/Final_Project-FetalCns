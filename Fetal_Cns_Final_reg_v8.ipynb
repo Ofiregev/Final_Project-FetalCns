{
  "nbformat": 4,
  "nbformat_minor": 0,
  "metadata": {
    "colab": {
      "provenance": [],
      "gpuType": "T4",
      "include_colab_link": true
    },
    "kernelspec": {
      "name": "python3",
      "display_name": "Python 3"
    },
    "language_info": {
      "name": "python"
    },
    "accelerator": "GPU"
  },
  "cells": [
    {
      "cell_type": "markdown",
      "metadata": {
        "id": "view-in-github",
        "colab_type": "text"
      },
      "source": [
        "<a href=\"https://colab.research.google.com/github/Ofiregev/Final_Project-FetalCns/blob/main/Fetal_Cns_Final_reg_v8.ipynb\" target=\"_parent\"><img src=\"https://colab.research.google.com/assets/colab-badge.svg\" alt=\"Open In Colab\"/></a>"
      ]
    },
    {
      "cell_type": "code",
      "source": [
        "from google.colab import drive\n",
        "import torch\n",
        "import torch.nn as nn\n",
        "import torch.optim as optim\n",
        "import torchvision.transforms as transforms\n",
        "from torch.utils.data import DataLoader, Dataset, random_split\n",
        "from torchvision import models\n",
        "from PIL import Image\n",
        "import os\n",
        "import pandas as pd\n",
        "import numpy as np\n",
        "import matplotlib.pyplot as plt\n",
        "from sklearn.model_selection import train_test_split\n",
        "from sklearn.metrics import mean_squared_error\n",
        "from torch.utils.data import DataLoader, Dataset\n",
        "from torch.optim.lr_scheduler import StepLR\n",
        "import random"
      ],
      "metadata": {
        "id": "bQIu-pWDLe35"
      },
      "execution_count": 140,
      "outputs": []
    },
    {
      "cell_type": "code",
      "source": [
        "# Mount Google Drive\n",
        "drive.mount('/content/drive')\n",
        "print(\"Google Drive mounted successfully.\")"
      ],
      "metadata": {
        "colab": {
          "base_uri": "https://localhost:8080/"
        },
        "id": "husjIpqXLfr6",
        "outputId": "8e8e4152-ad71-4a0e-9fff-7ba40ec62e78"
      },
      "execution_count": 99,
      "outputs": [
        {
          "output_type": "stream",
          "name": "stdout",
          "text": [
            "Drive already mounted at /content/drive; to attempt to forcibly remount, call drive.mount(\"/content/drive\", force_remount=True).\n",
            "Google Drive mounted successfully.\n"
          ]
        }
      ]
    },
    {
      "cell_type": "code",
      "source": [
        "\n",
        "# Determine the available hardware (CPU or GPU) and set the PyTorch device accordingly\n",
        "device = torch.device(\"cuda\" if torch.cuda.is_available() else \"cpu\")\n",
        "print(f\"Using device: {device}\")\n"
      ],
      "metadata": {
        "colab": {
          "base_uri": "https://localhost:8080/"
        },
        "id": "Cz2MTh4NLfu8",
        "outputId": "d4f2eef3-de52-4dce-b176-a0e42e1b1d46"
      },
      "execution_count": 100,
      "outputs": [
        {
          "output_type": "stream",
          "name": "stdout",
          "text": [
            "Using device: cuda\n"
          ]
        }
      ]
    },
    {
      "cell_type": "code",
      "source": [
        "\n",
        "# Read the list of images from the CSV file\n",
        "train_csv = \"/content/drive/MyDrive/FinalProject/train_21-07.csv\"\n",
        "train_csv_df = pd.read_csv(train_csv)\n",
        "print(\"CSV file loaded:\")\n",
        "print(train_csv_df.head())"
      ],
      "metadata": {
        "colab": {
          "base_uri": "https://localhost:8080/"
        },
        "id": "yQbFizzmLfyH",
        "outputId": "67549c98-a9c6-4920-b673-bd29dc1f5309"
      },
      "execution_count": 101,
      "outputs": [
        {
          "output_type": "stream",
          "name": "stdout",
          "text": [
            "CSV file loaded:\n",
            "      filename  pixel size(mm)  head circumference (mm)  Normalized_HC\n",
            "0   457_HC.png        0.134175                   183.49       0.460741\n",
            "1  736_2HC.png        0.198600                   298.64       0.841907\n",
            "2   007_HC.png        0.109362                    62.80       0.061238\n",
            "3   571_HC.png        0.130106                   175.80       0.435286\n",
            "4  022_2HC.png        0.094348                    64.45       0.066700\n"
          ]
        }
      ]
    },
    {
      "cell_type": "code",
      "source": [
        "# Custom Dataset Class\n",
        "class CustomDataset(Dataset):\n",
        "    def __init__(self, csv_file, root_dir, transform=None):\n",
        "        self.data_frame = pd.read_csv(csv_file)\n",
        "        self.root_dir = root_dir\n",
        "        self.transform = transform\n",
        "\n",
        "    def __len__(self):\n",
        "        return len(self.data_frame)\n",
        "\n",
        "    def __getitem__(self, idx):\n",
        "        img_name = os.path.join(self.root_dir, self.data_frame.iloc[idx, 0])\n",
        "        image = Image.open(img_name).convert('RGB')\n",
        "        if self.transform:\n",
        "            image = self.transform(image)\n",
        "        pixel_size = self.data_frame.iloc[idx, 1]\n",
        "        hc = self.data_frame.iloc[idx, 3]  # Normalized head circumference\n",
        "        sample = {'image': image, 'pixel_size': pixel_size, 'hc': hc}\n",
        "        return sample"
      ],
      "metadata": {
        "id": "47H7bdAuLvJN"
      },
      "execution_count": 102,
      "outputs": []
    },
    {
      "cell_type": "code",
      "source": [
        "# Define transformations for the images\n",
        "transform = transforms.Compose([\n",
        "    transforms.RandomHorizontalFlip(p=0.5),  # Randomly flip the image horizontally with a probability of 0.5\n",
        "    transforms.RandomRotation(degrees=10),   # Randomly rotate the image by up to 10 degrees\n",
        "    transforms.ColorJitter(brightness=0.2, contrast=0.2, saturation=0.2, hue=0.1),  # Randomly change the brightness, contrast, saturation, and hue\n",
        "    transforms.RandomResizedCrop(size=(224, 224), scale=(0.8, 1.0)),  # Randomly crop and resize the image to 224x224 with scaling between 80% to 100%\n",
        "    transforms.ToTensor(),  # Convert the image to a tensor\n",
        "    transforms.Normalize(mean=[0.485, 0.456, 0.406], std=[0.229, 0.224, 0.225])  # Normalize the image\n",
        "])\n",
        "\n"
      ],
      "metadata": {
        "id": "yk6vrkvnLw_z"
      },
      "execution_count": 103,
      "outputs": []
    },
    {
      "cell_type": "code",
      "source": [
        "batch_size = 32\n",
        "num_epochs = 8\n",
        "step_size = 5\n",
        "lr = 0.001"
      ],
      "metadata": {
        "id": "1o8Tjmq3WKkD"
      },
      "execution_count": 231,
      "outputs": []
    },
    {
      "cell_type": "code",
      "source": [
        "# Load the dataset\n",
        "root_dir = \"/content/drive/MyDrive/FinalProject/Dataset/training_set/training_set/\"\n",
        "dataset = CustomDataset(csv_file=train_csv, root_dir=root_dir, transform=transform)\n",
        "\n",
        "# Split the dataset into training and validation sets\n",
        "train_size = int(0.95 * len(dataset))\n",
        "val_size = len(dataset) - train_size\n",
        "train_dataset, val_dataset = random_split(dataset, [train_size, val_size])\n",
        "\n",
        "# Create data loaders\n",
        "train_loader = DataLoader(train_dataset, batch_size, shuffle=True)\n",
        "val_loader = DataLoader(val_dataset, batch_size, shuffle=False)"
      ],
      "metadata": {
        "id": "PM98ydBCLxHo"
      },
      "execution_count": 232,
      "outputs": []
    },
    {
      "cell_type": "code",
      "source": [
        "class CNNRegression(nn.Module):\n",
        "    def __init__(self):\n",
        "        super(CNNRegression, self).__init__()\n",
        "        self.cnn = models.resnet18(pretrained=True)\n",
        "        cnn_out_features = self.cnn.fc.in_features  # Get the number of output features from the CNN\n",
        "        self.cnn.fc = nn.Identity()  # Remove the last fully connected layer\n",
        "        self.fc1 = nn.Linear(cnn_out_features + 1, 128)  # Adjust input features\n",
        "        self.fc2 = nn.Linear(128, 1)\n",
        "\n",
        "    def forward(self, image, pixel_size):\n",
        "        x1 = self.cnn(image)\n",
        "        x2 = pixel_size.view(-1, 1)  # Ensure x2 has the shape (batch_size, 1)\n",
        "        x = torch.cat((x1, x2), dim=1)  # Concatenate along the feature dimension\n",
        "        x = self.fc1(x)\n",
        "        x = nn.ReLU()(x)\n",
        "        x = self.fc2(x)\n",
        "        return x\n"
      ],
      "metadata": {
        "id": "r3GukRxEL094"
      },
      "execution_count": 233,
      "outputs": []
    },
    {
      "cell_type": "code",
      "source": [
        "def set_seed(seed):\n",
        "    random.seed(seed)\n",
        "    np.random.seed(seed)\n",
        "    torch.manual_seed(seed)\n",
        "    if torch.cuda.is_available():\n",
        "        torch.cuda.manual_seed(seed)\n",
        "        torch.cuda.manual_seed_all(seed)\n",
        "    torch.backends.cudnn.deterministic = True\n",
        "    torch.backends.cudnn.benchmark = False"
      ],
      "metadata": {
        "id": "VFrm20mg6UkS"
      },
      "execution_count": 234,
      "outputs": []
    },
    {
      "cell_type": "code",
      "source": [
        "set_seed(42)"
      ],
      "metadata": {
        "id": "Ekl5Itnn6fCt"
      },
      "execution_count": 235,
      "outputs": []
    },
    {
      "cell_type": "code",
      "source": [
        "# Initialize the model, loss function, and optimizer\n",
        "model = CNNRegression().to(device)\n",
        "criterion = nn.MSELoss()\n",
        "optimizer = optim.Adam(model.parameters(), lr)\n",
        "scheduler = StepLR(optimizer, step_size, gamma=0.1)"
      ],
      "metadata": {
        "colab": {
          "base_uri": "https://localhost:8080/"
        },
        "id": "WtJUtgUyL2m9",
        "outputId": "4ee7416b-703e-495e-903b-049c1a0ceae6"
      },
      "execution_count": 236,
      "outputs": [
        {
          "output_type": "stream",
          "name": "stderr",
          "text": [
            "/usr/local/lib/python3.10/dist-packages/torchvision/models/_utils.py:208: UserWarning: The parameter 'pretrained' is deprecated since 0.13 and may be removed in the future, please use 'weights' instead.\n",
            "  warnings.warn(\n",
            "/usr/local/lib/python3.10/dist-packages/torchvision/models/_utils.py:223: UserWarning: Arguments other than a weight enum or `None` for 'weights' are deprecated since 0.13 and may be removed in the future. The current behavior is equivalent to passing `weights=ResNet18_Weights.IMAGENET1K_V1`. You can also use `weights=ResNet18_Weights.DEFAULT` to get the most up-to-date weights.\n",
            "  warnings.warn(msg)\n"
          ]
        }
      ]
    },
    {
      "cell_type": "code",
      "source": [
        "class EarlyStopping:\n",
        "    def __init__(self, patience=5, min_delta=0):\n",
        "        self.patience = patience\n",
        "        self.min_delta = min_delta\n",
        "        self.counter = 0\n",
        "        self.best_loss = None\n",
        "        self.early_stop = False\n",
        "\n",
        "    def __call__(self, val_loss):\n",
        "        if self.best_loss is None:\n",
        "            self.best_loss = val_loss\n",
        "        elif val_loss > self.best_loss - self.min_delta:\n",
        "            self.counter += 1\n",
        "            if self.counter >= self.patience:\n",
        "                self.early_stop = True\n",
        "        else:\n",
        "            self.best_loss = val_loss\n",
        "            self.counter = 0\n",
        "\n",
        "early_stopping = EarlyStopping(patience=5, min_delta=0.001)"
      ],
      "metadata": {
        "id": "mDpIcowPOsF7"
      },
      "execution_count": 237,
      "outputs": []
    },
    {
      "cell_type": "code",
      "source": [
        "# Lists to store the loss values\n",
        "train_losses = []\n",
        "val_losses = []\n",
        "\n",
        "# Training loop\n",
        "for epoch in range(num_epochs):\n",
        "    model.train()\n",
        "    running_loss = 0.0\n",
        "    for data in train_loader:\n",
        "        images = data['image'].to(device)\n",
        "        pixel_sizes = data['pixel_size'].float().to(device)\n",
        "        targets = data['hc'].float().to(device)\n",
        "\n",
        "        optimizer.zero_grad()\n",
        "        outputs = model(images, pixel_sizes)\n",
        "        loss = criterion(outputs, targets.unsqueeze(1))\n",
        "        loss.backward()\n",
        "        optimizer.step()\n",
        "\n",
        "        running_loss += loss.item()\n",
        "    train_loss = running_loss / len(train_loader)\n",
        "    train_losses.append(train_loss)\n",
        "    print(f\"Epoch {epoch+1}/{num_epochs}, Training Loss: {train_loss}\")\n",
        "\n",
        "    # Validation loop\n",
        "    model.eval()\n",
        "    val_loss = 0.0\n",
        "    with torch.no_grad():\n",
        "        for data in val_loader:\n",
        "            images = data['image'].to(device)\n",
        "            pixel_sizes = data['pixel_size'].float().to(device)\n",
        "            targets = data['hc'].float().to(device)\n",
        "\n",
        "            outputs = model(images, pixel_sizes)\n",
        "            loss = criterion(outputs, targets.unsqueeze(1))\n",
        "            val_loss += loss.item()\n",
        "    val_loss /= len(val_loader)\n",
        "    val_losses.append(val_loss)\n",
        "    print(f\"Epoch {epoch+1}/{num_epochs}, Validation Loss: {val_loss}\")\n",
        "\n",
        "    scheduler.step()\n",
        "    early_stopping(val_loss)\n",
        "    if early_stopping.early_stop:\n",
        "        print(\"Early stopping\")\n",
        "        break\n",
        "\n",
        "# Ensure train_losses and val_losses have the same length\n",
        "if len(train_losses) > len(val_losses):\n",
        "    train_losses = train_losses[:len(val_losses)]\n",
        "elif len(val_losses) > len(train_losses):\n",
        "    val_losses = val_losses[:len(train_losses)]\n",
        "\n",
        "# Plot the training and validation loss\n",
        "plt.figure(figsize=(10, 5))\n",
        "plt.plot(range(1, len(train_losses) + 1), train_losses, label='Training Loss')\n",
        "plt.plot(range(1, len(val_losses) + 1), val_losses, label='Validation Loss')\n",
        "plt.xlabel('Epochs')\n",
        "plt.ylabel('Loss')\n",
        "plt.title('Training and Validation Loss Over Epochs')\n",
        "plt.legend()\n",
        "plt.show()\n",
        "# # Plot the training and validation loss\n",
        "# plt.figure(figsize=(10, 5))\n",
        "# plt.plot(range(1, num_epochs + 1), train_losses, label='Training Loss')\n",
        "# plt.plot(range(1, num_epochs + 1), val_losses, label='Validation Loss')\n",
        "# plt.xlabel('Epochs')\n",
        "# plt.ylabel('Loss')\n",
        "# plt.title('Training and Validation Loss Over Epochs')\n",
        "# plt.legend()\n",
        "# plt.show()"
      ],
      "metadata": {
        "colab": {
          "base_uri": "https://localhost:8080/",
          "height": 765
        },
        "id": "SZIGfXb6RYXS",
        "outputId": "50e3797c-cfec-40c7-f35d-e0a0a4def28e"
      },
      "execution_count": 238,
      "outputs": [
        {
          "output_type": "stream",
          "name": "stdout",
          "text": [
            "Epoch 1/8, Training Loss: 0.047952666777660545\n",
            "Epoch 1/8, Validation Loss: 0.01065618839735786\n",
            "Epoch 2/8, Training Loss: 0.008317492875920714\n",
            "Epoch 2/8, Validation Loss: 0.005938660974303882\n",
            "Epoch 3/8, Training Loss: 0.006511406999362528\n",
            "Epoch 3/8, Validation Loss: 0.006631553949167331\n",
            "Epoch 4/8, Training Loss: 0.005786443397156753\n",
            "Epoch 4/8, Validation Loss: 0.00359267380554229\n",
            "Epoch 5/8, Training Loss: 0.005176477055153194\n",
            "Epoch 5/8, Validation Loss: 0.004773222918932636\n",
            "Epoch 6/8, Training Loss: 0.003293648357766698\n",
            "Epoch 6/8, Validation Loss: 0.003019446817537149\n",
            "Epoch 7/8, Training Loss: 0.003035907929033955\n",
            "Epoch 7/8, Validation Loss: 0.002972489067663749\n",
            "Epoch 8/8, Training Loss: 0.002418281655442321\n",
            "Epoch 8/8, Validation Loss: 0.0019749947047481933\n"
          ]
        },
        {
          "output_type": "display_data",
          "data": {
            "text/plain": [
              "<Figure size 1000x500 with 1 Axes>"
            ],
            "image/png": "[encoded data removed]"
          },
          "metadata": {}
        }
      ]
    },
    {
      "cell_type": "code",
      "source": [
        "def predict_head_circumference(image_path, pixel_size, model, min_hc, max_hc):\n",
        "    transform = transforms.Compose([\n",
        "        transforms.Resize((224, 224)),\n",
        "        transforms.ToTensor(),\n",
        "        transforms.Normalize(mean=[0.485, 0.456, 0.406], std=[0.229, 0.224, 0.225])\n",
        "    ])\n",
        "    image = Image.open(image_path).convert('RGB')\n",
        "    image_tensor = transform(image).unsqueeze(0)  # Add batch dimension\n",
        "    pixel_size_tensor = torch.tensor([pixel_size]).float().view(1, 1)  # Ensure it has the shape (1, 1)\n",
        "\n",
        "    with torch.no_grad():\n",
        "        output = model(image_tensor.to(device), pixel_size_tensor.to(device))\n",
        "\n",
        "    predicted_normalized_hc = output.item()\n",
        "    predicted_hc = predicted_normalized_hc * (max_hc - min_hc) + min_hc  # De-normalize the prediction\n",
        "    return predicted_hc\n"
      ],
      "metadata": {
        "id": "xQnt4XNtSd-7"
      },
      "execution_count": 239,
      "outputs": []
    },
    {
      "cell_type": "code",
      "source": [
        "# Read the list of images from the CSV file\n",
        "test_csv = \"/content/drive/MyDrive/FinalProject/test_21-07.csv\"\n",
        "test_csv_df = pd.read_csv(test_csv)\n",
        "print(\"CSV file loaded:\")\n",
        "print(test_csv_df.head())\n"
      ],
      "metadata": {
        "id": "kimgFuw-xBOd",
        "outputId": "29a9656f-2807-4a60-baaf-9e26a0171b7d",
        "colab": {
          "base_uri": "https://localhost:8080/"
        }
      },
      "execution_count": 240,
      "outputs": [
        {
          "output_type": "stream",
          "name": "stdout",
          "text": [
            "CSV file loaded:\n",
            "      filename  pixel size(mm)  head circumference (mm)  Normalized_HC\n",
            "0   563_HC.png        0.126554                   181.73       0.454916\n",
            "1  271_2HC.png        0.129558                   163.31       0.393942\n",
            "2  108_3HC.png        0.098110                    83.42       0.129494\n",
            "3  453_2HC.png        0.126893                   166.80       0.405495\n",
            "4   010_HC.png        0.079935                    71.91       0.091394\n"
          ]
        }
      ]
    },
    {
      "cell_type": "code",
      "source": [
        "# Ensure the min_hc and max_hc are defined\n",
        "min_hc = min(train_csv_df['head circumference (mm)'].min(), test_csv_df['head circumference (mm)'].min())\n",
        "max_hc = max(train_csv_df['head circumference (mm)'].max(), test_csv_df['head circumference (mm)'].max())\n",
        "num_images_to_test = len(test_csv_df)\n",
        "indices = range(num_images_to_test)  # Generate a sequence of indices from 0 to num_images_to_test-1"
      ],
      "metadata": {
        "id": "lwJnNWDxQn9R"
      },
      "execution_count": 241,
      "outputs": []
    },
    {
      "cell_type": "code",
      "source": [
        "import os\n",
        "import numpy as np\n",
        "import pandas as pd\n",
        "import matplotlib.pyplot as plt\n",
        "from sklearn.metrics import mean_squared_error, mean_absolute_error, r2_score\n",
        "\n",
        "print(\"batch size = \", batch_size)\n",
        "print(\"num_epochs = \", num_epochs)\n",
        "print(\"step_size = \", step_size)\n",
        "\n",
        "# Initialize lists to store true and predicted values\n",
        "y_true = []\n",
        "y_pred = []\n",
        "results = []\n",
        "absolute_errors = []\n",
        "percentage_errors = []\n",
        "counter = 0\n",
        "percentage_error_counter_5 = 0  # Counter for errors less than 5%\n",
        "percentage_error_counter_10 = 0  # Counter for errors less than 10%\n",
        "threshold_param = 0.05  # Threshold for the ground truth circumference\n",
        "\n",
        "# Variables to track the maximum absolute error and corresponding details\n",
        "max_absolute_error = -1\n",
        "max_error_image = \"\"\n",
        "max_error_predicted = -1\n",
        "max_error_ground_truth = -1\n",
        "\n",
        "# Loop through the selected images\n",
        "for idx in indices:\n",
        "    image_name = test_csv_df.iloc[idx, 0]\n",
        "    image_path = os.path.join(\"/content/drive/MyDrive/FinalProject/Dataset/training_set/training_set/\", image_name)\n",
        "    ground_truth_circumference = test_csv_df.iloc[idx, 2]  # Assuming the third column contains the head circumference labels\n",
        "    pixel_size = test_csv_df.iloc[idx, 1]  # Assuming the second column contains the pixel size\n",
        "\n",
        "    # Call the function to predict head circumference from the image\n",
        "    predicted_circumference = predict_head_circumference(image_path, pixel_size, model, min_hc, max_hc)\n",
        "\n",
        "    # Store the true and predicted values\n",
        "    y_true.append(ground_truth_circumference)\n",
        "    y_pred.append(predicted_circumference)\n",
        "\n",
        "    # Calculate the absolute error\n",
        "    absolute_error = abs(predicted_circumference - ground_truth_circumference)\n",
        "    absolute_errors.append(absolute_error)\n",
        "\n",
        "    # Calculate the percentage error\n",
        "    percentage_error = (absolute_error / ground_truth_circumference) * 100\n",
        "    percentage_errors.append(percentage_error)\n",
        "\n",
        "    # Calculate the 5% and 10% thresholds for the ground truth circumference\n",
        "    threshold_5 = 0.05 * ground_truth_circumference\n",
        "    threshold_10 = 0.10 * ground_truth_circumference\n",
        "\n",
        "    # Check if the absolute error is less than the 5% and 10% thresholds\n",
        "    if absolute_error < threshold_5:\n",
        "        percentage_error_counter_5 += 1\n",
        "    if absolute_error < threshold_10:\n",
        "        percentage_error_counter_10 += 1\n",
        "\n",
        "    # Track the maximum absolute error\n",
        "    if absolute_error > max_absolute_error:\n",
        "        max_absolute_error = absolute_error\n",
        "        max_error_image = image_path\n",
        "        max_error_predicted = predicted_circumference\n",
        "        max_error_ground_truth = ground_truth_circumference\n",
        "\n",
        "    # Create the result string\n",
        "    result_string = (f\"Image: {image_path}\\n\"\n",
        "                     f\"Predicted Head Circumference: {predicted_circumference}\\n\"\n",
        "                     f\"Ground Truth Head Circumference: {ground_truth_circumference}\\n\"\n",
        "                     f\"Pixel Size: {pixel_size}\\n\"\n",
        "                     f\"Absolute Error: {absolute_error}\\n\"\n",
        "                     f\"Percentage Error: {percentage_error}%\\n\"\n",
        "                     \"****************************\\n\")\n",
        "\n",
        "    # Append the result to the list\n",
        "    results.append([image_name, result_string, absolute_error])\n",
        "\n",
        "# Convert the results to a DataFrame and save to a CSV file\n",
        "results_df = pd.DataFrame(results, columns=['Image', 'Result', 'Absolute Error'])\n",
        "results_csv_path = \"/content/drive/MyDrive/FinalProject/results_21.7.csv\"\n",
        "results_df.to_csv(results_csv_path, index=False)\n",
        "\n",
        "# Print summary\n",
        "print(f\"Results saved to {results_csv_path}\")\n",
        "print(f\"Total Images with Error < 5% of Ground Truth: {percentage_error_counter_5}\")\n",
        "print(f\"Percentage: {percentage_error_counter_5 / num_images_to_test * 100:.2f}%\")\n",
        "print(f\"Total Images with Error < 10% of Ground Truth: {percentage_error_counter_10}\")\n",
        "print(f\"Percentage: {percentage_error_counter_10 / num_images_to_test * 100:.2f}%\")\n",
        "\n",
        "# Print the image with the biggest absolute error\n",
        "print(\"Image with the biggest absolute error:\")\n",
        "print(f\"Image: {max_error_image}\")\n",
        "print(f\"Predicted Head Circumference: {max_error_predicted}\")\n",
        "print(f\"Ground Truth Head Circumference: {max_error_ground_truth}\")\n",
        "print(f\"Absolute Error: {max_absolute_error}\")\n",
        "\n",
        "# Calculate RMSE, MAE, and R²\n",
        "mse = mean_squared_error(y_true, y_pred)\n",
        "rmse = np.sqrt(mse)\n",
        "mae = mean_absolute_error(y_true, y_pred)\n",
        "r2 = r2_score(y_true, y_pred)\n",
        "\n",
        "print(f\"Mean Squared Error: {mse}\")\n",
        "print(f\"Root Mean Squared Error: {rmse}\")\n",
        "print(f\"Mean Absolute Error: {mae}\")\n",
        "print(f\"R² Score: {r2}\")\n",
        "\n",
        "# Plot actual vs. predicted values\n",
        "plt.scatter(y_true, y_pred)\n",
        "plt.plot([min(y_true), max(y_true)], [min(y_true), max(y_true)], 'k--', lw=2)\n",
        "plt.xlabel('Actual Head Circumference')\n",
        "plt.ylabel('Predicted Head Circumference')\n",
        "plt.title('Predicted vs. Actual Head Circumference')\n",
        "plt.show()\n"
      ],
      "metadata": {
        "id": "T7qMdilwQhmP",
        "outputId": "6f04abd7-11fa-4a82-9d28-6f90f430d901",
        "colab": {
          "base_uri": "https://localhost:8080/",
          "height": 767
        }
      },
      "execution_count": 242,
      "outputs": [
        {
          "output_type": "stream",
          "name": "stdout",
          "text": [
            "batch size =  16\n",
            "num_epochs =  8\n",
            "step_size =  5\n",
            "Results saved to /content/drive/MyDrive/FinalProject/results_21.7.csv\n",
            "Total Images with Error < 5% of Ground Truth: 27\n",
            "Percentage: 50.94%\n",
            "Total Images with Error < 10% of Ground Truth: 44\n",
            "Percentage: 83.02%\n",
            "Image with the biggest absolute error:\n",
            "Image: /content/drive/MyDrive/FinalProject/Dataset/training_set/training_set/716_HC.png\n",
            "Predicted Head Circumference: 271.48715112209317\n",
            "Ground Truth Head Circumference: 298.8\n",
            "Absolute Error: 27.312848877906845\n",
            "Mean Squared Error: 112.6758605434253\n",
            "Root Mean Squared Error: 10.61488862604904\n",
            "Mean Absolute Error: 8.514040098145312\n",
            "R² Score: 0.9723932476369451\n"
          ]
        },
        {
          "output_type": "display_data",
          "data": {
            "text/plain": [
              "<Figure size 640x480 with 1 Axes>"
            ],
            "image/png": "[encoded data removed]"
          },
          "metadata": {}
        }
      ]
    }
  ]
}