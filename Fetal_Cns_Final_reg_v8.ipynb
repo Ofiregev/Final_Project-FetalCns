{
  "nbformat": 4,
  "nbformat_minor": 0,
  "metadata": {
    "colab": {
      "provenance": [],
      "gpuType": "T4",
      "include_colab_link": true
    },
    "kernelspec": {
      "name": "python3",
      "display_name": "Python 3"
    },
    "language_info": {
      "name": "python"
    },
    "accelerator": "GPU"
  },
  "cells": [
    {
      "cell_type": "markdown",
      "metadata": {
        "id": "view-in-github",
        "colab_type": "text"
      },
      "source": [
        "<a href=\"https://colab.research.google.com/github/Ofiregev/Final_Project-FetalCns/blob/main/Fetal_Cns_Final_reg_v8.ipynb\" target=\"_parent\"><img src=\"https://colab.research.google.com/assets/colab-badge.svg\" alt=\"Open In Colab\"/></a>"
      ]
    },
    {
      "cell_type": "code",
      "source": [
        "from google.colab import drive\n",
        "import torch\n",
        "import torch.nn as nn\n",
        "import torch.optim as optim\n",
        "import torchvision.transforms as transforms\n",
        "from torch.utils.data import DataLoader, Dataset, random_split\n",
        "from torchvision import models\n",
        "from PIL import Image\n",
        "import os\n",
        "import pandas as pd\n",
        "import numpy as np\n",
        "import matplotlib.pyplot as plt\n",
        "from sklearn.model_selection import train_test_split\n",
        "from sklearn.metrics import mean_squared_error\n",
        "from torch.utils.data import DataLoader, Dataset\n",
        "from torch.optim.lr_scheduler import StepLR, ReduceLROnPlateau\n",
        "import random\n",
        "from sklearn.metrics import mean_squared_error, mean_absolute_error, r2_score"
      ],
      "metadata": {
        "id": "bQIu-pWDLe35"
      },
      "execution_count": 1,
      "outputs": []
    },
    {
      "cell_type": "code",
      "source": [
        "# Mount Google Drive\n",
        "drive.mount('/content/drive')\n",
        "print(\"Google Drive mounted successfully.\")"
      ],
      "metadata": {
        "colab": {
          "base_uri": "https://localhost:8080/"
        },
        "id": "husjIpqXLfr6",
        "outputId": "c55e5fe2-31b3-470d-e1e0-bfc8a0944be6"
      },
      "execution_count": 21,
      "outputs": [
        {
          "output_type": "stream",
          "name": "stdout",
          "text": [
            "Drive already mounted at /content/drive; to attempt to forcibly remount, call drive.mount(\"/content/drive\", force_remount=True).\n",
            "Google Drive mounted successfully.\n"
          ]
        }
      ]
    },
    {
      "cell_type": "code",
      "source": [
        "# Set random seeds for reproducibility\n",
        "seed = 42\n",
        "torch.manual_seed(seed)\n",
        "torch.cuda.manual_seed(seed)\n",
        "torch.cuda.manual_seed_all(seed)  # if using multi-GPU\n",
        "np.random.seed(seed)\n",
        "random.seed(seed)\n",
        "torch.backends.cudnn.deterministic = True\n",
        "torch.backends.cudnn.benchmark = False"
      ],
      "metadata": {
        "id": "eAFupKoGIpI3"
      },
      "execution_count": 55,
      "outputs": []
    },
    {
      "cell_type": "code",
      "source": [
        "\n",
        "# Determine the available hardware (CPU or GPU) and set the PyTorch device accordingly\n",
        "device = torch.device(\"cuda\" if torch.cuda.is_available() else \"cpu\")\n",
        "print(f\"Using device: {device}\")\n"
      ],
      "metadata": {
        "colab": {
          "base_uri": "https://localhost:8080/"
        },
        "id": "Cz2MTh4NLfu8",
        "outputId": "4877e0fd-7243-4f4f-e148-06c8698f81dd"
      },
      "execution_count": 56,
      "outputs": [
        {
          "output_type": "stream",
          "name": "stdout",
          "text": [
            "Using device: cuda\n"
          ]
        }
      ]
    },
    {
      "cell_type": "code",
      "source": [
        "# # Read the list of images from the CSV file\n",
        "# train_csv = \"/content/drive/MyDrive/FinalProject/train_data_95.csv\"\n",
        "# train_csv_df = pd.read_csv(train_csv)\n",
        "# print(\"CSV file loaded:\")\n",
        "# print(train_csv_df.head())"
      ],
      "metadata": {
        "id": "yQbFizzmLfyH"
      },
      "execution_count": 57,
      "outputs": []
    },
    {
      "cell_type": "code",
      "source": [
        "# Custom Dataset Class\n",
        "class CustomDataset(Dataset):\n",
        "    def __init__(self, csv_file, root_dir, transform=None):\n",
        "        self.data_frame = pd.read_csv(csv_file)\n",
        "        self.root_dir = root_dir\n",
        "        self.transform = transform\n",
        "\n",
        "    def __len__(self):\n",
        "        return len(self.data_frame)\n",
        "\n",
        "    def __getitem__(self, idx):\n",
        "        img_name = os.path.join(self.root_dir, self.data_frame.iloc[idx, 0])\n",
        "        image = Image.open(img_name).convert('RGB')\n",
        "        if self.transform:\n",
        "            image = self.transform(image)\n",
        "        pixel_size = torch.tensor(self.data_frame.iloc[idx, 1], dtype=torch.float32)\n",
        "        hc = torch.tensor(self.data_frame.iloc[idx, 3], dtype=torch.float32)\n",
        "        return image, pixel_size, hc"
      ],
      "metadata": {
        "id": "47H7bdAuLvJN"
      },
      "execution_count": 58,
      "outputs": []
    },
    {
      "cell_type": "code",
      "source": [
        "# # Define transformations\n",
        "# transform = transforms.Compose([\n",
        "#     transforms.RandomHorizontalFlip(p=0.5),\n",
        "#     transforms.RandomRotation(degrees=10),\n",
        "#     transforms.ColorJitter(brightness=0.2, contrast=0.2, saturation=0.2, hue=0.1),\n",
        "#     transforms.RandomResizedCrop(size=(224, 224), scale=(0.8, 1.0)),\n",
        "#     transforms.ToTensor(),\n",
        "#     transforms.Normalize(mean=[0.485, 0.456, 0.406], std=[0.229, 0.224, 0.225])\n",
        "# ])\n",
        "# Define transformations without cropping\n",
        "transform = transforms.Compose([\n",
        "    transforms.RandomHorizontalFlip(p=0.5),\n",
        "    transforms.RandomRotation(degrees=10),\n",
        "    transforms.ColorJitter(brightness=0.2, contrast=0.2, saturation=0.2, hue=0.1),\n",
        "    transforms.Resize((224, 224)),  # Instead of cropping, just resize the image\n",
        "    transforms.ToTensor(),\n",
        "    transforms.Normalize(mean=[0.485, 0.456, 0.406], std=[0.229, 0.224, 0.225])\n",
        "])\n"
      ],
      "metadata": {
        "id": "yk6vrkvnLw_z"
      },
      "execution_count": 92,
      "outputs": []
    },
    {
      "cell_type": "code",
      "source": [
        "# Hyperparameters\n",
        "batch_size = 8\n",
        "num_epochs = 8\n",
        "step_size = 5\n",
        "lr = 0.001"
      ],
      "metadata": {
        "id": "1o8Tjmq3WKkD"
      },
      "execution_count": 108,
      "outputs": []
    },
    {
      "cell_type": "code",
      "source": [
        "# File paths\n",
        "root_dir = \"/content/drive/MyDrive/FinalProject/Dataset/training_set/training_set/\"\n",
        "train_csv = '/content/drive/MyDrive/FinalProject/train_data_filtered_95.csv'\n",
        "val_csv = '/content/drive/MyDrive/FinalProject/val_data_filtered_5.csv'\n",
        "test_csv = '/content/drive/MyDrive/FinalProject/test_data_filtered_5.csv'"
      ],
      "metadata": {
        "id": "fz1ZEVS7PXUn"
      },
      "execution_count": 109,
      "outputs": []
    },
    {
      "cell_type": "code",
      "source": [
        "# Load datasets\n",
        "train_dataset = CustomDataset(csv_file=train_csv, root_dir=root_dir, transform=transform)\n",
        "val_dataset = CustomDataset(csv_file=val_csv, root_dir=root_dir, transform=transform)\n",
        "test_dataset = CustomDataset(csv_file=test_csv, root_dir=root_dir, transform=transform)\n"
      ],
      "metadata": {
        "id": "NHmyQYMlPdLZ"
      },
      "execution_count": 110,
      "outputs": []
    },
    {
      "cell_type": "code",
      "source": [
        "# Create DataLoaders\n",
        "train_loader = DataLoader(train_dataset, batch_size=batch_size, shuffle=True, pin_memory=True)\n",
        "val_loader = DataLoader(val_dataset, batch_size=batch_size, shuffle=False,pin_memory=True)\n",
        "test_loader = DataLoader(test_dataset, batch_size=batch_size, shuffle=False,pin_memory=True)"
      ],
      "metadata": {
        "id": "OV3zeoCAPdrs"
      },
      "execution_count": 111,
      "outputs": []
    },
    {
      "cell_type": "code",
      "source": [
        "# Define the model\n",
        "class CNNRegression(nn.Module):\n",
        "    def __init__(self):\n",
        "        super(CNNRegression, self).__init__()\n",
        "        self.cnn = models.resnet18(pretrained=True)\n",
        "        cnn_out_features = self.cnn.fc.in_features\n",
        "        self.cnn.fc = nn.Identity()\n",
        "        self.fc1 = nn.Linear(cnn_out_features + 1, 128)\n",
        "        self.fc2 = nn.Linear(128, 1)\n",
        "        self.dropout = nn.Dropout(0.5)\n",
        "\n",
        "    def forward(self, image, pixel_size):\n",
        "        x1 = self.cnn(image)\n",
        "        x2 = pixel_size.view(-1, 1)\n",
        "        x = torch.cat((x1, x2), dim=1)\n",
        "        x = self.fc1(x)\n",
        "        x = nn.ReLU()(x)\n",
        "        x = self.fc2(x)\n",
        "        return x"
      ],
      "metadata": {
        "id": "r3GukRxEL094"
      },
      "execution_count": 112,
      "outputs": []
    },
    {
      "cell_type": "code",
      "source": [
        "# Initialize model, loss function, optimizer, and scheduler\n",
        "model = CNNRegression().to(device)\n",
        "# criterion = nn.MSELoss()\n",
        "criterion = nn.SmoothL1Loss()\n",
        "optimizer = optim.Adam(model.parameters(), lr=lr)\n",
        "scheduler = StepLR(optimizer, step_size=step_size, gamma=0.1)\n",
        "# scheduler = ReduceLROnPlateau(optimizer, mode='min', factor=0.1, patience=5, min_lr=1e-6)\n"
      ],
      "metadata": {
        "colab": {
          "base_uri": "https://localhost:8080/"
        },
        "id": "WtJUtgUyL2m9",
        "outputId": "2b9d65ab-7eb1-4f49-e824-909f70897c0f"
      },
      "execution_count": 113,
      "outputs": [
        {
          "output_type": "stream",
          "name": "stderr",
          "text": [
            "/usr/local/lib/python3.10/dist-packages/torchvision/models/_utils.py:208: UserWarning: The parameter 'pretrained' is deprecated since 0.13 and may be removed in the future, please use 'weights' instead.\n",
            "  warnings.warn(\n",
            "/usr/local/lib/python3.10/dist-packages/torchvision/models/_utils.py:223: UserWarning: Arguments other than a weight enum or `None` for 'weights' are deprecated since 0.13 and may be removed in the future. The current behavior is equivalent to passing `weights=ResNet18_Weights.IMAGENET1K_V1`. You can also use `weights=ResNet18_Weights.DEFAULT` to get the most up-to-date weights.\n",
            "  warnings.warn(msg)\n"
          ]
        }
      ]
    },
    {
      "cell_type": "code",
      "source": [
        "# Early stopping class\n",
        "class EarlyStopping:\n",
        "    def __init__(self, patience=5, min_delta=0):\n",
        "        self.patience = patience\n",
        "        self.min_delta = min_delta\n",
        "        self.counter = 0\n",
        "        self.best_loss = None\n",
        "        self.early_stop = False\n",
        "\n",
        "    def __call__(self, val_loss):\n",
        "        if self.best_loss is None:\n",
        "            self.best_loss = val_loss\n",
        "        elif val_loss > self.best_loss - self.min_delta:\n",
        "            self.counter += 1\n",
        "            if self.counter >= self.patience:\n",
        "                self.early_stop = True\n",
        "        else:\n",
        "            self.best_loss = val_loss\n",
        "            self.counter = 0\n",
        "\n",
        "early_stopping = EarlyStopping(patience=5, min_delta=0.001)"
      ],
      "metadata": {
        "id": "mDpIcowPOsF7"
      },
      "execution_count": 114,
      "outputs": []
    },
    {
      "cell_type": "code",
      "source": [
        "# Training loop\n",
        "train_losses = []\n",
        "val_losses = []\n",
        "\n",
        "for epoch in range(num_epochs):\n",
        "    model.train()\n",
        "    running_loss = 0.0\n",
        "    for images, pixel_sizes, targets in train_loader:\n",
        "        images, pixel_sizes, targets = images.to(device), pixel_sizes.to(device), targets.to(device)\n",
        "        optimizer.zero_grad()\n",
        "        outputs = model(images, pixel_sizes)\n",
        "        loss = criterion(outputs, targets.unsqueeze(1))\n",
        "        loss.backward()\n",
        "        optimizer.step()\n",
        "        running_loss += loss.item()\n",
        "\n",
        "    train_loss = running_loss / len(train_loader)\n",
        "    train_losses.append(train_loss)\n",
        "    print(f\"Epoch {epoch+1}/{num_epochs}, Training Loss: {train_loss}\")\n",
        "\n",
        "    model.eval()\n",
        "    val_loss = 0.0\n",
        "    with torch.no_grad():\n",
        "        for images, pixel_sizes, targets in val_loader:\n",
        "            images, pixel_sizes, targets = images.to(device), pixel_sizes.to(device), targets.to(device)\n",
        "            outputs = model(images, pixel_sizes)\n",
        "            loss = criterion(outputs, targets.unsqueeze(1))\n",
        "            val_loss += loss.item()\n",
        "\n",
        "    val_loss /= len(val_loader)\n",
        "    val_losses.append(val_loss)\n",
        "    print(f\"Epoch {epoch+1}/{num_epochs}, Validation Loss: {val_loss}\")\n",
        "\n",
        "    scheduler.step(val_loss)\n",
        "    early_stopping(val_loss)\n",
        "    if early_stopping.early_stop:\n",
        "        print(\"Early stopping\")\n",
        "        break\n",
        "\n",
        "# Plot the training and validation loss\n",
        "plt.figure(figsize=(10, 5))\n",
        "plt.plot(range(1, len(train_losses) + 1), train_losses, label='Training Loss')\n",
        "plt.plot(range(1, len(val_losses) + 1), val_losses, label='Validation Loss')\n",
        "plt.xlabel('Epochs')\n",
        "plt.ylabel('Loss')\n",
        "plt.title('Training and Validation Loss Over Epochs')\n",
        "plt.legend()\n",
        "plt.show()"
      ],
      "metadata": {
        "colab": {
          "base_uri": "https://localhost:8080/",
          "height": 765
        },
        "id": "SZIGfXb6RYXS",
        "outputId": "fdec59ed-12f2-459e-fca7-3bd89a595fa8"
      },
      "execution_count": 115,
      "outputs": [
        {
          "output_type": "stream",
          "name": "stdout",
          "text": [
            "Epoch 1/8, Training Loss: 0.020934414094048507\n",
            "Epoch 1/8, Validation Loss: 0.005823600571602583\n",
            "Epoch 2/8, Training Loss: 0.0062809423554392755\n",
            "Epoch 2/8, Validation Loss: 0.007898037360670665\n",
            "Epoch 3/8, Training Loss: 0.004571028419326399\n",
            "Epoch 3/8, Validation Loss: 0.0038498753419844434\n",
            "Epoch 4/8, Training Loss: 0.00394901392299238\n",
            "Epoch 4/8, Validation Loss: 0.004164431826211512\n",
            "Epoch 5/8, Training Loss: 0.0030479625645490737\n",
            "Epoch 5/8, Validation Loss: 0.005033908799911539\n",
            "Epoch 6/8, Training Loss: 0.0025404938570088836\n",
            "Epoch 6/8, Validation Loss: 0.001400123709269489\n",
            "Epoch 7/8, Training Loss: 0.0019710787932908547\n",
            "Epoch 7/8, Validation Loss: 0.0015219474153127521\n",
            "Epoch 8/8, Training Loss: 0.0019426000463367205\n",
            "Epoch 8/8, Validation Loss: 0.0016708951491940145\n"
          ]
        },
        {
          "output_type": "display_data",
          "data": {
            "text/plain": [
              "<Figure size 1000x500 with 1 Axes>"
            ],
            "image/png": "[encoded data removed]"
          },
          "metadata": {}
        }
      ]
    },
    {
      "cell_type": "code",
      "source": [
        "# # Function to predict head circumference\n",
        "# def predict_head_circumference(image_path, pixel_size, model, min_hc, max_hc):\n",
        "#     transform = transforms.Compose([\n",
        "#         transforms.Resize((224, 224)),\n",
        "#         transforms.ToTensor(),\n",
        "#         transforms.Normalize(mean=[0.485, 0.456, 0.406], std=[0.229, 0.224, 0.225])\n",
        "#     ])\n",
        "#     image = Image.open(image_path).convert('RGB')\n",
        "#     image_tensor = transform(image).unsqueeze(0)\n",
        "#     pixel_size_tensor = torch.tensor([pixel_size]).float().view(1, 1)\n",
        "#     with torch.no_grad():\n",
        "#         output = model(image_tensor.to(device), pixel_size_tensor.to(device))\n",
        "#     predicted_normalized_hc = output.item()\n",
        "#     predicted_hc = predicted_normalized_hc * (max_hc - min_hc) + min_hc\n",
        "#     return predicted_hc\n"
      ],
      "metadata": {
        "id": "xQnt4XNtSd-7"
      },
      "execution_count": 116,
      "outputs": []
    },
    {
      "cell_type": "code",
      "source": [
        "def predict_head_circumference(image_path, pixel_size, model, min_hc, max_hc):\n",
        "    try:\n",
        "        transform = transforms.Compose([\n",
        "            transforms.Resize((224, 224)),\n",
        "            transforms.ToTensor(),\n",
        "            transforms.Normalize(mean=[0.485, 0.456, 0.406], std=[0.229, 0.224, 0.225])\n",
        "        ])\n",
        "        image = Image.open(image_path).convert('RGB')\n",
        "        image_tensor = transform(image).unsqueeze(0).to(device)\n",
        "        pixel_size_tensor = torch.tensor([pixel_size], dtype=torch.float32).view(1, 1).to(device)\n",
        "\n",
        "        with torch.no_grad():\n",
        "            output = model(image_tensor, pixel_size_tensor)\n",
        "\n",
        "        predicted_normalized_hc = output.item()\n",
        "        predicted_hc = predicted_normalized_hc * (max_hc - min_hc) + min_hc\n",
        "\n",
        "        return predicted_hc\n",
        "\n",
        "    except FileNotFoundError:\n",
        "        print(f\"Error: File {image_path} not found.\")\n",
        "        return None\n",
        "    except Exception as e:\n",
        "        print(f\"An error occurred: {e}\")\n",
        "        return None\n"
      ],
      "metadata": {
        "id": "PBuXEPQ4QOCQ"
      },
      "execution_count": 117,
      "outputs": []
    },
    {
      "cell_type": "code",
      "source": [
        "# Ensure the min_hc and max_hc are defined\n",
        "dataset = pd.read_csv('/content/drive/MyDrive/FinalProject/training_set_pixel_size_and_HC_no_index.csv')\n",
        "min_hc = dataset['head circumference (mm)'].min()\n",
        "max_hc = dataset['head circumference (mm)'].max()\n",
        "# min_hc = min(train_csv_df['head circumference (mm)'].min(), test_csv_df['head circumference (mm)'].min())\n",
        "# max_hc = max(train_csv_df['head circumference (mm)'].max(), test_csv_df['head circumference (mm)'].max())\n",
        "test_csv_df = pd.read_csv(test_csv)\n",
        "num_images_to_test = len(pd.read_csv(test_csv))\n",
        "print(\"Number of images to test:\", num_images_to_test)\n",
        "indices = range(num_images_to_test)  # Generate a sequence of indices from 0 to num_images_to_test-1\n",
        ""
      ],
      "metadata": {
        "id": "lwJnNWDxQn9R",
        "colab": {
          "base_uri": "https://localhost:8080/"
        },
        "outputId": "d26589ec-2575-4f0c-c2cf-1fc482fba31c"
      },
      "execution_count": 118,
      "outputs": [
        {
          "output_type": "stream",
          "name": "stdout",
          "text": [
            "Number of images to test: 48\n"
          ]
        }
      ]
    },
    {
      "cell_type": "code",
      "source": [
        "\n",
        "\n",
        "import os\n",
        "import numpy as np\n",
        "import pandas as pd\n",
        "import matplotlib.pyplot as plt\n",
        "from sklearn.metrics import mean_squared_error, mean_absolute_error, r2_score\n",
        "\n",
        "print(\"train data = \", train_csv)\n",
        "print(\"test data = \", test_csv)\n",
        "print(\"batch size = \", batch_size)\n",
        "print(\"num_epochs = \", num_epochs)\n",
        "print(\"step_size = \", step_size)\n",
        "\n",
        "# Initialize lists to store true and predicted values\n",
        "y_true = []\n",
        "y_pred = []\n",
        "results = []\n",
        "absolute_errors = []\n",
        "percentage_errors = []\n",
        "counter = 0\n",
        "percentage_error_counter_5 = 0  # Counter for errors less than 5%\n",
        "percentage_error_counter_10 = 0  # Counter for errors less than 10%\n",
        "threshold_param = 0.05  # Threshold for the ground truth circumference\n",
        "\n",
        "# Variables to track the maximum absolute error and corresponding details\n",
        "max_absolute_error = -1\n",
        "max_error_image = \"\"\n",
        "max_error_predicted = -1\n",
        "max_error_ground_truth = -1\n",
        "\n",
        "# Loop through the selected images\n",
        "for idx in indices:\n",
        "    image_name = test_csv_df.iloc[idx, 0]\n",
        "    image_path = os.path.join(\"/content/drive/MyDrive/FinalProject/Dataset/training_set/training_set/\", image_name)\n",
        "    ground_truth_circumference = test_csv_df.iloc[idx, 2]  # Assuming the third column contains the head circumference labels\n",
        "    pixel_size = test_csv_df.iloc[idx, 1]  # Assuming the second column contains the pixel size\n",
        "\n",
        "    # Call the function to predict head circumference from the image\n",
        "    predicted_circumference = predict_head_circumference(image_path, pixel_size, model, min_hc, max_hc)\n",
        "\n",
        "    # Store the true and predicted values\n",
        "    y_true.append(ground_truth_circumference)\n",
        "    y_pred.append(predicted_circumference)\n",
        "\n",
        "    # Calculate the absolute error\n",
        "    absolute_error = abs(predicted_circumference - ground_truth_circumference)\n",
        "    absolute_errors.append(absolute_error)\n",
        "\n",
        "    # Calculate the percentage error\n",
        "    percentage_error = (absolute_error / ground_truth_circumference) * 100\n",
        "    percentage_errors.append(percentage_error)\n",
        "\n",
        "    # Calculate the 5% and 10% thresholds for the ground truth circumference\n",
        "    threshold_5 = 0.05 * ground_truth_circumference\n",
        "    threshold_10 = 0.10 * ground_truth_circumference\n",
        "\n",
        "    # Check if the absolute error is less than the 5% and 10% thresholds\n",
        "    if absolute_error < threshold_5:\n",
        "        percentage_error_counter_5 += 1\n",
        "    if absolute_error < threshold_10:\n",
        "        percentage_error_counter_10 += 1\n",
        "\n",
        "    # Track the maximum absolute error\n",
        "    if absolute_error > max_absolute_error:\n",
        "        max_absolute_error = absolute_error\n",
        "        max_error_image = image_path\n",
        "        max_error_predicted = predicted_circumference\n",
        "        max_error_ground_truth = ground_truth_circumference\n",
        "\n",
        "    # Create the result string\n",
        "    result_string = (f\"Image: {image_path}\\n\"\n",
        "                     f\"Predicted Head Circumference: {predicted_circumference}\\n\"\n",
        "                     f\"Ground Truth Head Circumference: {ground_truth_circumference}\\n\"\n",
        "                     f\"Pixel Size: {pixel_size}\\n\"\n",
        "                     f\"Absolute Error: {absolute_error}\\n\"\n",
        "                     f\"Percentage Error: {percentage_error}%\\n\"\n",
        "                     \"****************************\\n\")\n",
        "\n",
        "    # Append the result to the list\n",
        "    results.append([image_name, result_string, absolute_error])\n",
        "\n",
        "# Convert the results to a DataFrame and save to a CSV file\n",
        "results_df = pd.DataFrame(results, columns=['Image', 'Result', 'Absolute Error'])\n",
        "results_csv_path = \"/content/drive/MyDrive/FinalProject/results_30.7.csv\"\n",
        "results_df.to_csv(results_csv_path, index=False)\n",
        "\n",
        "# Print summary\n",
        "print(f\"Results saved to {results_csv_path}\")\n",
        "print(f\"Total Images with Error < 5% of Ground Truth: {percentage_error_counter_5}\")\n",
        "print(f\"Percentage: {percentage_error_counter_5 / num_images_to_test * 100:.2f}%\")\n",
        "print(f\"Total Images with Error < 10% of Ground Truth: {percentage_error_counter_10}\")\n",
        "print(f\"Percentage: {percentage_error_counter_10 / num_images_to_test * 100:.2f}%\")\n",
        "\n",
        "# Print the image with the biggest absolute error\n",
        "print(\"Image with the biggest absolute error:\")\n",
        "print(f\"Image: {max_error_image}\")\n",
        "print(f\"Predicted Head Circumference: {max_error_predicted}\")\n",
        "print(f\"Ground Truth Head Circumference: {max_error_ground_truth}\")\n",
        "print(f\"Absolute Error: {max_absolute_error}\")\n",
        "\n",
        "# Calculate RMSE, MAE, and R²\n",
        "mse = mean_squared_error(y_true, y_pred)\n",
        "rmse = np.sqrt(mse)\n",
        "mae = mean_absolute_error(y_true, y_pred)\n",
        "r2 = r2_score(y_true, y_pred)\n",
        "\n",
        "print(f\"Mean Squared Error: {mse}\")\n",
        "print(f\"Root Mean Squared Error: {rmse}\")\n",
        "print(f\"Mean Absolute Error: {mae}\")\n",
        "print(f\"R² Score: {r2}\")\n",
        "\n",
        "# Plot actual vs. predicted values\n",
        "plt.scatter(y_true, y_pred)\n",
        "plt.plot([min(y_true), max(y_true)], [min(y_true), max(y_true)], 'k--', lw=2)\n",
        "plt.xlabel('Actual Head Circumference')\n",
        "plt.ylabel('Predicted Head Circumference')\n",
        "plt.title('Predicted vs. Actual Head Circumference')\n",
        "plt.show()\n"
      ],
      "metadata": {
        "id": "T7qMdilwQhmP",
        "outputId": "a01e781b-af56-4fad-8f8d-d7b18ea9cf97",
        "colab": {
          "base_uri": "https://localhost:8080/",
          "height": 802
        }
      },
      "execution_count": 119,
      "outputs": [
        {
          "output_type": "stream",
          "name": "stdout",
          "text": [
            "train data =  /content/drive/MyDrive/FinalProject/train_data_filtered_95.csv\n",
            "test data =  /content/drive/MyDrive/FinalProject/test_data_filtered_5.csv\n",
            "batch size =  8\n",
            "num_epochs =  8\n",
            "step_size =  5\n",
            "Results saved to /content/drive/MyDrive/FinalProject/results_30.7.csv\n",
            "Total Images with Error < 5% of Ground Truth: 22\n",
            "Percentage: 45.83%\n",
            "Total Images with Error < 10% of Ground Truth: 33\n",
            "Percentage: 68.75%\n",
            "Image with the biggest absolute error:\n",
            "Image: /content/drive/MyDrive/FinalProject/Dataset/training_set/training_set/282_HC.png\n",
            "Predicted Head Circumference: 198.6256819486618\n",
            "Ground Truth Head Circumference: 163.1\n",
            "Absolute Error: 35.5256819486618\n",
            "Mean Squared Error: 180.12186752322884\n",
            "Root Mean Squared Error: 13.42094883095934\n",
            "Mean Absolute Error: 10.78003082965966\n",
            "R² Score: 0.9457067132125464\n"
          ]
        },
        {
          "output_type": "display_data",
          "data": {
            "text/plain": [
              "<Figure size 640x480 with 1 Axes>"
            ],
            "image/png": "[encoded data removed]"
          },
          "metadata": {}
        }
      ]
    },
    {
      "cell_type": "code",
      "source": [
        "# import os\n",
        "# import numpy as np\n",
        "# import pandas as pd\n",
        "# import matplotlib.pyplot as plt\n",
        "# from sklearn.metrics import mean_squared_error, mean_absolute_error, r2_score\n",
        "\n",
        "# print(\"Train data: \", train_csv)\n",
        "# print(\"Test data: \", test_csv)\n",
        "# print(\"Batch size: \", batch_size)\n",
        "# print(\"Number of epochs: \", num_epochs)\n",
        "# print(\"Step size: \", step_size)\n",
        "\n",
        "# # Ensure the model is in evaluation mode\n",
        "# model.eval()\n",
        "\n",
        "# # Initialize lists to store true and predicted values\n",
        "# y_true = []\n",
        "# y_pred = []\n",
        "# results = []\n",
        "\n",
        "# # Variables for error tracking\n",
        "# max_absolute_error = -1\n",
        "# max_error_image = \"\"\n",
        "# max_error_predicted = -1\n",
        "# max_error_ground_truth = -1\n",
        "# percentage_error_counter_5 = 0\n",
        "# percentage_error_counter_10 = 0\n",
        "\n",
        "# # Define threshold parameters\n",
        "# threshold_param = 0.05\n",
        "\n",
        "# # Evaluation loop\n",
        "# with torch.no_grad():\n",
        "#     for data in test_loader:\n",
        "#         images = data['image'].to(device)\n",
        "#         pixel_sizes = data['pixel_size'].float().to(device)\n",
        "#         targets = data['hc'].float().to(device)\n",
        "\n",
        "#         # Predict using the model\n",
        "#         outputs = model(images, pixel_sizes)\n",
        "#         outputs = outputs.cpu().numpy().flatten()\n",
        "\n",
        "#         # Denormalize the predicted and target head circumferences\n",
        "#         denorm_outputs = outputs * (max_hc - min_hc) + min_hc\n",
        "#         denorm_targets = targets.cpu().numpy() * (max_hc - min_hc) + min_hc\n",
        "\n",
        "#         y_true.extend(denorm_targets)\n",
        "#         y_pred.extend(denorm_outputs)\n",
        "\n",
        "#         for i in range(len(denorm_outputs)):\n",
        "#             image_name = data['image'][i]  # Update with correct image name extraction if necessary\n",
        "#             predicted_circumference = denorm_outputs[i]\n",
        "#             ground_truth_circumference = denorm_targets[i]\n",
        "#             absolute_error = abs(predicted_circumference - ground_truth_circumference)\n",
        "#             percentage_error = (absolute_error / ground_truth_circumference) * 100\n",
        "\n",
        "#             if absolute_error < threshold_param * ground_truth_circumference:\n",
        "#                 percentage_error_counter_5 += 1\n",
        "#             if absolute_error < 2 * threshold_param * ground_truth_circumference:\n",
        "#                 percentage_error_counter_10 += 1\n",
        "\n",
        "#             if absolute_error > max_absolute_error:\n",
        "#                 max_absolute_error = absolute_error\n",
        "#                 max_error_image = image_name\n",
        "#                 max_error_predicted = predicted_circumference\n",
        "#                 max_error_ground_truth = ground_truth_circumference\n",
        "\n",
        "#             results.append({\n",
        "#                 'Image': image_name,\n",
        "#                 'Predicted HC': predicted_circumference,\n",
        "#                 'Ground Truth HC': ground_truth_circumference,\n",
        "#                 'Pixel Size': data['pixel_size'][i].item(),\n",
        "#                 'Absolute Error': absolute_error,\n",
        "#                 'Percentage Error': percentage_error\n",
        "#             })\n",
        "\n",
        "# # Save the results to a CSV file\n",
        "# results_df = pd.DataFrame(results)\n",
        "# results_csv_path = \"/content/drive/MyDrive/FinalProject/results_28.7.csv\"\n",
        "# results_df.to_csv(results_csv_path, index=False)\n",
        "# print(f\"Results saved to {results_csv_path}\")\n",
        "\n",
        "# # Print summary of results\n",
        "# print(f\"Total Images with Error < 5% of Ground Truth: {percentage_error_counter_5}\")\n",
        "# print(f\"Percentage: {percentage_error_counter_5 / len(y_true) * 100:.2f}%\")\n",
        "# print(f\"Total Images with Error < 10% of Ground Truth: {percentage_error_counter_10}\")\n",
        "# print(f\"Percentage: {percentage_error_counter_10 / len(y_true) * 100:.2f}%\")\n",
        "\n",
        "# # Print the image with the biggest absolute error\n",
        "# print(\"Image with the biggest absolute error:\")\n",
        "# print(f\"Image: {max_error_image}\")\n",
        "# print(f\"Predicted Head Circumference: {max_error_predicted}\")\n",
        "# print(f\"Ground Truth Head Circumference: {max_error_ground_truth}\")\n",
        "# print(f\"Absolute Error: {max_absolute_error}\")\n",
        "\n",
        "# # Calculate and print evaluation metrics\n",
        "# mae = mean_absolute_error(y_true, y_pred)\n",
        "# rmse = np.sqrt(mean_squared_error(y_true, y_pred))\n",
        "# r2 = r2_score(y_true, y_pred)\n",
        "\n",
        "# print(f\"Mean Absolute Error (MAE): {mae}\")\n",
        "# print(f\"Root Mean Squared Error (RMSE): {rmse}\")\n",
        "# print(f\"R² Score: {r2}\")\n",
        "\n",
        "# # Plot actual vs. predicted values\n",
        "# plt.scatter(y_true, y_pred)\n",
        "# plt.plot([min(y_true), max(y_true)], [min(y_true), max(y_true)], 'k--', lw=2)\n",
        "# plt.xlabel('Actual Head Circumference')\n",
        "# plt.ylabel('Predicted Head Circumference')\n",
        "# plt.title('Predicted vs. Actual Head Circumference')\n",
        "# plt.show()\n"
      ],
      "metadata": {
        "id": "2C2cJ0C0nCfq"
      },
      "execution_count": 120,
      "outputs": []
    },
    {
      "cell_type": "code",
      "source": [
        "# # Parameters (update these based on your dataset)\n",
        "# test_csv_df = pd.read_csv(test_csv)\n",
        "# min_hc = test_csv_df['head circumference (mm)'].min()\n",
        "# max_hc = test_csv_df['head circumference (mm)'].max()\n",
        "\n",
        "# # Predict head circumference for the test dataset\n",
        "# y_true = []\n",
        "# y_pred = []\n",
        "# for index, row in test_csv_df.iterrows():\n",
        "#     image_path = row['image']\n",
        "#     pixel_size = row['pixel_size']\n",
        "#     true_hc = row['hc']\n",
        "#     y_true.append(true_hc)\n",
        "\n",
        "#     predicted_hc = predict_head_circumference(image_path, pixel_size, model, min_hc, max_hc)\n",
        "#     y_pred.append(predicted_hc)\n",
        "\n",
        "# # Calculate evaluation metrics\n",
        "# mae = mean_absolute_error(y_true, y_pred)\n",
        "# rmse = np.sqrt(mean_squared_error(y_true, y_pred))\n",
        "# r2 = r2_score(y_true, y_pred)\n",
        "\n",
        "# # Print evaluation results\n",
        "# print(f\"Mean Absolute Error (MAE): {mae}\")\n",
        "# print(f\"Root Mean Squared Error (RMSE): {rmse}\")\n",
        "# print(f\"R² Score: {r2}\")\n",
        "\n",
        "# # Visual inspection\n",
        "# plt.figure(figsize=(10, 5))\n",
        "# plt.scatter(y_true, y_pred, alpha=0.7)\n",
        "# plt.plot([min(y_true), max(y_true)], [min(y_true), max(y_true)], 'r--')  # Ideal fit line\n",
        "# plt.xlabel('Actual Head Circumference (mm)')\n",
        "# plt.ylabel('Predicted Head Circumference (mm)')\n",
        "# plt.title('Predicted vs. Actual Head Circumference')\n",
        "# plt.show()"
      ],
      "metadata": {
        "id": "icJklJMqRicc"
      },
      "execution_count": 121,
      "outputs": []
    },
    {
      "cell_type": "code",
      "source": [
        "# min_hc = dataset['head circumference (mm)'].min()\n",
        "# max_hc = dataset['head circumference (mm)'].max()\n",
        "# mae, rmse, r2 = evaluate_model(model, test_loader, device, min_hc, max_hc)"
      ],
      "metadata": {
        "id": "6L2seZrGnD2v"
      },
      "execution_count": 122,
      "outputs": []
    }
  ]
}