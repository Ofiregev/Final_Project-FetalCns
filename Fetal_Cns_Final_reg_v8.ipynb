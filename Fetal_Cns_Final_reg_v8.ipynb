{
  "nbformat": 4,
  "nbformat_minor": 0,
  "metadata": {
    "colab": {
      "provenance": [],
      "gpuType": "T4",
      "include_colab_link": true
    },
    "kernelspec": {
      "name": "python3",
      "display_name": "Python 3"
    },
    "language_info": {
      "name": "python"
    },
    "accelerator": "GPU"
  },
  "cells": [
    {
      "cell_type": "markdown",
      "metadata": {
        "id": "view-in-github",
        "colab_type": "text"
      },
      "source": [
        "<a href=\"https://colab.research.google.com/github/Ofiregev/Final_Project-FetalCns/blob/main/Fetal_Cns_Final_reg_v8.ipynb\" target=\"_parent\"><img src=\"https://colab.research.google.com/assets/colab-badge.svg\" alt=\"Open In Colab\"/></a>"
      ]
    },
    {
      "cell_type": "code",
      "source": [
        "from google.colab import drive\n",
        "import torch\n",
        "import torch.nn as nn\n",
        "import torch.optim as optim\n",
        "import torchvision.transforms as transforms\n",
        "from torch.utils.data import DataLoader, Dataset, random_split\n",
        "from torchvision import models\n",
        "from PIL import Image\n",
        "import os\n",
        "import pandas as pd\n",
        "import numpy as np\n",
        "import matplotlib.pyplot as plt\n",
        "from sklearn.model_selection import train_test_split\n",
        "from sklearn.metrics import mean_squared_error\n",
        "from torch.utils.data import DataLoader, Dataset\n",
        "from torch.optim.lr_scheduler import StepLR, ReduceLROnPlateau\n",
        "import random\n",
        "from sklearn.metrics import mean_squared_error, mean_absolute_error, r2_score"
      ],
      "metadata": {
        "id": "bQIu-pWDLe35"
      },
      "execution_count": 1,
      "outputs": []
    },
    {
      "cell_type": "code",
      "source": [
        "# Mount Google Drive\n",
        "drive.mount('/content/drive')\n",
        "print(\"Google Drive mounted successfully.\")"
      ],
      "metadata": {
        "colab": {
          "base_uri": "https://localhost:8080/"
        },
        "id": "husjIpqXLfr6",
        "outputId": "93c6ea6e-1845-4771-a7db-a73a9fd05f5a"
      },
      "execution_count": 2,
      "outputs": [
        {
          "output_type": "stream",
          "name": "stdout",
          "text": [
            "Mounted at /content/drive\n",
            "Google Drive mounted successfully.\n"
          ]
        }
      ]
    },
    {
      "cell_type": "code",
      "source": [
        "# Set random seeds for reproducibility\n",
        "seed = 42\n",
        "torch.manual_seed(seed)\n",
        "torch.cuda.manual_seed(seed)\n",
        "torch.cuda.manual_seed_all(seed)  # if using multi-GPU\n",
        "np.random.seed(seed)\n",
        "random.seed(seed)\n",
        "torch.backends.cudnn.deterministic = True\n",
        "torch.backends.cudnn.benchmark = False"
      ],
      "metadata": {
        "id": "eAFupKoGIpI3"
      },
      "execution_count": 3,
      "outputs": []
    },
    {
      "cell_type": "code",
      "source": [
        "\n",
        "# Determine the available hardware (CPU or GPU) and set the PyTorch device accordingly\n",
        "device = torch.device(\"cuda\" if torch.cuda.is_available() else \"cpu\")\n",
        "print(f\"Using device: {device}\")\n"
      ],
      "metadata": {
        "colab": {
          "base_uri": "https://localhost:8080/"
        },
        "id": "Cz2MTh4NLfu8",
        "outputId": "b37f50e9-6566-4a08-f074-64c37765e72b"
      },
      "execution_count": 4,
      "outputs": [
        {
          "output_type": "stream",
          "name": "stdout",
          "text": [
            "Using device: cuda\n"
          ]
        }
      ]
    },
    {
      "cell_type": "code",
      "source": [
        "# Custom Dataset Class\n",
        "class CustomDataset(Dataset):\n",
        "    def __init__(self, csv_file, root_dir, transform=None):\n",
        "        self.data_frame = pd.read_csv(csv_file)\n",
        "        self.root_dir = root_dir\n",
        "        self.transform = transform\n",
        "\n",
        "    def __len__(self):\n",
        "        return len(self.data_frame)\n",
        "\n",
        "    def __getitem__(self, idx):\n",
        "        img_name = os.path.join(self.root_dir, self.data_frame.iloc[idx, 0])\n",
        "        image = Image.open(img_name).convert('RGB')\n",
        "        if self.transform:\n",
        "            image = self.transform(image)\n",
        "        pixel_size = torch.tensor(self.data_frame.iloc[idx, 1], dtype=torch.float32)\n",
        "        hc = torch.tensor(self.data_frame.iloc[idx, 3], dtype=torch.float32)\n",
        "        return image, pixel_size, hc"
      ],
      "metadata": {
        "id": "47H7bdAuLvJN"
      },
      "execution_count": 5,
      "outputs": []
    },
    {
      "cell_type": "code",
      "source": [
        "# Define transformations without cropping\n",
        "transform = transforms.Compose([\n",
        "    transforms.RandomHorizontalFlip(p=0.5),\n",
        "    transforms.RandomRotation(degrees=10),\n",
        "    transforms.ColorJitter(brightness=0.2, contrast=0.2, saturation=0.2, hue=0.1),\n",
        "    transforms.Resize((224, 224)),  # Instead of cropping, just resize the image\n",
        "    transforms.ToTensor(),\n",
        "    transforms.Normalize(mean=[0.485, 0.456, 0.406], std=[0.229, 0.224, 0.225])\n",
        "])\n"
      ],
      "metadata": {
        "id": "yk6vrkvnLw_z"
      },
      "execution_count": 6,
      "outputs": []
    },
    {
      "cell_type": "code",
      "source": [
        "# Hyperparameters\n",
        "batch_size = 8\n",
        "num_epochs = 8\n",
        "step_size = 5\n",
        "lr = 0.001"
      ],
      "metadata": {
        "id": "1o8Tjmq3WKkD"
      },
      "execution_count": 33,
      "outputs": []
    },
    {
      "cell_type": "code",
      "source": [
        "# File paths\n",
        "root_dir = \"/content/drive/MyDrive/FinalProject/Dataset/training_set/training_set/\"\n",
        "train_csv = '/content/drive/MyDrive/FinalProject/train_data_filtered_90.csv'\n",
        "val_csv = '/content/drive/MyDrive/FinalProject/val_data_filtered_5.csv'\n",
        "test_csv = '/content/drive/MyDrive/FinalProject/test_data_filtered_5.csv'"
      ],
      "metadata": {
        "id": "fz1ZEVS7PXUn"
      },
      "execution_count": 34,
      "outputs": []
    },
    {
      "cell_type": "code",
      "source": [
        "# Load datasets\n",
        "train_dataset = CustomDataset(csv_file=train_csv, root_dir=root_dir, transform=transform)\n",
        "val_dataset = CustomDataset(csv_file=val_csv, root_dir=root_dir, transform=transform)\n",
        "test_dataset = CustomDataset(csv_file=test_csv, root_dir=root_dir, transform=transform)\n"
      ],
      "metadata": {
        "id": "NHmyQYMlPdLZ"
      },
      "execution_count": 35,
      "outputs": []
    },
    {
      "cell_type": "code",
      "source": [
        "# Create DataLoaders\n",
        "train_loader = DataLoader(train_dataset, batch_size=batch_size, shuffle=True, pin_memory=True)\n",
        "val_loader = DataLoader(val_dataset, batch_size=batch_size, shuffle=False,pin_memory=True)\n",
        "test_loader = DataLoader(test_dataset, batch_size=batch_size, shuffle=False,pin_memory=True)"
      ],
      "metadata": {
        "id": "OV3zeoCAPdrs"
      },
      "execution_count": 36,
      "outputs": []
    },
    {
      "cell_type": "code",
      "source": [
        "# # Define the model\n",
        "class CNNRegression(nn.Module):\n",
        "    def __init__(self):\n",
        "        super(CNNRegression, self).__init__()\n",
        "        self.cnn = models.resnet18(pretrained=True)\n",
        "        cnn_out_features = self.cnn.fc.in_features\n",
        "        self.cnn.fc = nn.Identity()\n",
        "        self.fc1 = nn.Linear(cnn_out_features + 1, 128)\n",
        "        self.fc2 = nn.Linear(128, 1)\n",
        "        self.dropout = nn.Dropout(0.5)\n",
        "\n",
        "    def forward(self, image, pixel_size):\n",
        "        x1 = self.cnn(image)\n",
        "        x2 = pixel_size.view(-1, 1)\n",
        "        x = torch.cat((x1, x2), dim=1)\n",
        "        x = self.fc1(x)\n",
        "        x = nn.ReLU()(x)\n",
        "        x = self.fc2(x)\n",
        "        return x"
      ],
      "metadata": {
        "id": "r3GukRxEL094"
      },
      "execution_count": 37,
      "outputs": []
    },
    {
      "cell_type": "code",
      "source": [
        "# Initialize model, loss function, optimizer, and scheduler\n",
        "model = CNNRegression().to(device)\n",
        "criterion = nn.MSELoss()\n",
        "# criterion = nn.SmoothL1Loss()\n",
        "optimizer = optim.Adam(model.parameters(), lr=lr)\n",
        "scheduler = StepLR(optimizer, step_size=step_size, gamma=0.1)\n",
        "# scheduler = ReduceLROnPlateau(optimizer, mode='min', factor=0.1, patience=5, min_lr=1e-6)\n"
      ],
      "metadata": {
        "colab": {
          "base_uri": "https://localhost:8080/"
        },
        "id": "WtJUtgUyL2m9",
        "outputId": "00240b7a-6106-4917-e751-77e69009feb3"
      },
      "execution_count": 38,
      "outputs": [
        {
          "output_type": "stream",
          "name": "stderr",
          "text": [
            "/usr/local/lib/python3.10/dist-packages/torchvision/models/_utils.py:208: UserWarning: The parameter 'pretrained' is deprecated since 0.13 and may be removed in the future, please use 'weights' instead.\n",
            "  warnings.warn(\n",
            "/usr/local/lib/python3.10/dist-packages/torchvision/models/_utils.py:223: UserWarning: Arguments other than a weight enum or `None` for 'weights' are deprecated since 0.13 and may be removed in the future. The current behavior is equivalent to passing `weights=ResNet18_Weights.IMAGENET1K_V1`. You can also use `weights=ResNet18_Weights.DEFAULT` to get the most up-to-date weights.\n",
            "  warnings.warn(msg)\n"
          ]
        }
      ]
    },
    {
      "cell_type": "code",
      "source": [
        "# Early stopping class\n",
        "class EarlyStopping:\n",
        "    def __init__(self, patience=5, min_delta=0):\n",
        "        self.patience = patience\n",
        "        self.min_delta = min_delta\n",
        "        self.counter = 0\n",
        "        self.best_loss = None\n",
        "        self.early_stop = False\n",
        "\n",
        "    def __call__(self, val_loss):\n",
        "        if self.best_loss is None:\n",
        "            self.best_loss = val_loss\n",
        "        elif val_loss > self.best_loss - self.min_delta:\n",
        "            self.counter += 1\n",
        "            if self.counter >= self.patience:\n",
        "                self.early_stop = True\n",
        "        else:\n",
        "            self.best_loss = val_loss\n",
        "            self.counter = 0\n",
        "\n",
        "early_stopping = EarlyStopping(patience=5, min_delta=0.001)"
      ],
      "metadata": {
        "id": "mDpIcowPOsF7"
      },
      "execution_count": 39,
      "outputs": []
    },
    {
      "cell_type": "code",
      "source": [
        "# Training loop\n",
        "train_losses = []\n",
        "val_losses = []\n",
        "\n",
        "for epoch in range(num_epochs):\n",
        "    model.train()\n",
        "    running_loss = 0.0\n",
        "    for images, pixel_sizes, targets in train_loader:\n",
        "        images, pixel_sizes, targets = images.to(device), pixel_sizes.to(device), targets.to(device)\n",
        "        optimizer.zero_grad()\n",
        "        outputs = model(images, pixel_sizes)\n",
        "        loss = criterion(outputs, targets.unsqueeze(1))\n",
        "        loss.backward()\n",
        "        optimizer.step()\n",
        "        running_loss += loss.item()\n",
        "\n",
        "    train_loss = running_loss / len(train_loader)\n",
        "    train_losses.append(train_loss)\n",
        "    print(f\"Epoch {epoch+1}/{num_epochs}, Training Loss: {train_loss}\")\n",
        "\n",
        "    model.eval()\n",
        "    val_loss = 0.0\n",
        "    with torch.no_grad():\n",
        "        for images, pixel_sizes, targets in val_loader:\n",
        "            images, pixel_sizes, targets = images.to(device), pixel_sizes.to(device), targets.to(device)\n",
        "            outputs = model(images, pixel_sizes)\n",
        "            loss = criterion(outputs, targets.unsqueeze(1))\n",
        "            val_loss += loss.item()\n",
        "\n",
        "    val_loss /= len(val_loader)\n",
        "    val_losses.append(val_loss)\n",
        "    print(f\"Epoch {epoch+1}/{num_epochs}, Validation Loss: {val_loss}\")\n",
        "\n",
        "    scheduler.step()\n",
        "    early_stopping(val_loss)\n",
        "    if early_stopping.early_stop:\n",
        "        print(\"Early stopping\")\n",
        "        break\n",
        "\n",
        "# Plot the training and validation loss\n",
        "plt.figure(figsize=(10, 5))\n",
        "plt.plot(range(1, len(train_losses) + 1), train_losses, label='Training Loss')\n",
        "plt.plot(range(1, len(val_losses) + 1), val_losses, label='Validation Loss')\n",
        "plt.xlabel('Epochs')\n",
        "plt.ylabel('Loss')\n",
        "plt.title('Training and Validation Loss Over Epochs')\n",
        "plt.legend()\n",
        "plt.show()"
      ],
      "metadata": {
        "colab": {
          "base_uri": "https://localhost:8080/",
          "height": 765
        },
        "id": "SZIGfXb6RYXS",
        "outputId": "87390ffa-7aea-436b-f5d7-063add4d0ddb"
      },
      "execution_count": 40,
      "outputs": [
        {
          "output_type": "stream",
          "name": "stdout",
          "text": [
            "Epoch 1/8, Training Loss: 0.03414678610382584\n",
            "Epoch 1/8, Validation Loss: 0.006046613212674856\n",
            "Epoch 2/8, Training Loss: 0.01057927233110417\n",
            "Epoch 2/8, Validation Loss: 0.005332442854220669\n",
            "Epoch 3/8, Training Loss: 0.010500319203074638\n",
            "Epoch 3/8, Validation Loss: 0.0038047521763170757\n",
            "Epoch 4/8, Training Loss: 0.006507426086338846\n",
            "Epoch 4/8, Validation Loss: 0.0036426285514608026\n",
            "Epoch 5/8, Training Loss: 0.005122878697263425\n",
            "Epoch 5/8, Validation Loss: 0.007097400492057204\n",
            "Epoch 6/8, Training Loss: 0.003483000275337303\n",
            "Epoch 6/8, Validation Loss: 0.003498426619141052\n",
            "Epoch 7/8, Training Loss: 0.0022614803959432744\n",
            "Epoch 7/8, Validation Loss: 0.0022814298378458866\n",
            "Epoch 8/8, Training Loss: 0.0023031541424864362\n",
            "Epoch 8/8, Validation Loss: 0.0020238199116041264\n"
          ]
        },
        {
          "output_type": "display_data",
          "data": {
            "text/plain": [
              "<Figure size 1000x500 with 1 Axes>"
            ],
            "image/png": "[encoded data removed]"
          },
          "metadata": {}
        }
      ]
    },
    {
      "cell_type": "code",
      "source": [
        "def predict_head_circumference(image_path, pixel_size, model, min_hc, max_hc):\n",
        "    try:\n",
        "        transform = transforms.Compose([\n",
        "            transforms.Resize((224, 224)),\n",
        "            transforms.ToTensor(),\n",
        "            transforms.Normalize(mean=[0.485, 0.456, 0.406], std=[0.229, 0.224, 0.225])\n",
        "        ])\n",
        "        image = Image.open(image_path).convert('RGB')\n",
        "        image_tensor = transform(image).unsqueeze(0).to(device)\n",
        "        pixel_size_tensor = torch.tensor([pixel_size], dtype=torch.float32).view(1, 1).to(device)\n",
        "\n",
        "        with torch.no_grad():\n",
        "            output = model(image_tensor, pixel_size_tensor)\n",
        "\n",
        "        predicted_normalized_hc = output.item()\n",
        "        predicted_hc = predicted_normalized_hc * (max_hc - min_hc) + min_hc\n",
        "\n",
        "        return predicted_hc\n",
        "\n",
        "    except FileNotFoundError:\n",
        "        print(f\"Error: File {image_path} not found.\")\n",
        "        return None\n",
        "    except Exception as e:\n",
        "        print(f\"An error occurred: {e}\")\n",
        "        return None\n"
      ],
      "metadata": {
        "id": "PBuXEPQ4QOCQ"
      },
      "execution_count": 41,
      "outputs": []
    },
    {
      "cell_type": "code",
      "source": [
        "# Ensure the min_hc and max_hc are defined\n",
        "dataset = pd.read_csv('/content/drive/MyDrive/FinalProject/training_set_pixel_size_and_HC_no_index.csv')\n",
        "min_hc = dataset['head circumference (mm)'].min()\n",
        "max_hc = dataset['head circumference (mm)'].max()\n",
        "test_csv_df = pd.read_csv(test_csv)\n",
        "num_images_to_test = len(pd.read_csv(test_csv))\n",
        "indices = range(num_images_to_test)  # Generate a sequence of indices from 0 to num_images_to_test-1\n"
      ],
      "metadata": {
        "id": "lwJnNWDxQn9R"
      },
      "execution_count": 42,
      "outputs": []
    },
    {
      "cell_type": "code",
      "source": [
        "print(\"train data = \", train_csv)\n",
        "print(\"test data = \", test_csv)\n",
        "print(\"batch size = \", batch_size)\n",
        "print(\"num_epochs = \", num_epochs)\n",
        "print(\"step_size = \", step_size)\n",
        "\n",
        "# Initialize lists to store true and predicted values\n",
        "y_true = []\n",
        "y_pred = []\n",
        "results = []\n",
        "absolute_errors = []\n",
        "percentage_errors = []\n",
        "counter = 0\n",
        "percentage_error_counter_5 = 0  # Counter for errors less than 5%\n",
        "percentage_error_counter_10 = 0  # Counter for errors less than 10%\n",
        "threshold_param = 0.05  # Threshold for the ground truth circumference\n",
        "\n",
        "# Variables to track the maximum absolute error and corresponding details\n",
        "max_absolute_error = -1\n",
        "max_error_image = \"\"\n",
        "max_error_predicted = -1\n",
        "max_error_ground_truth = -1\n",
        "\n",
        "# Loop through the selected images\n",
        "for idx in indices:\n",
        "    image_name = test_csv_df.iloc[idx, 0]\n",
        "    image_path = os.path.join(\"/content/drive/MyDrive/FinalProject/Dataset/training_set/training_set/\", image_name)\n",
        "    ground_truth_circumference = test_csv_df.iloc[idx, 2]  # Assuming the third column contains the head circumference labels\n",
        "    pixel_size = test_csv_df.iloc[idx, 1]  # Assuming the second column contains the pixel size\n",
        "\n",
        "    # Call the function to predict head circumference from the image\n",
        "    predicted_circumference = predict_head_circumference(image_path, pixel_size, model, min_hc, max_hc)\n",
        "\n",
        "    # Store the true and predicted values\n",
        "    y_true.append(ground_truth_circumference)\n",
        "    y_pred.append(predicted_circumference)\n",
        "\n",
        "    # Calculate the absolute error\n",
        "    absolute_error = abs(predicted_circumference - ground_truth_circumference)\n",
        "    absolute_errors.append(absolute_error)\n",
        "\n",
        "    # Calculate the percentage error\n",
        "    percentage_error = (absolute_error / ground_truth_circumference) * 100\n",
        "    percentage_errors.append(percentage_error)\n",
        "\n",
        "    # Calculate the 5% and 10% thresholds for the ground truth circumference\n",
        "    threshold_5 = 0.05 * ground_truth_circumference\n",
        "    threshold_10 = 0.10 * ground_truth_circumference\n",
        "\n",
        "    # Check if the absolute error is less than the 5% and 10% thresholds\n",
        "    if absolute_error < threshold_5:\n",
        "        percentage_error_counter_5 += 1\n",
        "    if absolute_error < threshold_10:\n",
        "        percentage_error_counter_10 += 1\n",
        "\n",
        "    # Track the maximum absolute error\n",
        "    if absolute_error > max_absolute_error:\n",
        "        max_absolute_error = absolute_error\n",
        "        max_error_image = image_path\n",
        "        max_error_predicted = predicted_circumference\n",
        "        max_error_ground_truth = ground_truth_circumference\n",
        "\n",
        "    # Create the result string\n",
        "    result_string = (f\"Image: {image_path}\\n\"\n",
        "                     f\"Predicted Head Circumference: {predicted_circumference}\\n\"\n",
        "                     f\"Ground Truth Head Circumference: {ground_truth_circumference}\\n\"\n",
        "                     f\"Pixel Size: {pixel_size}\\n\"\n",
        "                     f\"Absolute Error: {absolute_error}\\n\"\n",
        "                     f\"Percentage Error: {percentage_error}%\\n\"\n",
        "                     \"****************************\\n\")\n",
        "\n",
        "    # Append the result to the list\n",
        "    results.append([image_name, result_string, absolute_error])\n",
        "\n",
        "# Convert the results to a DataFrame and save to a CSV file\n",
        "results_df = pd.DataFrame(results, columns=['Image', 'Result', 'Absolute Error'])\n",
        "results_csv_path = \"/content/drive/MyDrive/FinalProject/results_30.7.csv\"\n",
        "results_df.to_csv(results_csv_path, index=False)\n",
        "\n",
        "# Print summary\n",
        "print(f\"Results saved to {results_csv_path}\")\n",
        "print(f\"Total Images with Error < 5% of Ground Truth: {percentage_error_counter_5}\")\n",
        "print(f\"Percentage: {percentage_error_counter_5 / num_images_to_test * 100:.2f}%\")\n",
        "print(f\"Total Images with Error < 10% of Ground Truth: {percentage_error_counter_10}\")\n",
        "print(f\"Percentage: {percentage_error_counter_10 / num_images_to_test * 100:.2f}%\")\n",
        "\n",
        "# Print the image with the biggest absolute error\n",
        "print(\"Image with the biggest absolute error:\")\n",
        "print(f\"Image: {max_error_image}\")\n",
        "print(f\"Predicted Head Circumference: {max_error_predicted}\")\n",
        "print(f\"Ground Truth Head Circumference: {max_error_ground_truth}\")\n",
        "print(f\"Absolute Error: {max_absolute_error}\")\n",
        "\n",
        "# Calculate RMSE, MAE, and R²\n",
        "mse = mean_squared_error(y_true, y_pred)\n",
        "rmse = np.sqrt(mse)\n",
        "mae = mean_absolute_error(y_true, y_pred)\n",
        "r2 = r2_score(y_true, y_pred)\n",
        "\n",
        "print(f\"Mean Squared Error: {mse}\")\n",
        "print(f\"Root Mean Squared Error: {rmse}\")\n",
        "print(f\"Mean Absolute Error: {mae}\")\n",
        "print(f\"R² Score: {r2}\")\n",
        "\n",
        "# Plot actual vs. predicted values\n",
        "plt.scatter(y_true, y_pred)\n",
        "plt.plot([min(y_true), max(y_true)], [min(y_true), max(y_true)], 'k--', lw=2)\n",
        "plt.xlabel('Actual Head Circumference')\n",
        "plt.ylabel('Predicted Head Circumference')\n",
        "plt.title('Predicted vs. Actual Head Circumference')\n",
        "plt.show()\n"
      ],
      "metadata": {
        "id": "T7qMdilwQhmP",
        "outputId": "3f1502ea-3ddd-409d-eed9-8c7fdca7fbfe",
        "colab": {
          "base_uri": "https://localhost:8080/",
          "height": 802
        }
      },
      "execution_count": 43,
      "outputs": [
        {
          "output_type": "stream",
          "name": "stdout",
          "text": [
            "train data =  /content/drive/MyDrive/FinalProject/train_data_filtered_90.csv\n",
            "test data =  /content/drive/MyDrive/FinalProject/test_data_filtered_5.csv\n",
            "batch size =  8\n",
            "num_epochs =  8\n",
            "step_size =  5\n",
            "Results saved to /content/drive/MyDrive/FinalProject/results_30.7.csv\n",
            "Total Images with Error < 5% of Ground Truth: 26\n",
            "Percentage: 54.17%\n",
            "Total Images with Error < 10% of Ground Truth: 40\n",
            "Percentage: 83.33%\n",
            "Image with the biggest absolute error:\n",
            "Image: /content/drive/MyDrive/FinalProject/Dataset/training_set/training_set/779_2HC.png\n",
            "Predicted Head Circumference: 249.61497496366496\n",
            "Ground Truth Head Circumference: 288.16\n",
            "Absolute Error: 38.54502503633506\n",
            "Mean Squared Error: 117.02599392908841\n",
            "Root Mean Squared Error: 10.817855329458258\n",
            "Mean Absolute Error: 8.324266347360492\n",
            "R² Score: 0.9647254054305238\n"
          ]
        },
        {
          "output_type": "display_data",
          "data": {
            "text/plain": [
              "<Figure size 640x480 with 1 Axes>"
            ],
            "image/png": "[encoded data removed]"
          },
          "metadata": {}
        }
      ]
    }
  ]
}