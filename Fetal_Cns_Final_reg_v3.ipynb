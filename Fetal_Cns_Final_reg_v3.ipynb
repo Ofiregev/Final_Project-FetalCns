{
  "nbformat": 4,
  "nbformat_minor": 0,
  "metadata": {
    "colab": {
      "provenance": [],
      "gpuType": "T4",
      "include_colab_link": true
    },
    "kernelspec": {
      "name": "python3",
      "display_name": "Python 3"
    },
    "language_info": {
      "name": "python"
    },
    "accelerator": "GPU"
  },
  "cells": [
    {
      "cell_type": "markdown",
      "metadata": {
        "id": "view-in-github",
        "colab_type": "text"
      },
      "source": [
        "<a href=\"https://colab.research.google.com/github/Ofiregev/Final_Project-FetalCns/blob/main/Fetal_Cns_Final_reg_v3.ipynb\" target=\"_parent\"><img src=\"https://colab.research.google.com/assets/colab-badge.svg\" alt=\"Open In Colab\"/></a>"
      ]
    },
    {
      "cell_type": "code",
      "source": [
        "from google.colab import drive\n",
        "import torch\n",
        "import torch.nn as nn\n",
        "import torch.optim as optim\n",
        "import torchvision.transforms as transforms\n",
        "from torch.utils.data import DataLoader, Dataset\n",
        "from PIL import Image\n",
        "import os\n",
        "import pandas as pd\n",
        "import torch.nn.functional as F\n",
        "from sklearn.model_selection import KFold\n",
        "import numpy as np\n",
        "import matplotlib.pyplot as plt\n",
        "import torch.optim.lr_scheduler as lr_scheduler\n",
        "from torch.utils.data import SubsetRandomSampler"
      ],
      "metadata": {
        "id": "-j71hqIL1stT"
      },
      "execution_count": 186,
      "outputs": []
    },
    {
      "cell_type": "code",
      "source": [
        "# Mount Google Drive\n",
        "drive.mount('/content/drive')\n",
        "print(\"Google Drive mounted successfully.\")"
      ],
      "metadata": {
        "colab": {
          "base_uri": "https://localhost:8080/"
        },
        "id": "yDNOtD8OuNqn",
        "outputId": "ca56b561-fd20-46ac-d849-6a3af5d440e8"
      },
      "execution_count": 187,
      "outputs": [
        {
          "output_type": "stream",
          "name": "stdout",
          "text": [
            "Drive already mounted at /content/drive; to attempt to forcibly remount, call drive.mount(\"/content/drive\", force_remount=True).\n",
            "Google Drive mounted successfully.\n"
          ]
        }
      ]
    },
    {
      "cell_type": "code",
      "source": [
        "# Determine the available hardware (CPU or GPU) and set the PyTorch device accordingly\n",
        "device = torch.device(\"cuda\" if torch.cuda.is_available() else \"cpu\")\n",
        "print(f\"Using device: {device}\")\n"
      ],
      "metadata": {
        "colab": {
          "base_uri": "https://localhost:8080/"
        },
        "id": "jRkJdLMg1UHT",
        "outputId": "99e5f6ed-7fa6-4f9e-d32e-b1cfd9e3547f"
      },
      "execution_count": 188,
      "outputs": [
        {
          "output_type": "stream",
          "name": "stdout",
          "text": [
            "Using device: cuda\n"
          ]
        }
      ]
    },
    {
      "cell_type": "code",
      "source": [
        "# Read the list of images from the CSV file\n",
        "train_csv = \"/content/drive/MyDrive/FinalProject/training_set_pixel_size_and_HC.csv\"\n",
        "train_csv_df = pd.read_csv(train_csv)\n",
        "print(\"CSV file loaded:\")\n",
        "print(train_csv_df.head())"
      ],
      "metadata": {
        "id": "n5SWSktsumWA",
        "colab": {
          "base_uri": "https://localhost:8080/"
        },
        "outputId": "afb849bd-fd30-44f8-800a-2e767a1f1870"
      },
      "execution_count": 189,
      "outputs": [
        {
          "output_type": "stream",
          "name": "stdout",
          "text": [
            "CSV file loaded:\n",
            "     filename  pixel size(mm)  head circumference (mm)\n",
            "0  000_HC.png        0.069136                    44.30\n",
            "1  001_HC.png        0.089659                    56.81\n",
            "2  002_HC.png        0.062033                    68.75\n",
            "3  003_HC.png        0.091291                    69.00\n",
            "4  004_HC.png        0.061240                    59.81\n"
          ]
        }
      ]
    },
    {
      "cell_type": "code",
      "source": [
        "# Compute min and max values of the head circumference\n",
        "min_hc = train_csv_df['head circumference (mm)'].min()\n",
        "max_hc = train_csv_df['head circumference (mm)'].max()\n",
        "print(f\"Min HC: {min_hc}, Max HC: {max_hc}\")"
      ],
      "metadata": {
        "id": "cVvC_D1o2CQ2",
        "outputId": "70eaeea8-9b05-4a9e-e7df-174677ed94aa",
        "colab": {
          "base_uri": "https://localhost:8080/"
        }
      },
      "execution_count": 190,
      "outputs": [
        {
          "output_type": "stream",
          "name": "stdout",
          "text": [
            "Min HC: 44.3, Max HC: 346.4\n"
          ]
        }
      ]
    },
    {
      "cell_type": "code",
      "source": [
        "# Normalize the labels in the dataset\n",
        "train_csv_df['Normalized_HC'] = (train_csv_df['head circumference (mm)'] - min_hc) / (max_hc - min_hc)\n",
        "output_csv = \"/content/drive/MyDrive/FinalProject/training_set_pixel_size_and_HC_no_index.csv\"\n",
        "train_csv_df.to_csv(output_csv, index=False)\n",
        "print(\"Normalized CSV file saved.\")\n",
        "print(train_csv_df.head())"
      ],
      "metadata": {
        "colab": {
          "base_uri": "https://localhost:8080/"
        },
        "id": "jiH06H6KX2G5",
        "outputId": "c9462cae-49c7-4e36-b4c9-15eff3617b80"
      },
      "execution_count": 191,
      "outputs": [
        {
          "output_type": "stream",
          "name": "stdout",
          "text": [
            "Normalized CSV file saved.\n",
            "     filename  pixel size(mm)  head circumference (mm)  Normalized_HC\n",
            "0  000_HC.png        0.069136                    44.30       0.000000\n",
            "1  001_HC.png        0.089659                    56.81       0.041410\n",
            "2  002_HC.png        0.062033                    68.75       0.080933\n",
            "3  003_HC.png        0.091291                    69.00       0.081761\n",
            "4  004_HC.png        0.061240                    59.81       0.051341\n"
          ]
        }
      ]
    },
    {
      "cell_type": "code",
      "source": [
        "# Custom Dataset Class\n",
        "class CustomDataset(Dataset):\n",
        "    def __init__(self, csv_file, root_dir, transform=None):\n",
        "        self.data_frame = pd.read_csv(csv_file)\n",
        "        self.root_dir = root_dir\n",
        "        self.transform = transform\n",
        "\n",
        "    def __len__(self):\n",
        "        return len(self.data_frame)\n",
        "\n",
        "    def __getitem__(self, idx):\n",
        "        img_name = os.path.join(self.root_dir, self.data_frame.iloc[idx, 0])\n",
        "        image = Image.open(img_name)\n",
        "        if self.transform:\n",
        "            image = self.transform(image)\n",
        "\n",
        "        label = self.data_frame.iloc[idx, 3]  # Assuming the fourth column is the normalized label\n",
        "        return image, label"
      ],
      "metadata": {
        "id": "0F4wcuObuccv"
      },
      "execution_count": 192,
      "outputs": []
    },
    {
      "cell_type": "code",
      "source": [
        "# Data Transformations\n",
        "transform = transforms.Compose([\n",
        "    transforms.Resize((64, 64)),\n",
        "    transforms.RandomHorizontalFlip(),\n",
        "    transforms.RandomRotation(10),\n",
        "    transforms.ColorJitter(brightness=0.2, contrast=0.2, saturation=0.2, hue=0.1),\n",
        "    transforms.ToTensor(),\n",
        "    transforms.Normalize(mean=[0.5], std=[0.5])  # Assuming grayscale images\n",
        "])"
      ],
      "metadata": {
        "id": "CxNwzuQ92bPP"
      },
      "execution_count": 193,
      "outputs": []
    },
    {
      "cell_type": "code",
      "source": [
        "# Create the dataset with the updated CSV\n",
        "train_dataset = CustomDataset(csv_file=output_csv,\n",
        "                              root_dir=\"/content/drive/MyDrive/FinalProject/Dataset/training_set/training_set/\",\n",
        "                              transform=transform)"
      ],
      "metadata": {
        "id": "_1eXQhF2utoI"
      },
      "execution_count": 194,
      "outputs": []
    },
    {
      "cell_type": "code",
      "source": [
        "# Create DataLoader\n",
        "batch_size = 8\n",
        "train_loader = DataLoader(train_dataset, batch_size=batch_size, shuffle=True)"
      ],
      "metadata": {
        "id": "IoPz2uS-ux-U"
      },
      "execution_count": 195,
      "outputs": []
    },
    {
      "cell_type": "code",
      "source": [
        "# # Model Definition\n",
        "class Model(nn.Module):\n",
        "    def __init__(self, input_channels=1, input_size=64):\n",
        "        super(Model, self).__init__()\n",
        "        self.conv1 = nn.Conv2d(input_channels, 64, 3, padding=1)\n",
        "        self.conv2 = nn.Conv2d(64, 128, 3, padding=1)\n",
        "        self.conv3 = nn.Conv2d(128, 256, 3, padding=1)\n",
        "        self.conv4 = nn.Conv2d(256, 512, 3, padding=1)\n",
        "        self.conv5 = nn.Conv2d(512, 512, 3, padding=1)  # Additional Convolutional Layer\n",
        "        self.pool = nn.MaxPool2d(2, 2)\n",
        "        conv_output_size = input_size // 2 // 2 // 2 // 2 // 2  # Adjusted for additional pooling layers\n",
        "        self.fc1 = nn.Linear(512 * conv_output_size * conv_output_size, 1024)\n",
        "        self.fc2 = nn.Linear(1024, 512)\n",
        "        self.fc3 = nn.Linear(512, 256)\n",
        "        self.fc4 = nn.Linear(256, 1)\n",
        "        self.dropout = nn.Dropout(0.5)  # Increased Dropout Rate\n",
        "        self.batchnorm1 = nn.BatchNorm2d(64)\n",
        "        self.batchnorm2 = nn.BatchNorm2d(128)\n",
        "        self.batchnorm3 = nn.BatchNorm2d(256)\n",
        "        self.batchnorm4 = nn.BatchNorm2d(512)\n",
        "\n",
        "    def forward(self, x):\n",
        "        x = self.pool(F.relu(self.batchnorm1(self.conv1(x))))\n",
        "        x = self.pool(F.relu(self.batchnorm2(self.conv2(x))))\n",
        "        x = self.pool(F.relu(self.batchnorm3(self.conv3(x))))\n",
        "        x = self.pool(F.relu(self.batchnorm4(self.conv4(x))))\n",
        "        x = self.pool(F.relu(self.conv5(x)))  # Additional Convolutional Layer\n",
        "        x = torch.flatten(x, 1)\n",
        "        x = F.relu(self.fc1(x))\n",
        "        x = self.dropout(x)\n",
        "        x = F.relu(self.fc2(x))\n",
        "        x = self.dropout(x)\n",
        "        x = F.relu(self.fc3(x))\n",
        "        x = self.dropout(x)\n",
        "        x = self.fc4(x)\n",
        "        return x"
      ],
      "metadata": {
        "id": "rEfSMMeMu1Nv"
      },
      "execution_count": 196,
      "outputs": []
    },
    {
      "cell_type": "code",
      "source": [
        "model = Model(input_channels=1, input_size=64)\n",
        "model.to(device)"
      ],
      "metadata": {
        "colab": {
          "base_uri": "https://localhost:8080/"
        },
        "id": "enSvWIyjiQkc",
        "outputId": "e08ed48c-f546-46d2-d65f-e42fcb710f0e"
      },
      "execution_count": 197,
      "outputs": [
        {
          "output_type": "execute_result",
          "data": {
            "text/plain": [
              "Model(\n",
              "  (conv1): Conv2d(1, 64, kernel_size=(3, 3), stride=(1, 1), padding=(1, 1))\n",
              "  (conv2): Conv2d(64, 128, kernel_size=(3, 3), stride=(1, 1), padding=(1, 1))\n",
              "  (conv3): Conv2d(128, 256, kernel_size=(3, 3), stride=(1, 1), padding=(1, 1))\n",
              "  (conv4): Conv2d(256, 512, kernel_size=(3, 3), stride=(1, 1), padding=(1, 1))\n",
              "  (conv5): Conv2d(512, 512, kernel_size=(3, 3), stride=(1, 1), padding=(1, 1))\n",
              "  (pool): MaxPool2d(kernel_size=2, stride=2, padding=0, dilation=1, ceil_mode=False)\n",
              "  (fc1): Linear(in_features=2048, out_features=1024, bias=True)\n",
              "  (fc2): Linear(in_features=1024, out_features=512, bias=True)\n",
              "  (fc3): Linear(in_features=512, out_features=256, bias=True)\n",
              "  (fc4): Linear(in_features=256, out_features=1, bias=True)\n",
              "  (dropout): Dropout(p=0.5, inplace=False)\n",
              "  (batchnorm1): BatchNorm2d(64, eps=1e-05, momentum=0.1, affine=True, track_running_stats=True)\n",
              "  (batchnorm2): BatchNorm2d(128, eps=1e-05, momentum=0.1, affine=True, track_running_stats=True)\n",
              "  (batchnorm3): BatchNorm2d(256, eps=1e-05, momentum=0.1, affine=True, track_running_stats=True)\n",
              "  (batchnorm4): BatchNorm2d(512, eps=1e-05, momentum=0.1, affine=True, track_running_stats=True)\n",
              ")"
            ]
          },
          "metadata": {},
          "execution_count": 197
        }
      ]
    },
    {
      "cell_type": "code",
      "source": [
        "# Define Training Parameters and Optimizer\n",
        "learning_rate = 0.001\n",
        "criterion = nn.MSELoss()\n",
        "optimizer = optim.Adam(model.parameters(), lr=learning_rate, weight_decay=1e-5)\n",
        "scheduler = lr_scheduler.StepLR(optimizer, step_size=2, gamma=0.5)\n"
      ],
      "metadata": {
        "id": "QVo75mLhu49C"
      },
      "execution_count": 198,
      "outputs": []
    },
    {
      "cell_type": "code",
      "source": [
        "# Plot Loss Function\n",
        "def plot_loss(train_losses, val_losses, epochs):\n",
        "    plt.plot(range(1, epochs + 1), train_losses, label='Train Loss')\n",
        "    plt.plot(range(1, epochs + 1), val_losses, label='Validation Loss')\n",
        "    plt.xlabel('Epochs')\n",
        "    plt.ylabel('Loss')\n",
        "    plt.title('Training and Validation Loss')\n",
        "    plt.legend()\n",
        "    plt.show()"
      ],
      "metadata": {
        "id": "oIppCggW241y"
      },
      "execution_count": 199,
      "outputs": []
    },
    {
      "cell_type": "code",
      "source": [
        "# Training Function\n",
        "def train(model, train_loader, val_loader, optimizer, scheduler, criterion, epochs, device):\n",
        "    model.to(device)\n",
        "    train_losses = []\n",
        "    val_losses = []\n",
        "\n",
        "    for epoch in range(epochs):\n",
        "        model.train()\n",
        "        running_train_loss = 0.0\n",
        "\n",
        "        for inputs, labels in train_loader:\n",
        "            inputs = inputs.float().to(device)\n",
        "            labels = labels.float().unsqueeze(1).to(device)\n",
        "\n",
        "            optimizer.zero_grad()\n",
        "            outputs = model(inputs)\n",
        "            loss = criterion(outputs, labels)\n",
        "            loss.backward()\n",
        "            optimizer.step()\n",
        "\n",
        "            running_train_loss += loss.item()\n",
        "\n",
        "        epoch_train_loss = running_train_loss / len(train_loader)\n",
        "        train_losses.append(epoch_train_loss)\n",
        "\n",
        "        # Validation phase\n",
        "        model.eval()\n",
        "        running_val_loss = 0.0\n",
        "\n",
        "        with torch.no_grad():\n",
        "            for inputs, labels in val_loader:\n",
        "                inputs = inputs.float().to(device)\n",
        "                labels = labels.float().unsqueeze(1).to(device)\n",
        "\n",
        "                outputs = model(inputs)\n",
        "                val_loss = criterion(outputs, labels)\n",
        "                running_val_loss += val_loss.item()\n",
        "\n",
        "        epoch_val_loss = running_val_loss / len(val_loader)\n",
        "        val_losses.append(epoch_val_loss)\n",
        "\n",
        "        print(f\"Epoch {epoch + 1}, Train Loss: {epoch_train_loss:.4f}, Validation Loss: {epoch_val_loss:.4f}\")\n",
        "        scheduler.step()  # Step the scheduler\n",
        "\n",
        "    plot_loss(train_losses, val_losses, epochs)"
      ],
      "metadata": {
        "id": "sjg4Y0ohjX6W"
      },
      "execution_count": 200,
      "outputs": []
    },
    {
      "cell_type": "code",
      "source": [
        "# Evaluation Function\n",
        "def evaluate(model, val_loader, criterion, device):\n",
        "    model.eval()\n",
        "    val_losses = []\n",
        "\n",
        "    with torch.no_grad():\n",
        "        for inputs, labels in val_loader:\n",
        "            inputs = inputs.float().to(device)\n",
        "            labels = labels.float().unsqueeze(1).to(device)\n",
        "\n",
        "            outputs = model(inputs)\n",
        "            val_loss = criterion(outputs, labels)\n",
        "            val_losses.append(val_loss.item())\n",
        "\n",
        "    fold_avg_val_loss = np.mean(val_losses)\n",
        "    return fold_avg_val_loss"
      ],
      "metadata": {
        "id": "G9u-TeagjYwQ"
      },
      "execution_count": 201,
      "outputs": []
    },
    {
      "cell_type": "code",
      "source": [
        "# K-Fold Cross-Validation\n",
        "k = 3\n",
        "kf = KFold(n_splits=k, shuffle=True, random_state=42)\n",
        "evaluation_metrics = []\n",
        "epochs = 6\n",
        "scheduler = lr_scheduler.StepLR(optimizer, step_size=2, gamma=0.5)\n",
        "\n",
        "def reset_model(model_class, *args, **kwargs):\n",
        "    model = model_class(*args, **kwargs)\n",
        "    return model\n",
        "\n",
        "for fold_idx, (train_idx, val_idx) in enumerate(kf.split(train_dataset)):\n",
        "    print(f\"Fold {fold_idx + 1}\")\n",
        "    print(\"=========\")\n",
        "\n",
        "    # Reset the model and optimizer\n",
        "    model = reset_model(Model, input_channels=1, input_size=64).to(device)\n",
        "    optimizer = optim.AdamW(model.parameters(), lr=learning_rate, weight_decay=1e-5)\n",
        "\n",
        "    # Create data loaders using SubsetRandomSampler\n",
        "    train_sampler = SubsetRandomSampler(train_idx)\n",
        "    val_sampler = SubsetRandomSampler(val_idx)\n",
        "\n",
        "    train_loader_fold = DataLoader(train_dataset, batch_size=batch_size, sampler=train_sampler, num_workers=2)\n",
        "    val_loader_fold = DataLoader(train_dataset, batch_size=batch_size, sampler=val_sampler, num_workers=2)\n",
        "\n",
        "    # Train and evaluate\n",
        "    train(model, train_loader_fold, val_loader_fold, optimizer, scheduler, criterion, epochs, device)\n",
        "    fold_avg_val_loss = evaluate(model, val_loader_fold, criterion, device)\n",
        "    evaluation_metrics.append(fold_avg_val_loss)\n",
        "\n",
        "    print(f\"Fold {fold_idx + 1} Validation Loss: {fold_avg_val_loss:.4f}\")\n",
        "    print(\"=========\")\n",
        "\n",
        "average_metric = np.mean(evaluation_metrics)\n",
        "print(f\"Average Evaluation Metric: {average_metric:.4f}\")"
      ],
      "metadata": {
        "colab": {
          "base_uri": "https://localhost:8080/",
          "height": 1000
        },
        "id": "i6XV3Dflja06",
        "outputId": "2dabca23-b1f6-4623-a91a-3cd11cc8adef"
      },
      "execution_count": 202,
      "outputs": [
        {
          "output_type": "stream",
          "name": "stdout",
          "text": [
            "Fold 1\n",
            "=========\n"
          ]
        },
        {
          "output_type": "stream",
          "name": "stderr",
          "text": [
            "/usr/lib/python3.10/multiprocessing/popen_fork.py:66: RuntimeWarning: os.fork() was called. os.fork() is incompatible with multithreaded code, and JAX is multithreaded, so this will likely lead to a deadlock.\n",
            "  self.pid = os.fork()\n"
          ]
        },
        {
          "output_type": "stream",
          "name": "stdout",
          "text": [
            "Epoch 1, Train Loss: 0.0964, Validation Loss: 0.0394\n"
          ]
        },
        {
          "output_type": "stream",
          "name": "stderr",
          "text": [
            "/usr/local/lib/python3.10/dist-packages/torch/optim/lr_scheduler.py:143: UserWarning: Detected call of `lr_scheduler.step()` before `optimizer.step()`. In PyTorch 1.1.0 and later, you should call them in the opposite order: `optimizer.step()` before `lr_scheduler.step()`.  Failure to do this will result in PyTorch skipping the first value of the learning rate schedule. See more details at https://pytorch.org/docs/stable/optim.html#how-to-adjust-learning-rate\n",
            "  warnings.warn(\"Detected call of `lr_scheduler.step()` before `optimizer.step()`. \"\n"
          ]
        },
        {
          "output_type": "stream",
          "name": "stdout",
          "text": [
            "Epoch 2, Train Loss: 0.0535, Validation Loss: 0.0383\n",
            "Epoch 3, Train Loss: 0.0508, Validation Loss: 0.0525\n",
            "Epoch 4, Train Loss: 0.0368, Validation Loss: 0.0285\n",
            "Epoch 5, Train Loss: 0.0369, Validation Loss: 0.0270\n",
            "Epoch 6, Train Loss: 0.0381, Validation Loss: 0.0298\n"
          ]
        },
        {
          "output_type": "display_data",
          "data": {
            "text/plain": [
              "<Figure size 640x480 with 1 Axes>"
            ],
            "image/png": "[encoded data removed]"
          },
          "metadata": {}
        },
        {
          "output_type": "stream",
          "name": "stdout",
          "text": [
            "Fold 1 Validation Loss: 0.0296\n",
            "=========\n",
            "Fold 2\n",
            "=========\n",
            "Epoch 1, Train Loss: 0.1205, Validation Loss: 0.1100\n",
            "Epoch 2, Train Loss: 0.0498, Validation Loss: 0.0425\n",
            "Epoch 3, Train Loss: 0.0404, Validation Loss: 0.0344\n",
            "Epoch 4, Train Loss: 0.0345, Validation Loss: 0.0331\n",
            "Epoch 5, Train Loss: 0.0332, Validation Loss: 0.0316\n",
            "Epoch 6, Train Loss: 0.0318, Validation Loss: 0.0341\n"
          ]
        },
        {
          "output_type": "display_data",
          "data": {
            "text/plain": [
              "<Figure size 640x480 with 1 Axes>"
            ],
            "image/png": "[encoded data removed]"
          },
          "metadata": {}
        },
        {
          "output_type": "stream",
          "name": "stdout",
          "text": [
            "Fold 2 Validation Loss: 0.0330\n",
            "=========\n",
            "Fold 3\n",
            "=========\n",
            "Epoch 1, Train Loss: 0.1215, Validation Loss: 0.0320\n",
            "Epoch 2, Train Loss: 0.0553, Validation Loss: 0.0339\n",
            "Epoch 3, Train Loss: 0.0496, Validation Loss: 0.0305\n",
            "Epoch 4, Train Loss: 0.0428, Validation Loss: 0.0253\n",
            "Epoch 5, Train Loss: 0.0348, Validation Loss: 0.2423\n",
            "Epoch 6, Train Loss: 0.0372, Validation Loss: 0.0311\n"
          ]
        },
        {
          "output_type": "display_data",
          "data": {
            "text/plain": [
              "<Figure size 640x480 with 1 Axes>"
            ],
            "image/png": "[encoded data removed]"
          },
          "metadata": {}
        },
        {
          "output_type": "stream",
          "name": "stdout",
          "text": [
            "Fold 3 Validation Loss: 0.0310\n",
            "=========\n",
            "Average Evaluation Metric: 0.0312\n"
          ]
        }
      ]
    },
    {
      "cell_type": "code",
      "source": [
        "# Save the trained model\n",
        "model_path = \"/content/drive/MyDrive/FinalProject/trained_model.pth\"\n",
        "torch.save(model.state_dict(), model_path)\n",
        "print(\"Model saved successfully!\")"
      ],
      "metadata": {
        "colab": {
          "base_uri": "https://localhost:8080/"
        },
        "id": "up5YazFRFP8k",
        "outputId": "c5584d55-42fc-4133-8874-3aeab41d42ff"
      },
      "execution_count": 203,
      "outputs": [
        {
          "output_type": "stream",
          "name": "stdout",
          "text": [
            "Model saved successfully!\n"
          ]
        }
      ]
    },
    {
      "cell_type": "code",
      "source": [
        "# Load the trained model\n",
        "model_path = \"/content/drive/MyDrive/FinalProject/trained_model.pth\"\n",
        "model = Model(input_channels=1, input_size=64)\n",
        "model.load_state_dict(torch.load(model_path))\n",
        "model.eval()"
      ],
      "metadata": {
        "colab": {
          "base_uri": "https://localhost:8080/"
        },
        "id": "rcnDOoezlloH",
        "outputId": "57df844a-ceff-442e-f024-2571c1b81026"
      },
      "execution_count": 204,
      "outputs": [
        {
          "output_type": "execute_result",
          "data": {
            "text/plain": [
              "Model(\n",
              "  (conv1): Conv2d(1, 64, kernel_size=(3, 3), stride=(1, 1), padding=(1, 1))\n",
              "  (conv2): Conv2d(64, 128, kernel_size=(3, 3), stride=(1, 1), padding=(1, 1))\n",
              "  (conv3): Conv2d(128, 256, kernel_size=(3, 3), stride=(1, 1), padding=(1, 1))\n",
              "  (conv4): Conv2d(256, 512, kernel_size=(3, 3), stride=(1, 1), padding=(1, 1))\n",
              "  (conv5): Conv2d(512, 512, kernel_size=(3, 3), stride=(1, 1), padding=(1, 1))\n",
              "  (pool): MaxPool2d(kernel_size=2, stride=2, padding=0, dilation=1, ceil_mode=False)\n",
              "  (fc1): Linear(in_features=2048, out_features=1024, bias=True)\n",
              "  (fc2): Linear(in_features=1024, out_features=512, bias=True)\n",
              "  (fc3): Linear(in_features=512, out_features=256, bias=True)\n",
              "  (fc4): Linear(in_features=256, out_features=1, bias=True)\n",
              "  (dropout): Dropout(p=0.5, inplace=False)\n",
              "  (batchnorm1): BatchNorm2d(64, eps=1e-05, momentum=0.1, affine=True, track_running_stats=True)\n",
              "  (batchnorm2): BatchNorm2d(128, eps=1e-05, momentum=0.1, affine=True, track_running_stats=True)\n",
              "  (batchnorm3): BatchNorm2d(256, eps=1e-05, momentum=0.1, affine=True, track_running_stats=True)\n",
              "  (batchnorm4): BatchNorm2d(512, eps=1e-05, momentum=0.1, affine=True, track_running_stats=True)\n",
              ")"
            ]
          },
          "metadata": {},
          "execution_count": 204
        }
      ]
    },
    {
      "cell_type": "code",
      "source": [
        "def predict_head_circumference(image_path, model, min_hc, max_hc):\n",
        "    transform = transforms.Compose([\n",
        "        transforms.Resize((64, 64)),\n",
        "        transforms.ToTensor(),\n",
        "        transforms.Normalize(mean=[0.5], std=[0.5])\n",
        "    ])\n",
        "    image = Image.open(image_path)\n",
        "    image_tensor = transform(image).unsqueeze(0)  # Add batch dimension\n",
        "\n",
        "    with torch.no_grad():\n",
        "        output = model(image_tensor.float())\n",
        "\n",
        "    predicted_normalized_hc = output.item()\n",
        "    predicted_hc = predicted_normalized_hc * (max_hc - min_hc) + min_hc  # De-normalize the prediction\n",
        "    return predicted_hc\n"
      ],
      "metadata": {
        "id": "Mw7sQ8uvl7TZ"
      },
      "execution_count": 205,
      "outputs": []
    },
    {
      "cell_type": "code",
      "source": [
        "# Evaluate the model on the entire training set\n",
        "num_images_to_test = len(train_csv_df)\n",
        "indices = range(num_images_to_test)  # Generate a sequence of indices from 0 to num_images_to_test-1\n",
        "\n",
        "# Initialize a list to store the absolute errors\n",
        "absolute_errors = []\n",
        "counter = 0\n",
        "error_parameter = 5\n",
        "\n",
        "# Open a file to write the results\n",
        "with open(\"results.txt\", \"w\") as file:\n",
        "    # Loop through the selected images\n",
        "    for idx in indices:\n",
        "        image_path = os.path.join(\"/content/drive/MyDrive/FinalProject/Dataset/training_set/training_set/\", train_csv_df.iloc[idx, 0])\n",
        "        ground_truth_circumference = train_csv_df.iloc[idx, 2]  # Assuming the third column contains the head circumference labels\n",
        "\n",
        "        # Call the function to predict head circumference from the image\n",
        "        predicted_circumference = predict_head_circumference(image_path, model, min_hc, max_hc)\n",
        "\n",
        "        # Calculate the absolute error and add it to the list\n",
        "        absolute_error = abs(predicted_circumference - ground_truth_circumference)\n",
        "        absolute_errors.append(absolute_error)\n",
        "\n",
        "        if absolute_error < error_parameter:\n",
        "            file.write(f\"Image: {image_path}\\n\")\n",
        "            file.write(f\"Predicted Head Circumference: {predicted_circumference}\\n\")\n",
        "            file.write(f\"Ground Truth Head Circumference: {ground_truth_circumference}\\n\")\n",
        "            file.write(f\"Absolute Error: {absolute_error}\\n\")\n",
        "            file.write(\"\\n\")\n",
        "            file.write(\"****************************\\n\")\n",
        "            counter += 1\n",
        "\n",
        "    # Write the counter and percentage to the file\n",
        "    file.write(f\"Total Images with Error < {error_parameter}: {counter}\\n\")\n",
        "    file.write(f\"Percentage: {counter / num_images_to_test * 100:.2f}%\\n\")\n",
        "    print(f\"Total Images with Error < {error_parameter}: {counter}\\n\")\n",
        "    print(f\"Percentage: {counter / num_images_to_test * 100:.2f}%\\n\")\n"
      ],
      "metadata": {
        "colab": {
          "base_uri": "https://localhost:8080/"
        },
        "id": "vwvauekkry6J",
        "outputId": "899c96c5-0dba-4257-f2f3-6109148971d0"
      },
      "execution_count": 206,
      "outputs": [
        {
          "output_type": "stream",
          "name": "stdout",
          "text": [
            "Total Images with Error < 5: 44\n",
            "\n",
            "Percentage: 4.40%\n",
            "\n"
          ]
        }
      ]
    },
    {
      "cell_type": "code",
      "source": [
        "# # Choose 10 random indices from the dataset\n",
        "# num_images_to_test = 500\n",
        "# random_indices = np.random.choice(len(train_csv_df), size=num_images_to_test, replace=False)\n",
        "\n",
        "# # Initialize a list to store the absolute errors\n",
        "# absolute_errors = []\n",
        "# # Loop through the selected images\n",
        "# for idx in random_indices:\n",
        "\n",
        "#     image_path = os.path.join(\"/content/drive/MyDrive/FinalProject/Dataset/training_set/training_set/\", train_csv_df.iloc[idx, 0])\n",
        "#     ground_truth_circumference = train_csv_df.iloc[idx, 2]  # Assuming the third column contains the head circumference labels\n",
        "\n",
        "#     # Call the function to predict head circumference from the image\n",
        "#     predicted_circumference = predict_head_circumference(image_path, model, min_hc, max_hc)\n",
        "\n",
        "#     # Calculate the absolute error and add it to the list\n",
        "#     absolute_error = abs(predicted_circumference - ground_truth_circumference)\n",
        "#     absolute_errors.append(absolute_error)\n",
        "\n",
        "\n",
        "#     # Print the predicted and ground truth head circumferences\n",
        "#     print(\"Image:\", image_path)\n",
        "#     print(\"Predicted Head Circumference:\", predicted_circumference)\n",
        "#     print(\"Ground Truth Head Circumference:\", ground_truth_circumference)\n",
        "#     print(\"Absolute Error:\", absolute_error)\n",
        "#     print(\"==============================================\")\n",
        "\n",
        "# # Calculate the average absolute error\n",
        "# average_absolute_error = sum(absolute_errors) / len(absolute_errors)\n",
        "# print(\"Average Absolute Error:\", average_absolute_error)\n"
      ],
      "metadata": {
        "id": "PM95Xi1y1p8V"
      },
      "execution_count": 207,
      "outputs": []
    },
    {
      "cell_type": "code",
      "source": [
        "# # # Path for the new image\n",
        "# new_image_path = \"/content/drive/MyDrive/FinalProject/Dataset/training_set/training_set/001_HC.png\"\n",
        "# # Call the function to predict head circumference from the new image\n",
        "# predicted_circumference = predict_head_circumference(new_image_path, model, min_hc, max_hc)\n",
        "\n",
        "# print(\"Predicted Head Circumference:\", predicted_circumference)\n"
      ],
      "metadata": {
        "id": "ztmZhcmaFeXb"
      },
      "execution_count": 208,
      "outputs": []
    }
  ]
}