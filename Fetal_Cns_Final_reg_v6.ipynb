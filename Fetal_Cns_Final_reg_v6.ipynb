{
  "nbformat": 4,
  "nbformat_minor": 0,
  "metadata": {
    "colab": {
      "provenance": [],
      "gpuType": "T4",
      "authorship_tag": "ABX9TyN2+Nt8tjHTc2tsCYsf1zYc",
      "include_colab_link": true
    },
    "kernelspec": {
      "name": "python3",
      "display_name": "Python 3"
    },
    "language_info": {
      "name": "python"
    },
    "accelerator": "GPU"
  },
  "cells": [
    {
      "cell_type": "markdown",
      "metadata": {
        "id": "view-in-github",
        "colab_type": "text"
      },
      "source": [
        "<a href=\"https://colab.research.google.com/github/Ofiregev/Final_Project-FetalCns/blob/main/Fetal_Cns_Final_reg_v6.ipynb\" target=\"_parent\"><img src=\"https://colab.research.google.com/assets/colab-badge.svg\" alt=\"Open In Colab\"/></a>"
      ]
    },
    {
      "cell_type": "code",
      "source": [
        "from google.colab import drive\n",
        "import torch\n",
        "import torch.nn as nn\n",
        "import torch.optim as optim\n",
        "import torchvision.transforms as transforms\n",
        "from torch.utils.data import DataLoader, Dataset, random_split\n",
        "from torchvision import models\n",
        "from PIL import Image\n",
        "import os\n",
        "import pandas as pd\n",
        "import numpy as np\n",
        "import matplotlib.pyplot as plt\n",
        "from sklearn.model_selection import train_test_split\n",
        "from sklearn.metrics import mean_squared_error\n",
        "from torch.utils.data import DataLoader, Dataset"
      ],
      "metadata": {
        "id": "bQIu-pWDLe35"
      },
      "execution_count": 1,
      "outputs": []
    },
    {
      "cell_type": "code",
      "source": [
        "# Mount Google Drive\n",
        "drive.mount('/content/drive')\n",
        "print(\"Google Drive mounted successfully.\")"
      ],
      "metadata": {
        "colab": {
          "base_uri": "https://localhost:8080/"
        },
        "id": "husjIpqXLfr6",
        "outputId": "8c71b884-1dc9-43b2-e20e-0b7b4ad76707"
      },
      "execution_count": 2,
      "outputs": [
        {
          "output_type": "stream",
          "name": "stdout",
          "text": [
            "Mounted at /content/drive\n",
            "Google Drive mounted successfully.\n"
          ]
        }
      ]
    },
    {
      "cell_type": "code",
      "source": [
        "\n",
        "# Determine the available hardware (CPU or GPU) and set the PyTorch device accordingly\n",
        "device = torch.device(\"cuda\" if torch.cuda.is_available() else \"cpu\")\n",
        "print(f\"Using device: {device}\")\n"
      ],
      "metadata": {
        "colab": {
          "base_uri": "https://localhost:8080/"
        },
        "id": "Cz2MTh4NLfu8",
        "outputId": "d52ece18-fc1e-467a-d5b9-d753928fa9a9"
      },
      "execution_count": 3,
      "outputs": [
        {
          "output_type": "stream",
          "name": "stdout",
          "text": [
            "Using device: cuda\n"
          ]
        }
      ]
    },
    {
      "cell_type": "code",
      "source": [
        "\n",
        "# Read the list of images from the CSV file\n",
        "train_csv = \"/content/drive/MyDrive/FinalProject/training_set_pixel_size_and_HC.csv\"\n",
        "train_csv_df = pd.read_csv(train_csv)\n",
        "print(\"CSV file loaded:\")\n",
        "print(train_csv_df.head())\n"
      ],
      "metadata": {
        "colab": {
          "base_uri": "https://localhost:8080/"
        },
        "id": "yQbFizzmLfyH",
        "outputId": "81d666a1-0819-4e86-f0cc-0982c46531c8"
      },
      "execution_count": 4,
      "outputs": [
        {
          "output_type": "stream",
          "name": "stdout",
          "text": [
            "CSV file loaded:\n",
            "     filename  pixel size(mm)  head circumference (mm)\n",
            "0  000_HC.png        0.069136                    44.30\n",
            "1  001_HC.png        0.089659                    56.81\n",
            "2  002_HC.png        0.062033                    68.75\n",
            "3  003_HC.png        0.091291                    69.00\n",
            "4  004_HC.png        0.061240                    59.81\n"
          ]
        }
      ]
    },
    {
      "cell_type": "code",
      "source": [
        "# Compute min and max values of the head circumference\n",
        "min_hc = train_csv_df['head circumference (mm)'].min()\n",
        "max_hc = train_csv_df['head circumference (mm)'].max()\n",
        "print(f\"Min HC: {min_hc}, Max HC: {max_hc}\")\n"
      ],
      "metadata": {
        "colab": {
          "base_uri": "https://localhost:8080/"
        },
        "id": "4w93gnMULf1Z",
        "outputId": "cd37cc1e-dacd-4984-9e45-e823eefd46ce"
      },
      "execution_count": 5,
      "outputs": [
        {
          "output_type": "stream",
          "name": "stdout",
          "text": [
            "Min HC: 44.3, Max HC: 346.4\n"
          ]
        }
      ]
    },
    {
      "cell_type": "code",
      "source": [
        "# Normalize the labels in the dataset\n",
        "train_csv_df['Normalized_HC'] = (train_csv_df['head circumference (mm)'] - min_hc) / (max_hc - min_hc)"
      ],
      "metadata": {
        "id": "6swIFNQlLn4l"
      },
      "execution_count": 6,
      "outputs": []
    },
    {
      "cell_type": "code",
      "source": [
        "# Save the normalized dataset\n",
        "output_csv = \"/content/drive/MyDrive/FinalProject/training_set_pixel_size_and_HC_no_index.csv\"\n",
        "train_csv_df.to_csv(output_csv, index=False)\n",
        "print(\"Normalized CSV file saved.\")\n",
        "print(train_csv_df.head())"
      ],
      "metadata": {
        "colab": {
          "base_uri": "https://localhost:8080/"
        },
        "id": "i918fVzzLt_w",
        "outputId": "c85ebabb-1bef-433e-bf65-c757c54438b2"
      },
      "execution_count": 7,
      "outputs": [
        {
          "output_type": "stream",
          "name": "stdout",
          "text": [
            "Normalized CSV file saved.\n",
            "     filename  pixel size(mm)  head circumference (mm)  Normalized_HC\n",
            "0  000_HC.png        0.069136                    44.30       0.000000\n",
            "1  001_HC.png        0.089659                    56.81       0.041410\n",
            "2  002_HC.png        0.062033                    68.75       0.080933\n",
            "3  003_HC.png        0.091291                    69.00       0.081761\n",
            "4  004_HC.png        0.061240                    59.81       0.051341\n"
          ]
        }
      ]
    },
    {
      "cell_type": "code",
      "source": [
        "# Custom Dataset Class\n",
        "class CustomDataset(Dataset):\n",
        "    def __init__(self, csv_file, root_dir, transform=None):\n",
        "        self.data_frame = pd.read_csv(csv_file)\n",
        "        self.root_dir = root_dir\n",
        "        self.transform = transform\n",
        "\n",
        "    def __len__(self):\n",
        "        return len(self.data_frame)\n",
        "\n",
        "    def __getitem__(self, idx):\n",
        "        img_name = os.path.join(self.root_dir, self.data_frame.iloc[idx, 0])\n",
        "        image = Image.open(img_name).convert('RGB')\n",
        "        if self.transform:\n",
        "            image = self.transform(image)\n",
        "        pixel_size = self.data_frame.iloc[idx, 1]\n",
        "        hc = self.data_frame.iloc[idx, 3]  # Normalized head circumference\n",
        "        sample = {'image': image, 'pixel_size': pixel_size, 'hc': hc}\n",
        "        return sample"
      ],
      "metadata": {
        "id": "47H7bdAuLvJN"
      },
      "execution_count": 8,
      "outputs": []
    },
    {
      "cell_type": "code",
      "source": [
        "# Define transformations for the images\n",
        "transform = transforms.Compose([\n",
        "    transforms.Resize((224, 224)),\n",
        "    transforms.ToTensor(),\n",
        "    transforms.Normalize(mean=[0.485, 0.456, 0.406], std=[0.229, 0.224, 0.225])\n",
        "])"
      ],
      "metadata": {
        "id": "yk6vrkvnLw_z"
      },
      "execution_count": 9,
      "outputs": []
    },
    {
      "cell_type": "code",
      "source": [
        "# Load the dataset\n",
        "root_dir = \"/content/drive/MyDrive/FinalProject/Dataset/training_set/training_set/\"\n",
        "dataset = CustomDataset(csv_file=output_csv, root_dir=root_dir, transform=transform)\n",
        "\n",
        "# Split the dataset into training and validation sets\n",
        "train_size = int(0.8 * len(dataset))\n",
        "val_size = len(dataset) - train_size\n",
        "train_dataset, val_dataset = random_split(dataset, [train_size, val_size])\n",
        "\n",
        "# Create data loaders\n",
        "train_loader = DataLoader(train_dataset, batch_size=8, shuffle=True)\n",
        "val_loader = DataLoader(val_dataset, batch_size=8, shuffle=False)"
      ],
      "metadata": {
        "id": "PM98ydBCLxHo"
      },
      "execution_count": 53,
      "outputs": []
    },
    {
      "cell_type": "code",
      "source": [
        "class CNNRegression(nn.Module):\n",
        "    def __init__(self):\n",
        "        super(CNNRegression, self).__init__()\n",
        "        self.cnn = models.resnet18(pretrained=True)\n",
        "        cnn_out_features = self.cnn.fc.in_features  # Get the number of output features from the CNN\n",
        "        self.cnn.fc = nn.Identity()  # Remove the last fully connected layer\n",
        "        self.fc1 = nn.Linear(cnn_out_features + 1, 128)  # Adjust input features\n",
        "        self.fc2 = nn.Linear(128, 1)\n",
        "\n",
        "    def forward(self, image, pixel_size):\n",
        "        x1 = self.cnn(image)\n",
        "        x2 = pixel_size.view(-1, 1)  # Ensure x2 has the shape (batch_size, 1)\n",
        "        x = torch.cat((x1, x2), dim=1)  # Concatenate along the feature dimension\n",
        "        x = self.fc1(x)\n",
        "        x = nn.ReLU()(x)\n",
        "        x = self.fc2(x)\n",
        "        return x\n"
      ],
      "metadata": {
        "id": "r3GukRxEL094"
      },
      "execution_count": 54,
      "outputs": []
    },
    {
      "cell_type": "code",
      "source": [
        "# Initialize the model, loss function, and optimizer\n",
        "model = CNNRegression().to(device)\n",
        "criterion = nn.MSELoss()\n",
        "optimizer = optim.Adam(model.parameters(), lr=0.001)"
      ],
      "metadata": {
        "colab": {
          "base_uri": "https://localhost:8080/"
        },
        "id": "WtJUtgUyL2m9",
        "outputId": "63efe32a-c7ce-4b43-c2f6-7d52427452c2"
      },
      "execution_count": 55,
      "outputs": [
        {
          "output_type": "stream",
          "name": "stderr",
          "text": [
            "/usr/local/lib/python3.10/dist-packages/torchvision/models/_utils.py:208: UserWarning: The parameter 'pretrained' is deprecated since 0.13 and may be removed in the future, please use 'weights' instead.\n",
            "  warnings.warn(\n",
            "/usr/local/lib/python3.10/dist-packages/torchvision/models/_utils.py:223: UserWarning: Arguments other than a weight enum or `None` for 'weights' are deprecated since 0.13 and may be removed in the future. The current behavior is equivalent to passing `weights=ResNet18_Weights.IMAGENET1K_V1`. You can also use `weights=ResNet18_Weights.DEFAULT` to get the most up-to-date weights.\n",
            "  warnings.warn(msg)\n"
          ]
        }
      ]
    },
    {
      "cell_type": "code",
      "source": [
        "# Lists to store the loss values\n",
        "train_losses = []\n",
        "val_losses = []\n",
        "\n",
        "# Training loop\n",
        "num_epochs = 16\n",
        "for epoch in range(num_epochs):\n",
        "    model.train()\n",
        "    running_loss = 0.0\n",
        "    for data in train_loader:\n",
        "        images = data['image'].to(device)\n",
        "        pixel_sizes = data['pixel_size'].float().to(device)\n",
        "        targets = data['hc'].float().to(device)\n",
        "\n",
        "        optimizer.zero_grad()\n",
        "        outputs = model(images, pixel_sizes)\n",
        "        loss = criterion(outputs, targets.unsqueeze(1))\n",
        "        loss.backward()\n",
        "        optimizer.step()\n",
        "\n",
        "        running_loss += loss.item()\n",
        "    train_loss = running_loss / len(train_loader)\n",
        "    train_losses.append(train_loss)\n",
        "    print(f\"Epoch {epoch+1}/{num_epochs}, Training Loss: {train_loss}\")\n",
        "\n",
        "    # Validation loop\n",
        "    model.eval()\n",
        "    val_loss = 0.0\n",
        "    with torch.no_grad():\n",
        "        for data in val_loader:\n",
        "            images = data['image'].to(device)\n",
        "            pixel_sizes = data['pixel_size'].float().to(device)\n",
        "            targets = data['hc'].float().to(device)\n",
        "\n",
        "            outputs = model(images, pixel_sizes)\n",
        "            loss = criterion(outputs, targets.unsqueeze(1))\n",
        "            val_loss += loss.item()\n",
        "    val_loss /= len(val_loader)\n",
        "    val_losses.append(val_loss)\n",
        "    print(f\"Epoch {epoch+1}/{num_epochs}, Validation Loss: {val_loss}\")\n",
        "\n",
        "# Plot the training and validation loss\n",
        "plt.figure(figsize=(10, 5))\n",
        "plt.plot(range(1, num_epochs + 1), train_losses, label='Training Loss')\n",
        "plt.plot(range(1, num_epochs + 1), val_losses, label='Validation Loss')\n",
        "plt.xlabel('Epochs')\n",
        "plt.ylabel('Loss')\n",
        "plt.title('Training and Validation Loss Over Epochs')\n",
        "plt.legend()\n",
        "plt.show()"
      ],
      "metadata": {
        "colab": {
          "base_uri": "https://localhost:8080/",
          "height": 1000
        },
        "id": "SZIGfXb6RYXS",
        "outputId": "4017d2b6-aed1-49c6-c858-3feb83bae7f2"
      },
      "execution_count": 56,
      "outputs": [
        {
          "output_type": "stream",
          "name": "stdout",
          "text": [
            "Epoch 1/16, Training Loss: 0.033942287974059585\n",
            "Epoch 1/16, Validation Loss: 0.03015713479369879\n",
            "Epoch 2/16, Training Loss: 0.017725114732747897\n",
            "Epoch 2/16, Validation Loss: 0.004548694873228669\n",
            "Epoch 3/16, Training Loss: 0.006010151584050618\n",
            "Epoch 3/16, Validation Loss: 0.003692738455720246\n",
            "Epoch 4/16, Training Loss: 0.0037947527947835625\n",
            "Epoch 4/16, Validation Loss: 0.0024079716904088855\n",
            "Epoch 5/16, Training Loss: 0.003921893837978132\n",
            "Epoch 5/16, Validation Loss: 0.003590508804190904\n",
            "Epoch 6/16, Training Loss: 0.004324637540848926\n",
            "Epoch 6/16, Validation Loss: 0.0035246872855350373\n",
            "Epoch 7/16, Training Loss: 0.0035187610337743536\n",
            "Epoch 7/16, Validation Loss: 0.005686515644192695\n",
            "Epoch 8/16, Training Loss: 0.0032785128068644554\n",
            "Epoch 8/16, Validation Loss: 0.0031679403828456998\n",
            "Epoch 9/16, Training Loss: 0.002816161811060738\n",
            "Epoch 9/16, Validation Loss: 0.004074533390812576\n",
            "Epoch 10/16, Training Loss: 0.0026310445929993874\n",
            "Epoch 10/16, Validation Loss: 0.004963449430651963\n",
            "Epoch 11/16, Training Loss: 0.0026064988829602952\n",
            "Epoch 11/16, Validation Loss: 0.004162714742124081\n",
            "Epoch 12/16, Training Loss: 0.0021460424366523513\n",
            "Epoch 12/16, Validation Loss: 0.004348458766471595\n",
            "Epoch 13/16, Training Loss: 0.0013829130520753097\n",
            "Epoch 13/16, Validation Loss: 0.002584898129571229\n",
            "Epoch 14/16, Training Loss: 0.0016606946088722908\n",
            "Epoch 14/16, Validation Loss: 0.0020128985354676845\n",
            "Epoch 15/16, Training Loss: 0.00135250445237034\n",
            "Epoch 15/16, Validation Loss: 0.0027223758841864766\n",
            "Epoch 16/16, Training Loss: 0.0010817650175886228\n",
            "Epoch 16/16, Validation Loss: 0.0018681862438097597\n"
          ]
        },
        {
          "output_type": "display_data",
          "data": {
            "text/plain": [
              "<Figure size 1000x500 with 1 Axes>"
            ],
            "image/png": "[encoded data removed]"
          },
          "metadata": {}
        }
      ]
    },
    {
      "cell_type": "code",
      "execution_count": 57,
      "metadata": {
        "colab": {
          "base_uri": "https://localhost:8080/"
        },
        "id": "JU8cTgW3LUjE",
        "outputId": "ed7dd838-6126-407c-b58f-4c96a762348c"
      },
      "outputs": [
        {
          "output_type": "stream",
          "name": "stdout",
          "text": [
            "Mean Squared Error: 0.0018681862857192755\n"
          ]
        }
      ],
      "source": [
        "# Evaluate model performance\n",
        "y_true = []\n",
        "y_pred = []\n",
        "model.eval()\n",
        "with torch.no_grad():\n",
        "    for data in val_loader:\n",
        "        images = data['image'].to(device)\n",
        "        pixel_sizes = data['pixel_size'].float().to(device)\n",
        "        targets = data['hc'].float().to(device)\n",
        "\n",
        "        outputs = model(images, pixel_sizes)\n",
        "        y_true.extend(targets.cpu().numpy())\n",
        "        y_pred.extend(outputs.cpu().numpy())\n",
        "\n",
        "mse = mean_squared_error(y_true, y_pred)\n",
        "print(f\"Mean Squared Error: {mse}\")\n"
      ]
    },
    {
      "cell_type": "code",
      "source": [
        "def predict_head_circumference(image_path, pixel_size, model, min_hc, max_hc):\n",
        "    transform = transforms.Compose([\n",
        "        transforms.Resize((224, 224)),\n",
        "        transforms.ToTensor(),\n",
        "        transforms.Normalize(mean=[0.485, 0.456, 0.406], std=[0.229, 0.224, 0.225])\n",
        "    ])\n",
        "    image = Image.open(image_path).convert('RGB')\n",
        "    image_tensor = transform(image).unsqueeze(0)  # Add batch dimension\n",
        "    pixel_size_tensor = torch.tensor([pixel_size]).float().view(1, 1)  # Ensure it has the shape (1, 1)\n",
        "\n",
        "    with torch.no_grad():\n",
        "        output = model(image_tensor.to(device), pixel_size_tensor.to(device))\n",
        "\n",
        "    predicted_normalized_hc = output.item()\n",
        "    predicted_hc = predicted_normalized_hc * (max_hc - min_hc) + min_hc  # De-normalize the prediction\n",
        "    return predicted_hc\n"
      ],
      "metadata": {
        "id": "xQnt4XNtSd-7"
      },
      "execution_count": 58,
      "outputs": []
    },
    {
      "cell_type": "code",
      "source": [
        "# Ensure the min_hc and max_hc are defined\n",
        "min_hc = train_csv_df['head circumference (mm)'].min()\n",
        "max_hc = train_csv_df['head circumference (mm)'].max()\n",
        "num_images_to_test = len(train_csv_df)\n",
        "indices = range(num_images_to_test)  # Generate a sequence of indices from 0 to num_images_to_test-1\n",
        "\n",
        "# Initialize a list to store the results\n",
        "results = []\n",
        "absolute_errors = []\n",
        "counter = 0\n",
        "percentage_error_counter = 0  # Counter for errors less than 5%\n",
        "threshold_param = 0.05\n",
        "\n",
        "# Variables to track the maximum absolute error and corresponding details\n",
        "max_absolute_error = -1\n",
        "max_error_image = \"\"\n",
        "max_error_predicted = -1\n",
        "max_error_ground_truth = -1\n",
        "\n",
        "# Loop through the selected images\n",
        "for idx in indices:\n",
        "    image_name = train_csv_df.iloc[idx, 0]\n",
        "    image_path = os.path.join(\"/content/drive/MyDrive/FinalProject/Dataset/training_set/training_set/\", image_name)\n",
        "    ground_truth_circumference = train_csv_df.iloc[idx, 2]  # Assuming the third column contains the head circumference labels\n",
        "    pixel_size = train_csv_df.iloc[idx, 1]  # Assuming the second column contains the pixel size\n",
        "\n",
        "    # Call the function to predict head circumference from the image\n",
        "    predicted_circumference = predict_head_circumference(image_path, pixel_size, model, min_hc, max_hc)\n",
        "\n",
        "    # Calculate the absolute error\n",
        "    absolute_error = abs(predicted_circumference - ground_truth_circumference)\n",
        "    absolute_errors.append(absolute_error)\n",
        "\n",
        "    # Calculate the 5% threshold for the ground truth circumference\n",
        "    threshold = threshold_param * ground_truth_circumference\n",
        "\n",
        "    # Check if the absolute error is less than the 5% threshold\n",
        "    if absolute_error < threshold:\n",
        "        percentage_error_counter += 1\n",
        "\n",
        "    # Track the maximum absolute error\n",
        "    if absolute_error > max_absolute_error:\n",
        "        max_absolute_error = absolute_error\n",
        "        max_error_image = image_path\n",
        "        max_error_predicted = predicted_circumference\n",
        "        max_error_ground_truth = ground_truth_circumference\n",
        "\n",
        "    # Create the result string\n",
        "    result_string = (f\"Image: {image_path}\\n\"\n",
        "                     f\"Predicted Head Circumference: {predicted_circumference}\\n\"\n",
        "                     f\"Ground Truth Head Circumference: {ground_truth_circumference}\\n\"\n",
        "                     f\"Pixel Size: {pixel_size}\\n\"\n",
        "                     f\"Absolute Error: {absolute_error}\\n\"\n",
        "                     f\"5% Threshold: {threshold}\\n\"\n",
        "                     \"****************************\\n\")\n",
        "\n",
        "    # Append the result to the list\n",
        "    results.append([image_name, result_string, absolute_error])\n",
        "\n",
        "\n",
        "# Convert the results to a DataFrame and save to a CSV file\n",
        "results_df = pd.DataFrame(results, columns=['Image', 'Result', 'Absolute Error'])\n",
        "results_csv_path = \"/content/drive/MyDrive/FinalProject/results.csv\"\n",
        "results_df.to_csv(results_csv_path, index=False)\n",
        "\n",
        "# Print summary\n",
        "print(f\"Results saved to {results_csv_path}\")\n",
        "print(f\"Total Images with Error < {threshold_param * 100}% of Ground Truth: {percentage_error_counter}\")\n",
        "print(f\"Percentage: {percentage_error_counter / num_images_to_test * 100:.2f}%\")\n",
        "\n",
        "# Print the image with the biggest absolute error\n",
        "print(\"Image with the biggest absolute error:\")\n",
        "print(f\"Image: {max_error_image}\")\n",
        "print(f\"Predicted Head Circumference: {max_error_predicted}\")\n",
        "print(f\"Ground Truth Head Circumference: {max_error_ground_truth}\")\n",
        "print(f\"Absolute Error: {max_absolute_error}\")\n"
      ],
      "metadata": {
        "colab": {
          "base_uri": "https://localhost:8080/"
        },
        "id": "OAqHs4RJZr9l",
        "outputId": "d4c4adc1-c4bb-43a8-a874-de5c68f98aac"
      },
      "execution_count": 60,
      "outputs": [
        {
          "output_type": "stream",
          "name": "stdout",
          "text": [
            "Results saved to /content/drive/MyDrive/FinalProject/results.csv\n",
            "Total Images with Error < 5.0% of Ground Truth: 749\n",
            "Percentage: 74.97%\n",
            "Image with the biggest absolute error:\n",
            "Image: /content/drive/MyDrive/FinalProject/Dataset/training_set/training_set/711_HC.png\n",
            "Predicted Head Circumference: 222.1244629859924\n",
            "Ground Truth Head Circumference: 287.98\n",
            "Absolute Error: 65.85553701400761\n"
          ]
        }
      ]
    }
  ]
}